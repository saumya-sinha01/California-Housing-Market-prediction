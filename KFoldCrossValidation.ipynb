{
 "cells": [
  {
   "cell_type": "code",
   "execution_count": 1,
   "id": "e1a1cbc6",
   "metadata": {},
   "outputs": [],
   "source": [
    "import sys\n",
    "import math\n",
    "import json\n",
    "import pandas as pd\n",
    "import seaborn as sns\n",
    "import numpy as np\n",
    "import matplotlib.pyplot as plt\n",
    "import plotly.express as px\n",
    "import missingno as msno\n",
    "%matplotlib inline\n",
    "from sklearn.feature_selection import RFE\n",
    "from sklearn.model_selection import train_test_split\n",
    "from sklearn.ensemble import RandomForestClassifier\n",
    "from sklearn.metrics import classification_report\n",
    "from sklearn.model_selection import KFold\n",
    "from sklearn.model_selection import StratifiedKFold\n",
    "from sklearn.tree import DecisionTreeClassifier\n",
    "from sklearn.linear_model import LogisticRegression\n",
    "from sklearn.naive_bayes import GaussianNB\n",
    "from sklearn.model_selection import cross_val_score"
   ]
  },
  {
   "cell_type": "code",
   "execution_count": 2,
   "id": "e8787ecb",
   "metadata": {},
   "outputs": [],
   "source": [
    "df = pd.read_csv ('data.csv',encoding='utf-8-sig')\n",
    "df.drop('Unnamed: 0', axis=1, inplace=True)\n",
    "df.drop('CA', axis=1, inplace=True)\n",
    "df.drop('year', axis=1, inplace=True)\n",
    "df.drop('month', axis=1, inplace=True)\n",
    "df.drop('median_dom', axis=1, inplace=True)"
   ]
  },
  {
   "cell_type": "code",
   "execution_count": 3,
   "id": "55151528",
   "metadata": {},
   "outputs": [
    {
     "data": {
      "text/plain": [
       "(156524, 94)"
      ]
     },
     "execution_count": 3,
     "metadata": {},
     "output_type": "execute_result"
    }
   ],
   "source": [
    "df.shape"
   ]
  },
  {
   "cell_type": "code",
   "execution_count": 4,
   "id": "0734dfe6",
   "metadata": {},
   "outputs": [],
   "source": [
    "y = df['quality']\n",
    "X = df.drop('quality',axis=1)\n",
    "#, x_test, y_train, y_test = train_test_split(X, y, test_size=0.70, random_state=42)\n",
    "X_train, X_test, y_train, y_test = train_test_split(X, y, test_size=0.1, random_state=1)\n",
    "\n",
    "X_train, X_val, y_train, y_val = train_test_split(X_train, y_train, test_size=0.1, random_state=1) # 0.25 x 0.8 = 0.2"
   ]
  },
  {
   "cell_type": "code",
   "execution_count": 5,
   "id": "d957b92b",
   "metadata": {},
   "outputs": [
    {
     "name": "stdout",
     "output_type": "stream",
     "text": [
      "X_train: 126783\n",
      "X_test: 15653\n",
      "X_val: 14088\n",
      "\n",
      "\n",
      "y_train: 126783\n",
      "y_test: 15653\n",
      "y_val: 14088\n"
     ]
    }
   ],
   "source": [
    "print(\"X_train: \"+str(len(X_train)))\n",
    "print(\"X_test: \"+str(len(X_test)))\n",
    "print(\"X_val: \"+str(len(X_val)))\n",
    "print(\"\\n\")\n",
    "print(\"y_train: \"+str(len(y_train)))\n",
    "print(\"y_test: \"+str(len(y_test)))\n",
    "print(\"y_val: \"+str(len(y_val)))"
   ]
  },
  {
   "cell_type": "code",
   "execution_count": 6,
   "id": "3467941d",
   "metadata": {},
   "outputs": [],
   "source": [
    "models=[]\n",
    "models.append(('DecisionTree',DecisionTreeClassifier()))\n",
    "models.append(('GaussianNB',GaussianNB()))"
   ]
  },
  {
   "cell_type": "code",
   "execution_count": 7,
   "id": "4f9d403e",
   "metadata": {},
   "outputs": [
    {
     "name": "stdout",
     "output_type": "stream",
     "text": [
      "DecisionTree:0.590221 (0.002916)\n",
      "GaussianNB:0.380193 (0.003757)\n"
     ]
    }
   ],
   "source": [
    "#K-Fold with 10 folds..\n",
    "results=[]\n",
    "names=[]\n",
    "for name, model in models:\n",
    "    kfold=KFold(n_splits=10,random_state=42, shuffle=True)\n",
    "    cv_results=cross_val_score(model,X_train, y_train, cv=kfold, scoring='accuracy')\n",
    "    results.append(cv_results)\n",
    "    names.append(name)\n",
    "    msg=\"%s:%f (%f)\" % (name, cv_results.mean(), cv_results.std())\n",
    "    print(msg)\n",
    "\n"
   ]
  },
  {
   "cell_type": "code",
   "execution_count": 8,
   "id": "af5bc72f",
   "metadata": {},
   "outputs": [],
   "source": [
    "# gaussian performed better hee as it has lower mean and also less std with each folds"
   ]
  },
  {
   "cell_type": "code",
   "execution_count": 9,
   "id": "8695524a",
   "metadata": {},
   "outputs": [],
   "source": [
    "models=[]\n",
    "# models.append(('LogisticRegression',LogisticRegression(solver='saga')))\n",
    "models.append(('GaussianNB',GaussianNB()))"
   ]
  },
  {
   "cell_type": "code",
   "execution_count": 10,
   "id": "748cab54",
   "metadata": {},
   "outputs": [
    {
     "name": "stdout",
     "output_type": "stream",
     "text": [
      "GaussianNB:0.379846 (0.001823)\n"
     ]
    }
   ],
   "source": [
    "#K-Fold with 10 folds..\n",
    "results=[]\n",
    "names=[]\n",
    "for name, model in models:\n",
    "    stratifiedKfold=StratifiedKFold(n_splits=10,random_state=42, shuffle=True)\n",
    "    cv_results=cross_val_score(model,X_train, y_train, cv=stratifiedKfold, scoring='accuracy')\n",
    "    results.append(cv_results)\n",
    "    names.append(name)\n",
    "    msg=\"%s:%f (%f)\" % (name, cv_results.mean(), cv_results.std())\n",
    "    print(msg)\n",
    "\n"
   ]
  }
 ],
 "metadata": {
  "kernelspec": {
   "display_name": "Python 3 (ipykernel)",
   "language": "python",
   "name": "python3"
  },
  "language_info": {
   "codemirror_mode": {
    "name": "ipython",
    "version": 3
   },
   "file_extension": ".py",
   "mimetype": "text/x-python",
   "name": "python",
   "nbconvert_exporter": "python",
   "pygments_lexer": "ipython3",
   "version": "3.9.12"
  }
 },
 "nbformat": 4,
 "nbformat_minor": 5
}
