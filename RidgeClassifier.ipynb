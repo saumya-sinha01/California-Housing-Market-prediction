{
 "cells": [
  {
   "cell_type": "code",
   "execution_count": null,
   "id": "df58f5ed",
   "metadata": {},
   "outputs": [],
   "source": [
    "import pandas as pd\n",
    "import numpy as np\n",
    "from sklearn.feature_selection import RFE\n",
    "from sklearn.model_selection import train_test_split\n",
    "from sklearn.metrics import classification_report\n",
    "from sklearn.linear_model import RidgeClassifier"
   ]
  },
  {
   "cell_type": "code",
   "execution_count": null,
   "id": "14eca962",
   "metadata": {},
   "outputs": [],
   "source": [
    "df = pd.read_csv ('data.csv',encoding='utf-8-sig')\n",
    "df.drop('Unnamed: 0', axis=1, inplace=True)\n",
    "df.drop('CA', axis=1, inplace=True)\n",
    "df.drop('year', axis=1, inplace=True)\n",
    "df.drop('month', axis=1, inplace=True)\n",
    "df.drop('median_dom', axis=1, inplace=True)"
   ]
  },
  {
   "cell_type": "code",
   "execution_count": null,
   "id": "c2b1aae6",
   "metadata": {},
   "outputs": [],
   "source": [
    "df.head()"
   ]
  },
  {
   "cell_type": "code",
   "execution_count": null,
   "id": "dce88b45",
   "metadata": {},
   "outputs": [],
   "source": [
    "y = df['quality']\n",
    "X = df.drop('quality',axis=1)\n",
    "#, x_test, y_train, y_test = train_test_split(X, y, test_size=0.70, random_state=42)\n",
    "X_train, X_test, y_train, y_test = train_test_split(X, y, test_size=0.10, random_state=1)\n",
    "\n",
    "X_train, X_val, y_train, y_val = train_test_split(X_train, y_train, test_size=0.10, random_state=1)"
   ]
  },
  {
   "cell_type": "code",
   "execution_count": null,
   "id": "bf7390de",
   "metadata": {},
   "outputs": [],
   "source": [
    "print(\"X_train: \"+str(len(X_train)))\n",
    "print(\"X_test: \"+str(len(X_test)))\n",
    "print(\"X_val: \"+str(len(X_val)))\n",
    "print(\"\\n\")\n",
    "print(\"y_train: \"+str(len(y_train)))\n",
    "print(\"y_test: \"+str(len(y_test)))\n",
    "print(\"y_val: \"+str(len(y_val)))\n"
   ]
  },
  {
   "cell_type": "code",
   "execution_count": null,
   "id": "d5c1ca75",
   "metadata": {},
   "outputs": [],
   "source": [
    "ridgeClf = RidgeClassifier()"
   ]
  },
  {
   "cell_type": "code",
   "execution_count": null,
   "id": "f93ca98c",
   "metadata": {},
   "outputs": [],
   "source": [
    "ridgeClf.fit(X_train,y_train)\n",
    "\n",
    "# Test Set\n",
    "y_pred = ridgeClf.predict(X_test)\n",
    "print(classification_report(y_test, y_pred))\n",
    "\n",
    "\n",
    "# Validation Set\n",
    "y_val_pred = ridgeClf.predict(X_val)\n",
    "print(classification_report(y_val, y_val_pred))"
   ]
  },
  {
   "cell_type": "code",
   "execution_count": null,
   "id": "0b10a0a6",
   "metadata": {},
   "outputs": [],
   "source": [
    "#Check train accuracy\n",
    "y_train_pred = ridgeClf.predict(X_train)\n",
    "print(classification_report(y_train, y_train_pred))\n"
   ]
  }
 ],
 "metadata": {
  "kernelspec": {
   "display_name": "Python 3 (ipykernel)",
   "language": "python",
   "name": "python3"
  },
  "language_info": {
   "codemirror_mode": {
    "name": "ipython",
    "version": 3
   },
   "file_extension": ".py",
   "mimetype": "text/x-python",
   "name": "python",
   "nbconvert_exporter": "python",
   "pygments_lexer": "ipython3",
   "version": "3.8.12"
  }
 },
 "nbformat": 4,
 "nbformat_minor": 5
}
