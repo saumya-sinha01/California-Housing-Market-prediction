{
 "cells": [
  {
   "cell_type": "code",
   "execution_count": 1,
   "id": "d47c3362",
   "metadata": {},
   "outputs": [],
   "source": [
    "import pandas as pd\n",
    "import numpy as np\n",
    "from sklearn.model_selection import train_test_split\n",
    "from sklearn.metrics import classification_report\n",
    "from sklearn.naive_bayes import MultinomialNB\n",
    "from sklearn.naive_bayes import GaussianNB"
   ]
  },
  {
   "cell_type": "code",
   "execution_count": 2,
   "id": "f95ee64b",
   "metadata": {},
   "outputs": [],
   "source": [
    "df = pd.read_csv ('data.csv',encoding='utf-8-sig')\n",
    "df.drop('Unnamed: 0', axis=1, inplace=True)\n",
    "df.drop('CA', axis=1, inplace=True)\n",
    "df.drop('year', axis=1, inplace=True)\n",
    "df.drop('month', axis=1, inplace=True)\n",
    "df.drop('median_dom', axis=1, inplace=True)"
   ]
  },
  {
   "cell_type": "code",
   "execution_count": 3,
   "id": "dbd2179a",
   "metadata": {},
   "outputs": [],
   "source": [
    "y = df['quality']\n",
    "X = df.drop('quality',axis=1)\n",
    "#, x_test, y_train, y_test = train_test_split(X, y, test_size=0.70, random_state=42)\n",
    "X_train, X_test, y_train, y_test = train_test_split(X, y, test_size=0.1, random_state=1)\n",
    "\n",
    "X_train, X_val, y_train, y_val = train_test_split(X_train, y_train, test_size=0.1, random_state=1) # 0.25 x 0.8 = 0.2"
   ]
  },
  {
   "cell_type": "code",
   "execution_count": 4,
   "id": "f2f6f778",
   "metadata": {},
   "outputs": [
    {
     "name": "stdout",
     "output_type": "stream",
     "text": [
      "X_train: 126783\n",
      "X_test: 15653\n",
      "X_val: 14088\n",
      "\n",
      "\n",
      "y_train: 126783\n",
      "y_test: 15653\n",
      "y_val: 14088\n"
     ]
    }
   ],
   "source": [
    "print(\"X_train: \"+str(len(X_train)))\n",
    "print(\"X_test: \"+str(len(X_test)))\n",
    "print(\"X_val: \"+str(len(X_val)))\n",
    "print(\"\\n\")\n",
    "print(\"y_train: \"+str(len(y_train)))\n",
    "print(\"y_test: \"+str(len(y_test)))\n",
    "print(\"y_val: \"+str(len(y_val)))\n"
   ]
  },
  {
   "cell_type": "code",
   "execution_count": 5,
   "id": "b39b5669",
   "metadata": {},
   "outputs": [],
   "source": [
    "# MultinomialNB Classifier..\n",
    "mnb = MultinomialNB()"
   ]
  },
  {
   "cell_type": "code",
   "execution_count": 6,
   "id": "64c1ec61",
   "metadata": {},
   "outputs": [
    {
     "name": "stdout",
     "output_type": "stream",
     "text": [
      "              precision    recall  f1-score   support\n",
      "\n",
      "           0       0.46      0.51      0.48      4486\n",
      "           1       0.41      0.37      0.39      4997\n",
      "           2       0.53      0.53      0.53      6170\n",
      "\n",
      "    accuracy                           0.47     15653\n",
      "   macro avg       0.47      0.47      0.47     15653\n",
      "weighted avg       0.47      0.47      0.47     15653\n",
      "\n",
      "              precision    recall  f1-score   support\n",
      "\n",
      "           0       0.46      0.50      0.48      4029\n",
      "           1       0.41      0.38      0.39      4446\n",
      "           2       0.54      0.53      0.54      5613\n",
      "\n",
      "    accuracy                           0.47     14088\n",
      "   macro avg       0.47      0.47      0.47     14088\n",
      "weighted avg       0.47      0.47      0.47     14088\n",
      "\n"
     ]
    }
   ],
   "source": [
    "mnb.fit(X_train,y_train)\n",
    "\n",
    "# Test Set\n",
    "y_pred = mnb.predict(X_test)\n",
    "print(classification_report(y_test, y_pred))\n",
    "\n",
    "\n",
    "# Validation Set\n",
    "y_val_pred = mnb.predict(X_val)\n",
    "print(classification_report(y_val, y_val_pred))"
   ]
  },
  {
   "cell_type": "code",
   "execution_count": 7,
   "id": "a2088f57",
   "metadata": {},
   "outputs": [],
   "source": [
    "# GaussianNB Classifier..\n",
    "gnb = GaussianNB()"
   ]
  },
  {
   "cell_type": "code",
   "execution_count": 8,
   "id": "6126d5f9",
   "metadata": {},
   "outputs": [
    {
     "name": "stdout",
     "output_type": "stream",
     "text": [
      "              precision    recall  f1-score   support\n",
      "\n",
      "           0       0.33      0.86      0.48      4486\n",
      "           1       0.40      0.21      0.27      4997\n",
      "           2       0.74      0.17      0.28      6170\n",
      "\n",
      "    accuracy                           0.38     15653\n",
      "   macro avg       0.49      0.41      0.34     15653\n",
      "weighted avg       0.51      0.38      0.33     15653\n",
      "\n",
      "              precision    recall  f1-score   support\n",
      "\n",
      "           0       0.33      0.85      0.48      4029\n",
      "           1       0.38      0.21      0.27      4446\n",
      "           2       0.73      0.17      0.27      5613\n",
      "\n",
      "    accuracy                           0.38     14088\n",
      "   macro avg       0.48      0.41      0.34     14088\n",
      "weighted avg       0.50      0.38      0.33     14088\n",
      "\n"
     ]
    }
   ],
   "source": [
    "gnb.fit(X_train,y_train)\n",
    "\n",
    "# Test Set\n",
    "y_pred = gnb.predict(X_test)\n",
    "print(classification_report(y_test, y_pred))\n",
    "\n",
    "\n",
    "# Validation Set\n",
    "y_val_pred = gnb.predict(X_val)\n",
    "print(classification_report(y_val, y_val_pred))"
   ]
  },
  {
   "cell_type": "code",
   "execution_count": null,
   "id": "81189e00",
   "metadata": {},
   "outputs": [],
   "source": []
  }
 ],
 "metadata": {
  "kernelspec": {
   "display_name": "Python 3 (ipykernel)",
   "language": "python",
   "name": "python3"
  },
  "language_info": {
   "codemirror_mode": {
    "name": "ipython",
    "version": 3
   },
   "file_extension": ".py",
   "mimetype": "text/x-python",
   "name": "python",
   "nbconvert_exporter": "python",
   "pygments_lexer": "ipython3",
   "version": "3.8.12"
  }
 },
 "nbformat": 4,
 "nbformat_minor": 5
}
