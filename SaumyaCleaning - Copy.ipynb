{
 "cells": [
  {
   "cell_type": "code",
   "execution_count": 1,
   "id": "8641f145",
   "metadata": {},
   "outputs": [],
   "source": [
    "import sys\n",
    "import math\n",
    "import json\n",
    "import pandas as pd\n",
    "import seaborn as sns\n",
    "import numpy as np\n",
    "import matplotlib.pyplot as plt\n",
    "import plotly.express as px\n",
    "import missingno as msno\n",
    "%matplotlib inline\n",
    "from sklearn.feature_selection import RFE\n",
    "from sklearn.preprocessing import OneHotEncoder\n",
    "from sklearn.preprocessing import LabelEncoder\n",
    "# pd.set_option('display.max_rows', 500)\n",
    "# pd.set_option('display.max_columns', 500)\n",
    "# pd.set_option('display.width', 1000)\n"
   ]
  },
  {
   "cell_type": "code",
   "execution_count": 2,
   "id": "327957af",
   "metadata": {},
   "outputs": [],
   "source": [
    "df = pd.read_csv(\"data_before_normazised.csv\")"
   ]
  },
  {
   "cell_type": "code",
   "execution_count": 3,
   "id": "4dccd835",
   "metadata": {},
   "outputs": [
    {
     "data": {
      "text/html": [
       "<div>\n",
       "<style scoped>\n",
       "    .dataframe tbody tr th:only-of-type {\n",
       "        vertical-align: middle;\n",
       "    }\n",
       "\n",
       "    .dataframe tbody tr th {\n",
       "        vertical-align: top;\n",
       "    }\n",
       "\n",
       "    .dataframe thead th {\n",
       "        text-align: right;\n",
       "    }\n",
       "</style>\n",
       "<table border=\"1\" class=\"dataframe\">\n",
       "  <thead>\n",
       "    <tr style=\"text-align: right;\">\n",
       "      <th></th>\n",
       "      <th>Unnamed: 0</th>\n",
       "      <th>city</th>\n",
       "      <th>median_sale_price</th>\n",
       "      <th>median_list_price</th>\n",
       "      <th>median_ppsf</th>\n",
       "      <th>median_list_ppsf</th>\n",
       "      <th>homes_sold</th>\n",
       "      <th>pending_sales</th>\n",
       "      <th>new_listings</th>\n",
       "      <th>inventory</th>\n",
       "      <th>...</th>\n",
       "      <th>42200</th>\n",
       "      <th>42220</th>\n",
       "      <th>43760</th>\n",
       "      <th>44700</th>\n",
       "      <th>45000</th>\n",
       "      <th>46020</th>\n",
       "      <th>46380</th>\n",
       "      <th>46700</th>\n",
       "      <th>47300</th>\n",
       "      <th>49700</th>\n",
       "    </tr>\n",
       "  </thead>\n",
       "  <tbody>\n",
       "    <tr>\n",
       "      <th>0</th>\n",
       "      <td>0</td>\n",
       "      <td>1124</td>\n",
       "      <td>180000.0</td>\n",
       "      <td>125800.00000</td>\n",
       "      <td>102.564103</td>\n",
       "      <td>90.752462</td>\n",
       "      <td>19</td>\n",
       "      <td>10.000000</td>\n",
       "      <td>6.000000</td>\n",
       "      <td>16.000000</td>\n",
       "      <td>...</td>\n",
       "      <td>0</td>\n",
       "      <td>0</td>\n",
       "      <td>0</td>\n",
       "      <td>0</td>\n",
       "      <td>0</td>\n",
       "      <td>0</td>\n",
       "      <td>0</td>\n",
       "      <td>0</td>\n",
       "      <td>0</td>\n",
       "      <td>0</td>\n",
       "    </tr>\n",
       "    <tr>\n",
       "      <th>1</th>\n",
       "      <td>1</td>\n",
       "      <td>426</td>\n",
       "      <td>477500.0</td>\n",
       "      <td>600000.00000</td>\n",
       "      <td>528.221778</td>\n",
       "      <td>524.475525</td>\n",
       "      <td>2</td>\n",
       "      <td>1.000000</td>\n",
       "      <td>1.000000</td>\n",
       "      <td>1.000000</td>\n",
       "      <td>...</td>\n",
       "      <td>0</td>\n",
       "      <td>0</td>\n",
       "      <td>0</td>\n",
       "      <td>0</td>\n",
       "      <td>0</td>\n",
       "      <td>0</td>\n",
       "      <td>0</td>\n",
       "      <td>0</td>\n",
       "      <td>0</td>\n",
       "      <td>0</td>\n",
       "    </tr>\n",
       "    <tr>\n",
       "      <th>2</th>\n",
       "      <td>2</td>\n",
       "      <td>360</td>\n",
       "      <td>450000.0</td>\n",
       "      <td>694801.66751</td>\n",
       "      <td>300.000000</td>\n",
       "      <td>428.895978</td>\n",
       "      <td>1</td>\n",
       "      <td>10.026163</td>\n",
       "      <td>12.991399</td>\n",
       "      <td>26.321098</td>\n",
       "      <td>...</td>\n",
       "      <td>0</td>\n",
       "      <td>0</td>\n",
       "      <td>0</td>\n",
       "      <td>0</td>\n",
       "      <td>0</td>\n",
       "      <td>0</td>\n",
       "      <td>0</td>\n",
       "      <td>0</td>\n",
       "      <td>0</td>\n",
       "      <td>0</td>\n",
       "    </tr>\n",
       "    <tr>\n",
       "      <th>3</th>\n",
       "      <td>3</td>\n",
       "      <td>1306</td>\n",
       "      <td>295000.0</td>\n",
       "      <td>250000.00000</td>\n",
       "      <td>185.897436</td>\n",
       "      <td>175.606641</td>\n",
       "      <td>3</td>\n",
       "      <td>10.026163</td>\n",
       "      <td>1.000000</td>\n",
       "      <td>3.000000</td>\n",
       "      <td>...</td>\n",
       "      <td>0</td>\n",
       "      <td>0</td>\n",
       "      <td>0</td>\n",
       "      <td>0</td>\n",
       "      <td>0</td>\n",
       "      <td>0</td>\n",
       "      <td>0</td>\n",
       "      <td>0</td>\n",
       "      <td>0</td>\n",
       "      <td>0</td>\n",
       "    </tr>\n",
       "    <tr>\n",
       "      <th>4</th>\n",
       "      <td>4</td>\n",
       "      <td>487</td>\n",
       "      <td>895000.0</td>\n",
       "      <td>579900.00000</td>\n",
       "      <td>382.910117</td>\n",
       "      <td>285.946746</td>\n",
       "      <td>3</td>\n",
       "      <td>3.000000</td>\n",
       "      <td>1.000000</td>\n",
       "      <td>1.000000</td>\n",
       "      <td>...</td>\n",
       "      <td>0</td>\n",
       "      <td>0</td>\n",
       "      <td>0</td>\n",
       "      <td>0</td>\n",
       "      <td>0</td>\n",
       "      <td>0</td>\n",
       "      <td>0</td>\n",
       "      <td>1</td>\n",
       "      <td>0</td>\n",
       "      <td>0</td>\n",
       "    </tr>\n",
       "  </tbody>\n",
       "</table>\n",
       "<p>5 rows × 99 columns</p>\n",
       "</div>"
      ],
      "text/plain": [
       "   Unnamed: 0  city  median_sale_price  median_list_price  median_ppsf  \\\n",
       "0           0  1124           180000.0       125800.00000   102.564103   \n",
       "1           1   426           477500.0       600000.00000   528.221778   \n",
       "2           2   360           450000.0       694801.66751   300.000000   \n",
       "3           3  1306           295000.0       250000.00000   185.897436   \n",
       "4           4   487           895000.0       579900.00000   382.910117   \n",
       "\n",
       "   median_list_ppsf  homes_sold  pending_sales  new_listings  inventory  ...  \\\n",
       "0         90.752462          19      10.000000      6.000000  16.000000  ...   \n",
       "1        524.475525           2       1.000000      1.000000   1.000000  ...   \n",
       "2        428.895978           1      10.026163     12.991399  26.321098  ...   \n",
       "3        175.606641           3      10.026163      1.000000   3.000000  ...   \n",
       "4        285.946746           3       3.000000      1.000000   1.000000  ...   \n",
       "\n",
       "   42200  42220  43760  44700  45000  46020  46380  46700  47300  49700  \n",
       "0      0      0      0      0      0      0      0      0      0      0  \n",
       "1      0      0      0      0      0      0      0      0      0      0  \n",
       "2      0      0      0      0      0      0      0      0      0      0  \n",
       "3      0      0      0      0      0      0      0      0      0      0  \n",
       "4      0      0      0      0      0      0      0      1      0      0  \n",
       "\n",
       "[5 rows x 99 columns]"
      ]
     },
     "execution_count": 3,
     "metadata": {},
     "output_type": "execute_result"
    }
   ],
   "source": [
    "df.head()"
   ]
  },
  {
   "cell_type": "code",
   "execution_count": 4,
   "id": "04b0b4f4",
   "metadata": {},
   "outputs": [
    {
     "data": {
      "text/plain": [
       "Index(['Unnamed: 0', 'city', 'median_sale_price', 'median_list_price',\n",
       "       'median_ppsf', 'median_list_ppsf', 'homes_sold', 'pending_sales',\n",
       "       'new_listings', 'inventory', 'months_of_supply', 'median_dom',\n",
       "       'avg_sale_to_list', 'sold_above_list', 'price_drops',\n",
       "       'off_market_in_two_weeks', 'year', 'month', 'MORTGAGE30US',\n",
       "       'PropertyType_All_Residential', 'PropertyType_Condo/Co-op',\n",
       "       'PropertyType_Multi-Family(2-4 Unit)',\n",
       "       'PropertyType_Single_Family_Residential', 'PropertyType_Townhouse ',\n",
       "       'CA', 'California', 'Anaheim', 'Bakersfield', 'Chico', 'Clearlake',\n",
       "       'El Centro', 'Eureka', 'Fresno', 'Hanford', 'Los Angeles', 'Madera',\n",
       "       'Merced', 'Modesto', 'Napa', 'Oakland', 'Oxnard', 'Red Bluff',\n",
       "       'Redding', 'Riverside', 'Sacramento', 'Salinas', 'San Diego',\n",
       "       'San Francisco', 'San Jose', 'San Luis Obispo', 'San Rafael',\n",
       "       'Santa Cruz', 'Santa Maria', 'Santa Rosa', 'Sonora', 'Stockton',\n",
       "       'Susanville', 'Truckee', 'Ukiah', 'Vallejo', 'Visalia', 'Yuba City',\n",
       "       'quality', '11244', '12540', '17020', '17340', '20940', '21700',\n",
       "       '23420', '25260', '31084', '31460', '32900', '33700', '34900', '36084',\n",
       "       '37100', '39780', '39820', '40140', '40900', '41500', '41740', '41884',\n",
       "       '41940', '42020', '42034', '42100', '42200', '42220', '43760', '44700',\n",
       "       '45000', '46020', '46380', '46700', '47300', '49700'],\n",
       "      dtype='object')"
      ]
     },
     "execution_count": 4,
     "metadata": {},
     "output_type": "execute_result"
    }
   ],
   "source": [
    "df.columns"
   ]
  },
  {
   "cell_type": "code",
   "execution_count": 5,
   "id": "4e5f32ca",
   "metadata": {},
   "outputs": [
    {
     "ename": "KeyError",
     "evalue": "\"['state', 'state_code', 'property_type', 'parent_metro_region', 'parent_metro_region_metro_code'] not in index\"",
     "output_type": "error",
     "traceback": [
      "\u001b[1;31m---------------------------------------------------------------------------\u001b[0m",
      "\u001b[1;31mKeyError\u001b[0m                                  Traceback (most recent call last)",
      "Input \u001b[1;32mIn [5]\u001b[0m, in \u001b[0;36m<cell line: 5>\u001b[1;34m()\u001b[0m\n\u001b[0;32m      1\u001b[0m columns_of_intrest \u001b[38;5;241m=\u001b[39m [\u001b[38;5;124m'\u001b[39m\u001b[38;5;124mcity\u001b[39m\u001b[38;5;124m'\u001b[39m, \u001b[38;5;124m'\u001b[39m\u001b[38;5;124mstate\u001b[39m\u001b[38;5;124m'\u001b[39m, \u001b[38;5;124m'\u001b[39m\u001b[38;5;124mstate_code\u001b[39m\u001b[38;5;124m'\u001b[39m, \u001b[38;5;124m'\u001b[39m\u001b[38;5;124mproperty_type\u001b[39m\u001b[38;5;124m'\u001b[39m, \u001b[38;5;124m'\u001b[39m\u001b[38;5;124mmedian_sale_price\u001b[39m\u001b[38;5;124m'\u001b[39m, \u001b[38;5;124m'\u001b[39m\u001b[38;5;124mmedian_list_price\u001b[39m\u001b[38;5;124m'\u001b[39m, \u001b[38;5;124m'\u001b[39m\u001b[38;5;124mmedian_ppsf\u001b[39m\u001b[38;5;124m'\u001b[39m,\n\u001b[0;32m      2\u001b[0m                       \u001b[38;5;124m'\u001b[39m\u001b[38;5;124mmedian_list_ppsf\u001b[39m\u001b[38;5;124m'\u001b[39m, \u001b[38;5;124m'\u001b[39m\u001b[38;5;124mhomes_sold\u001b[39m\u001b[38;5;124m'\u001b[39m, \u001b[38;5;124m'\u001b[39m\u001b[38;5;124mpending_sales\u001b[39m\u001b[38;5;124m'\u001b[39m, \u001b[38;5;124m'\u001b[39m\u001b[38;5;124mnew_listings\u001b[39m\u001b[38;5;124m'\u001b[39m, \u001b[38;5;124m'\u001b[39m\u001b[38;5;124minventory\u001b[39m\u001b[38;5;124m'\u001b[39m, \u001b[38;5;124m'\u001b[39m\u001b[38;5;124mmonths_of_supply\u001b[39m\u001b[38;5;124m'\u001b[39m,\n\u001b[0;32m      3\u001b[0m                       \u001b[38;5;124m'\u001b[39m\u001b[38;5;124mmedian_dom\u001b[39m\u001b[38;5;124m'\u001b[39m, \u001b[38;5;124m'\u001b[39m\u001b[38;5;124mavg_sale_to_list\u001b[39m\u001b[38;5;124m'\u001b[39m, \u001b[38;5;124m'\u001b[39m\u001b[38;5;124msold_above_list\u001b[39m\u001b[38;5;124m'\u001b[39m, \u001b[38;5;124m'\u001b[39m\u001b[38;5;124mprice_drops\u001b[39m\u001b[38;5;124m'\u001b[39m, \u001b[38;5;124m'\u001b[39m\u001b[38;5;124moff_market_in_two_weeks\u001b[39m\u001b[38;5;124m'\u001b[39m, \n\u001b[0;32m      4\u001b[0m                       \u001b[38;5;124m'\u001b[39m\u001b[38;5;124mparent_metro_region\u001b[39m\u001b[38;5;124m'\u001b[39m, \u001b[38;5;124m'\u001b[39m\u001b[38;5;124mparent_metro_region_metro_code\u001b[39m\u001b[38;5;124m'\u001b[39m, \u001b[38;5;124m'\u001b[39m\u001b[38;5;124myear\u001b[39m\u001b[38;5;124m'\u001b[39m, \u001b[38;5;124m'\u001b[39m\u001b[38;5;124mmonth\u001b[39m\u001b[38;5;124m'\u001b[39m, \u001b[38;5;124m'\u001b[39m\u001b[38;5;124mMORTGAGE30US\u001b[39m\u001b[38;5;124m'\u001b[39m]\n\u001b[1;32m----> 5\u001b[0m df \u001b[38;5;241m=\u001b[39m \u001b[43mdf\u001b[49m\u001b[43m[\u001b[49m\u001b[43mcolumns_of_intrest\u001b[49m\u001b[43m]\u001b[49m\n\u001b[0;32m      6\u001b[0m df\n",
      "File \u001b[1;32m~\\anaconda3\\lib\\site-packages\\pandas\\core\\frame.py:3511\u001b[0m, in \u001b[0;36mDataFrame.__getitem__\u001b[1;34m(self, key)\u001b[0m\n\u001b[0;32m   3509\u001b[0m     \u001b[38;5;28;01mif\u001b[39;00m is_iterator(key):\n\u001b[0;32m   3510\u001b[0m         key \u001b[38;5;241m=\u001b[39m \u001b[38;5;28mlist\u001b[39m(key)\n\u001b[1;32m-> 3511\u001b[0m     indexer \u001b[38;5;241m=\u001b[39m \u001b[38;5;28;43mself\u001b[39;49m\u001b[38;5;241;43m.\u001b[39;49m\u001b[43mcolumns\u001b[49m\u001b[38;5;241;43m.\u001b[39;49m\u001b[43m_get_indexer_strict\u001b[49m\u001b[43m(\u001b[49m\u001b[43mkey\u001b[49m\u001b[43m,\u001b[49m\u001b[43m \u001b[49m\u001b[38;5;124;43m\"\u001b[39;49m\u001b[38;5;124;43mcolumns\u001b[39;49m\u001b[38;5;124;43m\"\u001b[39;49m\u001b[43m)\u001b[49m[\u001b[38;5;241m1\u001b[39m]\n\u001b[0;32m   3513\u001b[0m \u001b[38;5;66;03m# take() does not accept boolean indexers\u001b[39;00m\n\u001b[0;32m   3514\u001b[0m \u001b[38;5;28;01mif\u001b[39;00m \u001b[38;5;28mgetattr\u001b[39m(indexer, \u001b[38;5;124m\"\u001b[39m\u001b[38;5;124mdtype\u001b[39m\u001b[38;5;124m\"\u001b[39m, \u001b[38;5;28;01mNone\u001b[39;00m) \u001b[38;5;241m==\u001b[39m \u001b[38;5;28mbool\u001b[39m:\n",
      "File \u001b[1;32m~\\anaconda3\\lib\\site-packages\\pandas\\core\\indexes\\base.py:5782\u001b[0m, in \u001b[0;36mIndex._get_indexer_strict\u001b[1;34m(self, key, axis_name)\u001b[0m\n\u001b[0;32m   5779\u001b[0m \u001b[38;5;28;01melse\u001b[39;00m:\n\u001b[0;32m   5780\u001b[0m     keyarr, indexer, new_indexer \u001b[38;5;241m=\u001b[39m \u001b[38;5;28mself\u001b[39m\u001b[38;5;241m.\u001b[39m_reindex_non_unique(keyarr)\n\u001b[1;32m-> 5782\u001b[0m \u001b[38;5;28;43mself\u001b[39;49m\u001b[38;5;241;43m.\u001b[39;49m\u001b[43m_raise_if_missing\u001b[49m\u001b[43m(\u001b[49m\u001b[43mkeyarr\u001b[49m\u001b[43m,\u001b[49m\u001b[43m \u001b[49m\u001b[43mindexer\u001b[49m\u001b[43m,\u001b[49m\u001b[43m \u001b[49m\u001b[43maxis_name\u001b[49m\u001b[43m)\u001b[49m\n\u001b[0;32m   5784\u001b[0m keyarr \u001b[38;5;241m=\u001b[39m \u001b[38;5;28mself\u001b[39m\u001b[38;5;241m.\u001b[39mtake(indexer)\n\u001b[0;32m   5785\u001b[0m \u001b[38;5;28;01mif\u001b[39;00m \u001b[38;5;28misinstance\u001b[39m(key, Index):\n\u001b[0;32m   5786\u001b[0m     \u001b[38;5;66;03m# GH 42790 - Preserve name from an Index\u001b[39;00m\n",
      "File \u001b[1;32m~\\anaconda3\\lib\\site-packages\\pandas\\core\\indexes\\base.py:5845\u001b[0m, in \u001b[0;36mIndex._raise_if_missing\u001b[1;34m(self, key, indexer, axis_name)\u001b[0m\n\u001b[0;32m   5842\u001b[0m     \u001b[38;5;28;01mraise\u001b[39;00m \u001b[38;5;167;01mKeyError\u001b[39;00m(\u001b[38;5;124mf\u001b[39m\u001b[38;5;124m\"\u001b[39m\u001b[38;5;124mNone of [\u001b[39m\u001b[38;5;132;01m{\u001b[39;00mkey\u001b[38;5;132;01m}\u001b[39;00m\u001b[38;5;124m] are in the [\u001b[39m\u001b[38;5;132;01m{\u001b[39;00maxis_name\u001b[38;5;132;01m}\u001b[39;00m\u001b[38;5;124m]\u001b[39m\u001b[38;5;124m\"\u001b[39m)\n\u001b[0;32m   5844\u001b[0m not_found \u001b[38;5;241m=\u001b[39m \u001b[38;5;28mlist\u001b[39m(ensure_index(key)[missing_mask\u001b[38;5;241m.\u001b[39mnonzero()[\u001b[38;5;241m0\u001b[39m]]\u001b[38;5;241m.\u001b[39munique())\n\u001b[1;32m-> 5845\u001b[0m \u001b[38;5;28;01mraise\u001b[39;00m \u001b[38;5;167;01mKeyError\u001b[39;00m(\u001b[38;5;124mf\u001b[39m\u001b[38;5;124m\"\u001b[39m\u001b[38;5;132;01m{\u001b[39;00mnot_found\u001b[38;5;132;01m}\u001b[39;00m\u001b[38;5;124m not in index\u001b[39m\u001b[38;5;124m\"\u001b[39m)\n",
      "\u001b[1;31mKeyError\u001b[0m: \"['state', 'state_code', 'property_type', 'parent_metro_region', 'parent_metro_region_metro_code'] not in index\""
     ]
    }
   ],
   "source": [
    "columns_of_intrest = ['city', 'state', 'state_code', 'property_type', 'median_sale_price', 'median_list_price', 'median_ppsf',\n",
    "                      'median_list_ppsf', 'homes_sold', 'pending_sales', 'new_listings', 'inventory', 'months_of_supply',\n",
    "                      'median_dom', 'avg_sale_to_list', 'sold_above_list', 'price_drops', 'off_market_in_two_weeks', \n",
    "                      'parent_metro_region', 'parent_metro_region_metro_code', 'year', 'month', 'MORTGAGE30US']\n",
    "df = df[columns_of_intrest]\n",
    "df\n"
   ]
  },
  {
   "cell_type": "code",
   "execution_count": null,
   "id": "f5c3ab9b",
   "metadata": {},
   "outputs": [],
   "source": [
    "df.describe()"
   ]
  },
  {
   "cell_type": "code",
   "execution_count": null,
   "id": "894038a8",
   "metadata": {},
   "outputs": [],
   "source": [
    "df.isna().sum().sum()"
   ]
  },
  {
   "cell_type": "code",
   "execution_count": null,
   "id": "290210be",
   "metadata": {},
   "outputs": [],
   "source": [
    "df.isnull().sum()/len(df)*100"
   ]
  },
  {
   "cell_type": "code",
   "execution_count": null,
   "id": "fbffe655",
   "metadata": {},
   "outputs": [],
   "source": [
    "missing_vals = df.isna().sum()/len(df)*100\n",
    "missing_vals = missing_vals[missing_vals > 0]\n",
    "print('Percentage of Missing Values:')\n",
    "print(missing_vals)\n",
    "print()\n",
    "print('median_list_price')\n",
    "print(df['median_list_price'].value_counts())"
   ]
  },
  {
   "cell_type": "markdown",
   "id": "5c8b878e",
   "metadata": {},
   "source": [
    "The maximum number of house that were from city burbank,Mountain View, Spring Valley, El Cerrito and Live Oak(top5)"
   ]
  },
  {
   "cell_type": "markdown",
   "id": "aa78d829",
   "metadata": {},
   "source": [
    "# Property_type feature cleaning"
   ]
  },
  {
   "cell_type": "code",
   "execution_count": null,
   "id": "366e5ad2",
   "metadata": {},
   "outputs": [],
   "source": [
    "df['property_type'].value_counts()"
   ]
  },
  {
   "cell_type": "code",
   "execution_count": null,
   "id": "19fb75ff",
   "metadata": {},
   "outputs": [],
   "source": [
    "df['property_type'].unique()"
   ]
  },
  {
   "cell_type": "markdown",
   "id": "5cd1b81c",
   "metadata": {},
   "source": [
    "# This feature is Categorical featire with 5 unique labels, hence we need to change this to numeric feature, for this we are using one hot encoding."
   ]
  },
  {
   "cell_type": "code",
   "execution_count": null,
   "id": "590fdaad",
   "metadata": {},
   "outputs": [],
   "source": [
    "# performing one hot encoding \n",
    "df['property_type']=df['property_type'].replace(['All Residential'],\"PropertyType_All_Residential\")\n",
    "df['property_type']=df['property_type'].replace(['Single Family Residential'],\"PropertyType_Single_Family_Residential\")\n",
    "df['property_type']=df['property_type'].replace(['Townhouse'],\"PropertyType_Condo/Co-op\")\n",
    "df['property_type']=df['property_type'].replace(['Multi-Family (2-4 Unit)'],\"PropertyType_Multi-Family(2-4 Unit)\")\n",
    "df['property_type']=df['property_type'].replace(['Condo/Co-op'],\"PropertyType_Townhouse \")\n",
    "one_hot_property_type = pd.get_dummies(df['property_type'])\n",
    "df = df.drop('property_type',axis = 1)\n",
    "df = df.join(one_hot_property_type)"
   ]
  },
  {
   "cell_type": "code",
   "execution_count": null,
   "id": "f19bd24c",
   "metadata": {},
   "outputs": [],
   "source": [
    "df.head()"
   ]
  },
  {
   "cell_type": "markdown",
   "id": "96a5ba8a",
   "metadata": {},
   "source": [
    "# Median_Sale_Price feature cleaning"
   ]
  },
  {
   "cell_type": "code",
   "execution_count": null,
   "id": "71524906",
   "metadata": {},
   "outputs": [],
   "source": [
    "df['median_sale_price'].value_counts()"
   ]
  },
  {
   "cell_type": "code",
   "execution_count": null,
   "id": "187c4872",
   "metadata": {},
   "outputs": [],
   "source": [
    "df['median_sale_price']"
   ]
  },
  {
   "cell_type": "code",
   "execution_count": null,
   "id": "16a1a709",
   "metadata": {},
   "outputs": [],
   "source": [
    "# checking for negative value in feature \"median_sale_price\"\n",
    "(df['median_sale_price'] < 0).sum().sum()\n",
    "    "
   ]
  },
  {
   "cell_type": "code",
   "execution_count": null,
   "id": "806b2441",
   "metadata": {},
   "outputs": [],
   "source": [
    "#box plot before removing outliers\n",
    "fig, axes = plt.subplots(1, 1, figsize=(5,5))\n",
    "fig.suptitle('Detecting Feature Value Outliers')\n",
    "#Visualize the median_sale_price\n",
    "df['median_sale_price'].plot(kind=\"box\")"
   ]
  },
  {
   "cell_type": "code",
   "execution_count": null,
   "id": "b053d282",
   "metadata": {},
   "outputs": [],
   "source": [
    "\n",
    "count = 1;\n",
    "min_value = sys.maxsize\n",
    "max_value = -1\n",
    "print(min_value)\n",
    "for key, value in df['median_sale_price'].iteritems():\n",
    "    if value < min_value:\n",
    "      min_value = value\n",
    "\n",
    "    if value > max_value:\n",
    "      max_value = value\n",
    "    \n",
    "print(min_value)\n",
    "print(max_value)"
   ]
  },
  {
   "cell_type": "code",
   "execution_count": null,
   "id": "0de3bf44",
   "metadata": {},
   "outputs": [],
   "source": [
    "#checking for how many value outliers dropped\n",
    "median_sale_price_df=df['median_sale_price']\n",
    "value=1389750.0\n",
    "#maximum value after removing outliers\n",
    "count=0\n",
    "for i, number in df['median_sale_price'].iteritems():\n",
    "    if number > value:\n",
    "        count=count+1\n",
    "print(count)\n",
    "#Percentage of outliers dropped\n",
    "print(\"Percentage of outliers dropped\",str((count*100)/df['median_sale_price'].shape[0])) "
   ]
  },
  {
   "cell_type": "markdown",
   "id": "0613fc38",
   "metadata": {},
   "source": [
    "# median_list_price feature cleaning"
   ]
  },
  {
   "cell_type": "code",
   "execution_count": null,
   "id": "3b8a1adb",
   "metadata": {},
   "outputs": [],
   "source": [
    "df['median_list_price'].value_counts()"
   ]
  },
  {
   "cell_type": "code",
   "execution_count": null,
   "id": "0d3f2343",
   "metadata": {},
   "outputs": [],
   "source": [
    "df['median_list_price'].unique()"
   ]
  },
  {
   "cell_type": "code",
   "execution_count": null,
   "id": "d564febd",
   "metadata": {},
   "outputs": [],
   "source": [
    "#checking for missing value \n",
    "missing_vals2 = df['median_list_price'].isna().sum()/len(df['median_sale_price'])*100\n",
    "missing_vals2"
   ]
  },
  {
   "cell_type": "code",
   "execution_count": null,
   "id": "a9f00be1",
   "metadata": {},
   "outputs": [],
   "source": [
    "# checking for negative value in feature \"median_sale_price\"\n",
    "(df['median_list_price'] < 0).sum().sum()"
   ]
  },
  {
   "cell_type": "code",
   "execution_count": null,
   "id": "bda392e7",
   "metadata": {},
   "outputs": [],
   "source": [
    "#pip install missingno"
   ]
  },
  {
   "cell_type": "code",
   "execution_count": null,
   "id": "b783fead",
   "metadata": {},
   "outputs": [],
   "source": [
    "test=df[['median_list_price']]\n",
    "msno.matrix(test)"
   ]
  },
  {
   "cell_type": "markdown",
   "id": "0ff8bbc7",
   "metadata": {},
   "source": [
    "We can see that data is missing through out the instances ( The NA values are not back to back only at the tail or in the middle of the dataset)"
   ]
  },
  {
   "cell_type": "code",
   "execution_count": null,
   "id": "05ade1cb",
   "metadata": {},
   "outputs": [],
   "source": [
    "# Imputing median_list_price with its Mean as we can't perform other technique such as KNN as we are considering to keep the outlier for this feature \n",
    "df['median_list_price'].fillna(df['median_list_price'].mean(), inplace = True)"
   ]
  },
  {
   "cell_type": "code",
   "execution_count": null,
   "id": "0c3d3629",
   "metadata": {},
   "outputs": [],
   "source": [
    "missing_vals2 = df['median_list_price'].isna().sum()/len(df['median_sale_price'])*100\n",
    "missing_vals2"
   ]
  },
  {
   "cell_type": "code",
   "execution_count": null,
   "id": "4b2abc32",
   "metadata": {},
   "outputs": [],
   "source": [
    "\n",
    "count = 1;\n",
    "min_value = sys.maxsize\n",
    "max_value = -1\n",
    "print(min_value)\n",
    "for key, value in df['median_list_price'].iteritems():\n",
    "    if value < min_value:\n",
    "      min_value = value\n",
    "\n",
    "    if value > max_value:\n",
    "      max_value = value\n",
    "    \n",
    "print(\"Minimum value\", min_value)\n",
    "print(\"Maximum value\", max_value)"
   ]
  },
  {
   "cell_type": "code",
   "execution_count": null,
   "id": "ebf23325",
   "metadata": {},
   "outputs": [],
   "source": [
    "#checking for how many value outliers dropped\n",
    "median_list_price_df=df['median_list_price']\n",
    "value=1150000.0\n",
    "#maximum value after removing outliers\n",
    "count=0\n",
    "for i, number in df['median_list_price'].iteritems():\n",
    "    if number > value:\n",
    "        count=count+1\n",
    "print(count)\n",
    "#Percentage of outliers dropped\n",
    "print(\"Percentage of outliers dropped\",str((count*100)/df['median_list_price'].shape[0])) "
   ]
  },
  {
   "cell_type": "code",
   "execution_count": null,
   "id": "f63ae15c",
   "metadata": {},
   "outputs": [],
   "source": [
    "#checking for outliers\n",
    "#box plot before removing outliers\n",
    "fig, axes = plt.subplots(1, 1, figsize=(5,5))\n",
    "fig.suptitle('Detecting Feature Value Outliers')\n",
    "#Visualize the median_list_ppsf\n",
    "df['median_list_price'].plot(kind=\"box\")"
   ]
  },
  {
   "cell_type": "code",
   "execution_count": null,
   "id": "ecc8e92a",
   "metadata": {},
   "outputs": [],
   "source": [
    "\n",
    "count = 1;\n",
    "min_value = sys.maxsize\n",
    "max_value = -1\n",
    "print(min_value)\n",
    "for key, value in df['median_list_price'].iteritems():\n",
    "    if value < min_value:\n",
    "      min_value = value\n",
    "\n",
    "    if value > max_value:\n",
    "      max_value = value\n",
    "    \n",
    "print(\"Minimum value\", min_value)\n",
    "print(\"Maximum value\", max_value)"
   ]
  },
  {
   "cell_type": "code",
   "execution_count": null,
   "id": "cef8e6d0",
   "metadata": {},
   "outputs": [],
   "source": [
    "df['median_list_price'].plot(kind='kde')"
   ]
  },
  {
   "cell_type": "markdown",
   "id": "5a88135a",
   "metadata": {},
   "source": [
    "# median_ppsf feature cleaning"
   ]
  },
  {
   "cell_type": "code",
   "execution_count": null,
   "id": "3966984c",
   "metadata": {},
   "outputs": [],
   "source": [
    "df['median_ppsf'].value_counts()"
   ]
  },
  {
   "cell_type": "code",
   "execution_count": null,
   "id": "8eb10965",
   "metadata": {},
   "outputs": [],
   "source": [
    "df['median_ppsf'].unique()"
   ]
  },
  {
   "cell_type": "code",
   "execution_count": null,
   "id": "47135690",
   "metadata": {},
   "outputs": [],
   "source": [
    "#checking for negative value for this feature\n",
    "(df['median_ppsf']<0).sum().sum()"
   ]
  },
  {
   "cell_type": "code",
   "execution_count": null,
   "id": "8daa04d3",
   "metadata": {},
   "outputs": [],
   "source": [
    "count = 1;\n",
    "min_value = sys.maxsize\n",
    "max_value = -1\n",
    "print(min_value)\n",
    "for key, value in df['median_ppsf'].iteritems():\n",
    "    if value < min_value:\n",
    "      min_value = value\n",
    "\n",
    "    if value > max_value:\n",
    "      max_value = value\n",
    "    \n",
    "print(\"Minimum value\", min_value)\n",
    "print(\"Maximum value\", max_value)"
   ]
  },
  {
   "cell_type": "code",
   "execution_count": null,
   "id": "5604eee0",
   "metadata": {},
   "outputs": [],
   "source": [
    "#checking for outliers\n",
    "#box plot before removing outliers\n",
    "fig, axes = plt.subplots(1, 1, figsize=(5,5))\n",
    "fig.suptitle('Detecting Feature Value Outliers')\n",
    "#Visualize the median_list_ppsf\n",
    "df['median_ppsf'].plot(kind=\"box\")"
   ]
  },
  {
   "cell_type": "markdown",
   "id": "4a290da5",
   "metadata": {},
   "source": [
    "# median_list_ppsf feature cleaning"
   ]
  },
  {
   "cell_type": "code",
   "execution_count": null,
   "id": "0565073a",
   "metadata": {},
   "outputs": [],
   "source": [
    "df['median_list_ppsf'].value_counts()"
   ]
  },
  {
   "cell_type": "code",
   "execution_count": null,
   "id": "fd10b395",
   "metadata": {},
   "outputs": [],
   "source": [
    "#checking for negative value for this feature\n",
    "(df['median_list_ppsf']<0).sum().sum()"
   ]
  },
  {
   "cell_type": "code",
   "execution_count": null,
   "id": "38698858",
   "metadata": {},
   "outputs": [],
   "source": [
    "\n",
    "test=df[['median_list_ppsf']]\n",
    "msno.matrix(test)"
   ]
  },
  {
   "cell_type": "markdown",
   "id": "271b64d3",
   "metadata": {},
   "source": [
    "Same justification for this as mentioned for abive feature"
   ]
  },
  {
   "cell_type": "code",
   "execution_count": null,
   "id": "e0033122",
   "metadata": {},
   "outputs": [],
   "source": [
    "#checking for outliers\n",
    "#box plot before removing outliers\n",
    "fig, axes = plt.subplots(1, 1, figsize=(5,5))\n",
    "fig.suptitle('Detecting Feature Value Outliers')\n",
    "#Visualize the median_list_ppsf\n",
    "df['median_list_ppsf'].plot(kind=\"box\")"
   ]
  },
  {
   "cell_type": "code",
   "execution_count": null,
   "id": "fbd4a8fd",
   "metadata": {},
   "outputs": [],
   "source": [
    "count = 1;\n",
    "min_value = sys.maxsize\n",
    "max_value = -1\n",
    "print(min_value)\n",
    "for key, value in df['median_list_ppsf'].iteritems():\n",
    "    if value < min_value:\n",
    "      min_value = value\n",
    "\n",
    "    if value > max_value:\n",
    "      max_value = value\n",
    "    \n",
    "print(\"Minimum value\", min_value)\n",
    "print(\"Maximum value\", max_value)"
   ]
  },
  {
   "cell_type": "markdown",
   "id": "38898c8e",
   "metadata": {},
   "source": [
    "this is certainly an outlier because this is about median per square feet for listed house and max value is 5500000.0"
   ]
  },
  {
   "cell_type": "code",
   "execution_count": null,
   "id": "3f3fbd02",
   "metadata": {},
   "outputs": [],
   "source": [
    "df.shape"
   ]
  },
  {
   "cell_type": "code",
   "execution_count": null,
   "id": "9c722ea1",
   "metadata": {},
   "outputs": [],
   "source": [
    "# Fix the index to be in order\n",
    "df.reset_index(inplace=True)\n",
    "df.drop('index', axis= 1, inplace=True)"
   ]
  },
  {
   "cell_type": "code",
   "execution_count": null,
   "id": "67fd02e1",
   "metadata": {},
   "outputs": [],
   "source": [
    "df.head()"
   ]
  },
  {
   "cell_type": "code",
   "execution_count": null,
   "id": "01899f05",
   "metadata": {},
   "outputs": [],
   "source": [
    "df.info()"
   ]
  },
  {
   "cell_type": "markdown",
   "id": "307f5570",
   "metadata": {},
   "source": [
    "# City Feature cleaning"
   ]
  },
  {
   "cell_type": "code",
   "execution_count": null,
   "id": "355a6aee",
   "metadata": {},
   "outputs": [],
   "source": [
    "df['city'].value_counts()"
   ]
  },
  {
   "cell_type": "code",
   "execution_count": null,
   "id": "5a7e2171",
   "metadata": {},
   "outputs": [],
   "source": [
    "len(df['city'].str.lower().unique())"
   ]
  },
  {
   "cell_type": "code",
   "execution_count": null,
   "id": "1d42efba",
   "metadata": {},
   "outputs": [],
   "source": [
    "df['city'].str.lower()"
   ]
  },
  {
   "cell_type": "code",
   "execution_count": null,
   "id": "a345c824",
   "metadata": {},
   "outputs": [],
   "source": [
    "# performing labelencoding on city column\n",
    "label_city = LabelEncoder()\n",
    "df['city']=label_city.fit_transform(df['city'])\n",
    "# df = df.drop('city',axis = 1)\n",
    "# df = df.join(one_hot_city)"
   ]
  },
  {
   "cell_type": "code",
   "execution_count": null,
   "id": "bfa8a073",
   "metadata": {},
   "outputs": [],
   "source": [
    "print(df['city'].unique())"
   ]
  },
  {
   "cell_type": "markdown",
   "id": "26f94c2a",
   "metadata": {},
   "source": [
    "# State,parent_metro_region and state_code cleaning"
   ]
  },
  {
   "cell_type": "code",
   "execution_count": null,
   "id": "7a8ff020",
   "metadata": {},
   "outputs": [],
   "source": [
    "#performing one hot encoding on state column\n",
    "one_hot_state = pd.get_dummies(df['state'])\n",
    "one_hot_state_code = pd.get_dummies(df['state_code'])\n",
    "df = df.drop('state',axis = 1)\n",
    "df = df.drop('state_code',axis = 1)\n",
    "df = df.join(one_hot_state_code)\n",
    "df = df.join(one_hot_state)\n"
   ]
  },
  {
   "cell_type": "code",
   "execution_count": null,
   "id": "21cc399a",
   "metadata": {},
   "outputs": [],
   "source": [
    "df['parent_metro_region'].unique()\n"
   ]
  },
  {
   "cell_type": "code",
   "execution_count": null,
   "id": "9086b7a9",
   "metadata": {},
   "outputs": [],
   "source": [
    "# split  Parent metro region into metro region and drop CA\n",
    "df[\"parent_metro_region\"] = df[\"parent_metro_region\"].str.replace(r',[^,]*$', '')"
   ]
  },
  {
   "cell_type": "code",
   "execution_count": null,
   "id": "8a0a6c0d",
   "metadata": {},
   "outputs": [],
   "source": [
    "df['parent_metro_region'].unique()"
   ]
  },
  {
   "cell_type": "code",
   "execution_count": null,
   "id": "8c7b3212",
   "metadata": {},
   "outputs": [],
   "source": [
    "one_hot_parent_metro_region = pd.get_dummies(df['parent_metro_region'])\n",
    "df = df.drop('parent_metro_region' ,axis=1)\n",
    "df = df.join(one_hot_parent_metro_region)"
   ]
  },
  {
   "cell_type": "code",
   "execution_count": null,
   "id": "f8b23fe3",
   "metadata": {},
   "outputs": [],
   "source": [
    "df.head(5)"
   ]
  },
  {
   "cell_type": "markdown",
   "id": "9ab59613",
   "metadata": {},
   "source": [
    "# 'homes_sold', 'pending_sales', 'new_listings', 'inventory', 'months_of_supply',  'avg_sale_to_list', 'sold_above_list', 'price_drops', 'off_market_in_two_weeks features cleaning"
   ]
  },
  {
   "cell_type": "code",
   "execution_count": null,
   "id": "500e4603",
   "metadata": {},
   "outputs": [],
   "source": [
    "df['homes_sold'].value_counts()"
   ]
  },
  {
   "cell_type": "code",
   "execution_count": null,
   "id": "5ea61471",
   "metadata": {},
   "outputs": [],
   "source": [
    "#checking for negative value for this feature # checked for each of these features and got zero in results\n",
    "col=['homes_sold','pending_sales','new_listings','inventory','months_of_supply','avg_sale_to_list','sold_above_list','price_drops','off_market_in_two_weeks']\n",
    "(df[col]<0).sum().sum()"
   ]
  },
  {
   "cell_type": "code",
   "execution_count": null,
   "id": "bb137dd2",
   "metadata": {},
   "outputs": [],
   "source": [
    "col=['homes_sold','pending_sales','new_listings','inventory','months_of_supply','avg_sale_to_list','sold_above_list','price_drops','off_market_in_two_weeks']\n",
    "(df[col]<0).sum().sum()\n",
    "missing_vals2 = df[col].isna().sum()/len(df[col])*100\n",
    "missing_vals2"
   ]
  },
  {
   "cell_type": "code",
   "execution_count": null,
   "id": "db6c30fd",
   "metadata": {},
   "outputs": [],
   "source": [
    "col=['homes_sold','pending_sales','new_listings','inventory','months_of_supply','avg_sale_to_list','sold_above_list','price_drops','off_market_in_two_weeks']\n",
    "test=df[col]\n",
    "msno.matrix(test)"
   ]
  },
  {
   "cell_type": "code",
   "execution_count": null,
   "id": "fcac9847",
   "metadata": {},
   "outputs": [],
   "source": [
    "#checking for outliers\n",
    "#box plot before removing outliers\n",
    "fig, axes = plt.subplots(1, 1, figsize=(5,5))\n",
    "fig.suptitle('Detecting Feature Value Outliers')\n",
    "#Visualize the median_list_ppsf\n",
    "df['pending_sales'].plot(kind=\"box\")"
   ]
  },
  {
   "cell_type": "code",
   "execution_count": null,
   "id": "65d049b3",
   "metadata": {},
   "outputs": [],
   "source": [
    "Q1 = df['pending_sales'].quantile(0.25)\n",
    "Q3 = df['pending_sales'].quantile(0.75)\n",
    "IQR = Q3 - Q1\n",
    "\n",
    "df = df[~((df['pending_sales'] < (Q1 - 1.5 * IQR)) |(df['pending_sales'] > (Q3 + 1.5* IQR)))]"
   ]
  },
  {
   "cell_type": "code",
   "execution_count": null,
   "id": "01dc5911",
   "metadata": {},
   "outputs": [],
   "source": [
    "df['pending_sales'].fillna(df['pending_sales'].mean(), inplace = True)\n"
   ]
  },
  {
   "cell_type": "code",
   "execution_count": null,
   "id": "f663da4b",
   "metadata": {},
   "outputs": [],
   "source": [
    "df['new_listings'].fillna(df['new_listings'].mean(), inplace = True)\n"
   ]
  },
  {
   "cell_type": "code",
   "execution_count": null,
   "id": "95fe3f89",
   "metadata": {},
   "outputs": [],
   "source": [
    "df['inventory'].fillna(df['inventory'].mean(), inplace = True)"
   ]
  },
  {
   "cell_type": "code",
   "execution_count": null,
   "id": "f0e0a7cf",
   "metadata": {},
   "outputs": [],
   "source": [
    "df['months_of_supply'].fillna(df['months_of_supply'].mean(), inplace = True)"
   ]
  },
  {
   "cell_type": "code",
   "execution_count": null,
   "id": "32fd29de",
   "metadata": {},
   "outputs": [],
   "source": [
    "df['price_drops'].fillna(df['price_drops'].mean(), inplace = True)"
   ]
  },
  {
   "cell_type": "code",
   "execution_count": null,
   "id": "cb283720",
   "metadata": {},
   "outputs": [],
   "source": [
    "df['off_market_in_two_weeks'].fillna(df['off_market_in_two_weeks'].mean(), inplace = True)"
   ]
  },
  {
   "cell_type": "code",
   "execution_count": null,
   "id": "d1c22417",
   "metadata": {},
   "outputs": [],
   "source": [
    "df['median_dom'].fillna(df['median_dom'].mean(), inplace = True)"
   ]
  },
  {
   "cell_type": "code",
   "execution_count": null,
   "id": "a8c16be6",
   "metadata": {},
   "outputs": [],
   "source": [
    "df['median_ppsf'].fillna(df['median_ppsf'].mean(), inplace = True)"
   ]
  },
  {
   "cell_type": "code",
   "execution_count": null,
   "id": "802c1f76",
   "metadata": {},
   "outputs": [],
   "source": [
    "df['median_list_ppsf'].fillna(df['median_list_ppsf'].mean(), inplace = True)"
   ]
  },
  {
   "cell_type": "code",
   "execution_count": null,
   "id": "c1d6ce60",
   "metadata": {},
   "outputs": [],
   "source": [
    "df['avg_sale_to_list'].fillna(df['avg_sale_to_list'].mean(), inplace = True)"
   ]
  },
  {
   "cell_type": "code",
   "execution_count": null,
   "id": "0a8a00f5",
   "metadata": {},
   "outputs": [],
   "source": [
    "msno.matrix(df)"
   ]
  },
  {
   "cell_type": "code",
   "execution_count": null,
   "id": "03b8be89",
   "metadata": {},
   "outputs": [],
   "source": [
    "missing_vals2 = df[col].isna().sum()/len(df[col])*100\n",
    "missing_vals2"
   ]
  },
  {
   "cell_type": "code",
   "execution_count": null,
   "id": "dddcb7f9",
   "metadata": {},
   "outputs": [],
   "source": [
    "# # Normalize Distance and Age\n",
    "# from sklearn.preprocessing import MinMaxScaler\n",
    "\n",
    "# scaler = MinMaxScaler()\n",
    "# cols_to_norm = ['median_sale_price', 'median_list_price', 'median_ppsf','median_list_ppsf', 'homes_sold', 'pending_sales', 'new_listings', 'inventory', 'months_of_supply', 'avg_sale_to_list', 'sold_above_list', 'price_drops', 'off_market_in_two_weeks','MORTGAGE30US']\n",
    "# df[cols_to_norm] = scaler.fit_transform(df[cols_to_norm])"
   ]
  },
  {
   "cell_type": "code",
   "execution_count": null,
   "id": "8a8a8343",
   "metadata": {},
   "outputs": [],
   "source": [
    "cols = ['median_sale_price', 'median_list_price', 'median_ppsf', 'median_list_ppsf', 'homes_sold', 'pending_sales', 'new_listings', 'inventory', 'months_of_supply','avg_sale_to_list', 'sold_above_list', 'price_drops'] # one or more\n",
    "\n",
    "Q1 = df[cols].quantile(0.25)\n",
    "Q3 = df[cols].quantile(0.75)\n",
    "IQR = Q3 - Q1\n",
    "\n",
    "df = df[~((df[cols] < (Q1 - 1.5 * IQR)) |(df[cols] > (Q3 + 1.5 * IQR))).any(axis=1)]"
   ]
  },
  {
   "cell_type": "markdown",
   "id": "7ff07250",
   "metadata": {},
   "source": [
    "# Baseline Model"
   ]
  },
  {
   "cell_type": "code",
   "execution_count": null,
   "id": "63a1e6bd",
   "metadata": {},
   "outputs": [],
   "source": [
    "df['median_dom'].value_counts()"
   ]
  },
  {
   "cell_type": "code",
   "execution_count": null,
   "id": "8091f28e",
   "metadata": {},
   "outputs": [],
   "source": [
    "#checking for negative value for this feature\n",
    "(df['median_dom']<0).sum().sum()"
   ]
  },
  {
   "cell_type": "code",
   "execution_count": null,
   "id": "738ea33e",
   "metadata": {},
   "outputs": [],
   "source": [
    "#checking for outliers\n",
    "#box plot before removing outliers\n",
    "fig, axes = plt.subplots(1, 1, figsize=(5,5))\n",
    "fig.suptitle('Detecting Feature Value Outliers')\n",
    "#Visualize the median_list_ppsf\n",
    "df['median_dom'].plot(kind=\"box\")"
   ]
  },
  {
   "cell_type": "code",
   "execution_count": null,
   "id": "4f1185bc",
   "metadata": {},
   "outputs": [],
   "source": [
    "Q1 = df['median_dom'].quantile(0.25)\n",
    "Q3 = df['median_dom'].quantile(0.75)\n",
    "IQR = Q3 - Q1\n",
    "\n",
    "df = df[~((df['median_dom'] < (Q1 - 1.5 * IQR)) |(df['median_dom'] > (Q3 + 1.5* IQR)))]"
   ]
  },
  {
   "cell_type": "code",
   "execution_count": null,
   "id": "295c00d9",
   "metadata": {},
   "outputs": [],
   "source": [
    "#checking for outliers\n",
    "#box plot before removing outliers\n",
    "fig, axes = plt.subplots(1, 1, figsize=(5,5))\n",
    "fig.suptitle('Detecting Feature Value Outliers')\n",
    "#Visualize the median_list_ppsf\n",
    "df['median_dom'].plot(kind=\"box\")"
   ]
  },
  {
   "cell_type": "code",
   "execution_count": null,
   "id": "10fb1e4e",
   "metadata": {},
   "outputs": [],
   "source": [
    "df['median_dom'].shape"
   ]
  },
  {
   "cell_type": "code",
   "execution_count": null,
   "id": "caddd3ff",
   "metadata": {},
   "outputs": [],
   "source": [
    "df['median_dom'].fillna(df['median_dom'].mean(), inplace = True)"
   ]
  },
  {
   "cell_type": "code",
   "execution_count": null,
   "id": "d8c725a4",
   "metadata": {},
   "outputs": [],
   "source": [
    "fig=plt.figure(figsize=(10,5))\n",
    "plt.hist(df['median_dom'], bins=100, density=True, alpha=0.5, color='b')\n",
    "  \n",
    "plt.show()"
   ]
  },
  {
   "cell_type": "code",
   "execution_count": null,
   "id": "9a0947df",
   "metadata": {},
   "outputs": [],
   "source": []
  },
  {
   "cell_type": "code",
   "execution_count": null,
   "id": "cb3b25a4",
   "metadata": {},
   "outputs": [],
   "source": [
    "df['median_dom'] = np.round(df['median_dom'], decimals = 1)"
   ]
  },
  {
   "cell_type": "code",
   "execution_count": null,
   "id": "ec6e31e2",
   "metadata": {
    "scrolled": true
   },
   "outputs": [],
   "source": [
    "df.columns"
   ]
  },
  {
   "cell_type": "code",
   "execution_count": null,
   "id": "153f75af",
   "metadata": {},
   "outputs": [],
   "source": [
    "df['median_dom'].describe()"
   ]
  },
  {
   "cell_type": "markdown",
   "id": "8acc93ad",
   "metadata": {},
   "source": [
    "We have used apply() on the entire row of the dataframe and among all, we have taken onyl median_dom"
   ]
  },
  {
   "cell_type": "code",
   "execution_count": null,
   "id": "d51ba3d3",
   "metadata": {},
   "outputs": [],
   "source": [
    "def assign_quality(row):\n",
    "    if row['median_dom'] <= 21: #3 weeks...\n",
    "        return 0\n",
    "    elif row['median_dom'] > 21 and row['median_dom'] <= 45: #3 weeks to 1.5 months...\n",
    "        return 1\n",
    "    else: # greater than 1.5 months...\n",
    "        return 2"
   ]
  },
  {
   "cell_type": "code",
   "execution_count": null,
   "id": "848902d9",
   "metadata": {},
   "outputs": [],
   "source": [
    "df['quality'] = df.apply(assign_quality, axis=1)"
   ]
  },
  {
   "cell_type": "code",
   "execution_count": null,
   "id": "1b9209cf",
   "metadata": {},
   "outputs": [],
   "source": [
    "df1 = df[['median_dom', 'quality']]"
   ]
  },
  {
   "cell_type": "code",
   "execution_count": null,
   "id": "c1bd3b6c",
   "metadata": {},
   "outputs": [],
   "source": [
    "df1['quality'].unique()"
   ]
  },
  {
   "cell_type": "code",
   "execution_count": null,
   "id": "edb1c9c7",
   "metadata": {},
   "outputs": [],
   "source": [
    "df1['quality'].value_counts()"
   ]
  },
  {
   "cell_type": "code",
   "execution_count": null,
   "id": "aa1d484a",
   "metadata": {},
   "outputs": [],
   "source": [
    "df.reset_index(inplace=True)\n",
    "df.drop('index', axis= 1, inplace=True)"
   ]
  },
  {
   "cell_type": "code",
   "execution_count": null,
   "id": "bdba595f",
   "metadata": {},
   "outputs": [],
   "source": [
    "# df['quality_Ranking'] = 0\n",
    "# for i in range(len(df)):\n",
    "#     if df['quality'][i] == 'HIGH':\n",
    "#         df['quality_Ranking'][i] = 1\n",
    "#     elif df['quality'][i] == 'MEDIUM':\n",
    "#         df['quality_Ranking'][i] = 2\n",
    "#     else :\n",
    "#         df['quality_Ranking'][i]=3\n"
   ]
  },
  {
   "cell_type": "code",
   "execution_count": null,
   "id": "18ef81c5",
   "metadata": {},
   "outputs": [],
   "source": [
    "df.head()"
   ]
  },
  {
   "cell_type": "code",
   "execution_count": null,
   "id": "86215d05",
   "metadata": {},
   "outputs": [],
   "source": [
    "df['quality']"
   ]
  },
  {
   "cell_type": "code",
   "execution_count": null,
   "id": "d62edffb",
   "metadata": {},
   "outputs": [],
   "source": [
    "df['parent_metro_region_metro_code'].unique()"
   ]
  },
  {
   "cell_type": "code",
   "execution_count": null,
   "id": "cd1e540b",
   "metadata": {},
   "outputs": [],
   "source": [
    "for columns in df.columns:\n",
    "    print(column)\n",
    "    "
   ]
  },
  {
   "cell_type": "code",
   "execution_count": null,
   "id": "8cf6943e",
   "metadata": {},
   "outputs": [],
   "source": [
    "#Perform normalization on non one hot encoding columns\n",
    "from sklearn.preprocessing import MinMaxScaler\n",
    "\n",
    "scaler = MinMaxScaler()\n",
    "col=['median_sale_price', 'median_list_price', 'median_ppsf',\n",
    "       'median_list_ppsf', 'homes_sold', 'pending_sales', 'new_listings',\n",
    "       'inventory', 'months_of_supply', 'median_dom', 'avg_sale_to_list',\n",
    "       'sold_above_list', 'price_drops', 'off_market_in_two_weeks']\n",
    "\n",
    "\n",
    "\n",
    "df[col] = scaler.fit_transform(df[col])"
   ]
  },
  {
   "cell_type": "code",
   "execution_count": null,
   "id": "a50e3646",
   "metadata": {},
   "outputs": [],
   "source": [
    "one_hot_parent_metro_region_metro_code = pd.get_dummies(df['parent_metro_region_metro_code'])\n",
    "df = df.drop('parent_metro_region_metro_code' ,axis=1)\n",
    "df = df.join(one_hot_parent_metro_region_metro_code)"
   ]
  },
  {
   "cell_type": "code",
   "execution_count": null,
   "id": "0d795a14",
   "metadata": {},
   "outputs": [],
   "source": [
    "df.shape"
   ]
  },
  {
   "cell_type": "code",
   "execution_count": null,
   "id": "8384ee07",
   "metadata": {},
   "outputs": [],
   "source": [
    "#Save the cleaned data to a File...\n",
    "#df.to_csv('C:/Users/saumy/Desktop/data.csv',encoding='utf-8-sig')"
   ]
  },
  {
   "cell_type": "code",
   "execution_count": null,
   "id": "6662e35b",
   "metadata": {},
   "outputs": [],
   "source": [
    "from sklearn.model_selection import train_test_split\n",
    "from sklearn.linear_model import LogisticRegression\n"
   ]
  },
  {
   "cell_type": "code",
   "execution_count": null,
   "id": "313f1fc9",
   "metadata": {},
   "outputs": [],
   "source": [
    "y = df['quality']\n",
    "X = df.drop('quality',axis=1)\n",
    "#, x_test, y_train, y_test = train_test_split(X, y, test_size=0.70, random_state=42)\n",
    "X_train, X_test, y_train, y_test = train_test_split(X, y, test_size=0.1, random_state=1)\n",
    "\n",
    "X_train, X_val, y_train, y_val = train_test_split(X_train, y_train, test_size=0.1, random_state=1) # 0.25 x 0.8 = 0.2"
   ]
  },
  {
   "cell_type": "code",
   "execution_count": null,
   "id": "d9a87aa0",
   "metadata": {},
   "outputs": [],
   "source": [
    "print(len(X_train))\n",
    "print(len(X_test))\n",
    "print(len(y_train))\n",
    "print(len(y_test))\n",
    "print(len(y_val))\n",
    "print(len(X_val))"
   ]
  },
  {
   "cell_type": "markdown",
   "id": "cc3d2d08",
   "metadata": {},
   "source": [
    "logistic regression predicts if something is true or false,curve goes from 0 to1 and it tells the probability and is usally used for classification problem"
   ]
  },
  {
   "cell_type": "code",
   "execution_count": null,
   "id": "52cbe82d",
   "metadata": {},
   "outputs": [],
   "source": [
    "model = LogisticRegression()"
   ]
  },
  {
   "cell_type": "code",
   "execution_count": null,
   "id": "083c7e19",
   "metadata": {},
   "outputs": [],
   "source": [
    "model.fit(X_train,y_train)\n",
    "y_pred = model.predict(X_test)\n"
   ]
  },
  {
   "cell_type": "code",
   "execution_count": null,
   "id": "37fb4702",
   "metadata": {},
   "outputs": [],
   "source": [
    "from sklearn.metrics import classification_report"
   ]
  },
  {
   "cell_type": "code",
   "execution_count": null,
   "id": "806adf07",
   "metadata": {},
   "outputs": [],
   "source": [
    "#print(classification_report(y_test,y_pred))"
   ]
  },
  {
   "cell_type": "code",
   "execution_count": null,
   "id": "f3d2c3fc",
   "metadata": {},
   "outputs": [],
   "source": [
    "print(classification_report(y_test, y_pred))"
   ]
  },
  {
   "cell_type": "code",
   "execution_count": null,
   "id": "25498578",
   "metadata": {},
   "outputs": [],
   "source": [
    "model.fit(X_train,y_train)\n",
    "y_pred = model.predict(X_val)\n"
   ]
  },
  {
   "cell_type": "code",
   "execution_count": null,
   "id": "a27df2f2",
   "metadata": {},
   "outputs": [],
   "source": [
    "print(classification_report(y_val, y_pred))"
   ]
  },
  {
   "cell_type": "markdown",
   "id": "ae520fc7",
   "metadata": {},
   "source": [
    "\n",
    "# Performing feature reduction using RFE"
   ]
  },
  {
   "cell_type": "code",
   "execution_count": null,
   "id": "ecaded72",
   "metadata": {},
   "outputs": [],
   "source": [
    "from sklearn.feature_selection import VarianceThreshold"
   ]
  },
  {
   "cell_type": "code",
   "execution_count": null,
   "id": "8f85e871",
   "metadata": {},
   "outputs": [],
   "source": [
    "#2. Using Variance Threshold for feature selection\n",
    "selector = VarianceThreshold(threshold=(.9 * (1 - .9)));\n",
    "temp = selector.fit_transform(df);"
   ]
  },
  {
   "cell_type": "code",
   "execution_count": null,
   "id": "6f5ea614",
   "metadata": {},
   "outputs": [],
   "source": [
    "temp.shape"
   ]
  },
  {
   "cell_type": "code",
   "execution_count": null,
   "id": "f9c4beaa",
   "metadata": {},
   "outputs": [],
   "source": [
    "selected_features = selector.get_support(indices=True)"
   ]
  },
  {
   "cell_type": "code",
   "execution_count": null,
   "id": "9ffdc5b5",
   "metadata": {},
   "outputs": [],
   "source": [
    "reduceddf = df.iloc[:,selected_features]"
   ]
  },
  {
   "cell_type": "code",
   "execution_count": null,
   "id": "e0dd52d9",
   "metadata": {},
   "outputs": [],
   "source": [
    "reduceddf.columns"
   ]
  },
  {
   "cell_type": "code",
   "execution_count": null,
   "id": "8b9e4040",
   "metadata": {},
   "outputs": [],
   "source": [
    "y1 = reduceddf['quality']\n",
    "X1 = reduceddf.drop('quality',axis=1)\n",
    "#, x_test, y_train, y_test = train_test_split(X, y, test_size=0.70, random_state=42)\n",
    "X1_train, X1_test, y1_train, y1_test = train_test_split(X1, y1, test_size=0.1, random_state=1)\n",
    "\n",
    "X1_train, X1_val, y1_train, y1_val = train_test_split(X1_train, y1_train, test_size=0.1, random_state=1) # 0.25 x 0.8 = 0.2"
   ]
  },
  {
   "cell_type": "code",
   "execution_count": null,
   "id": "695f6b68",
   "metadata": {},
   "outputs": [],
   "source": [
    "#y_label = reduceddf['quality']"
   ]
  },
  {
   "cell_type": "code",
   "execution_count": null,
   "id": "466c17ed",
   "metadata": {},
   "outputs": [],
   "source": [
    "#X_train, X_test, y_train, y_test = train_test_split(reduceddf,y_label, test_size=0.40,random_state=15,stratify=y_label)"
   ]
  },
  {
   "cell_type": "code",
   "execution_count": null,
   "id": "e47b3c12",
   "metadata": {},
   "outputs": [],
   "source": [
    "model.fit(X1_train,y1_train)\n",
    "y1_pred = model.predict(X1_test)"
   ]
  },
  {
   "cell_type": "code",
   "execution_count": null,
   "id": "650dfce1",
   "metadata": {},
   "outputs": [],
   "source": [
    "print(classification_report(y_test, y_pred))"
   ]
  }
 ],
 "metadata": {
  "kernelspec": {
   "display_name": "Python 3 (ipykernel)",
   "language": "python",
   "name": "python3"
  },
  "language_info": {
   "codemirror_mode": {
    "name": "ipython",
    "version": 3
   },
   "file_extension": ".py",
   "mimetype": "text/x-python",
   "name": "python",
   "nbconvert_exporter": "python",
   "pygments_lexer": "ipython3",
   "version": "3.9.12"
  }
 },
 "nbformat": 4,
 "nbformat_minor": 5
}
