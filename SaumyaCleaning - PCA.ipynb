{
 "cells": [
  {
   "cell_type": "code",
   "execution_count": 1,
   "id": "8641f145",
   "metadata": {},
   "outputs": [],
   "source": [
    "import sys\n",
    "import math\n",
    "import json\n",
    "import pandas as pd\n",
    "import seaborn as sns\n",
    "import numpy as np\n",
    "import matplotlib.pyplot as plt\n",
    "import plotly.express as px\n",
    "import missingno as msno\n",
    "%matplotlib inline\n",
    "from sklearn.feature_selection import RFE\n",
    "from sklearn.preprocessing import OneHotEncoder\n",
    "from sklearn.preprocessing import LabelEncoder\n",
    "# pd.set_option('display.max_rows', 500)\n",
    "# pd.set_option('display.max_columns', 500)\n",
    "# pd.set_option('display.width', 1000)\n"
   ]
  },
  {
   "cell_type": "code",
   "execution_count": 2,
   "id": "327957af",
   "metadata": {},
   "outputs": [],
   "source": [
    "df = pd.read_csv(\"Combinedhousingdata.csv\")"
   ]
  },
  {
   "cell_type": "code",
   "execution_count": 3,
   "id": "4dccd835",
   "metadata": {},
   "outputs": [
    {
     "data": {
      "text/html": [
       "<div>\n",
       "<style scoped>\n",
       "    .dataframe tbody tr th:only-of-type {\n",
       "        vertical-align: middle;\n",
       "    }\n",
       "\n",
       "    .dataframe tbody tr th {\n",
       "        vertical-align: top;\n",
       "    }\n",
       "\n",
       "    .dataframe thead th {\n",
       "        text-align: right;\n",
       "    }\n",
       "</style>\n",
       "<table border=\"1\" class=\"dataframe\">\n",
       "  <thead>\n",
       "    <tr style=\"text-align: right;\">\n",
       "      <th></th>\n",
       "      <th>Unnamed: 0</th>\n",
       "      <th>period_begin</th>\n",
       "      <th>period_end</th>\n",
       "      <th>period_duration</th>\n",
       "      <th>region_type</th>\n",
       "      <th>region_type_id</th>\n",
       "      <th>table_id</th>\n",
       "      <th>is_seasonally_adjusted</th>\n",
       "      <th>region</th>\n",
       "      <th>city</th>\n",
       "      <th>...</th>\n",
       "      <th>price_drops_yoy</th>\n",
       "      <th>off_market_in_two_weeks</th>\n",
       "      <th>off_market_in_two_weeks_mom</th>\n",
       "      <th>off_market_in_two_weeks_yoy</th>\n",
       "      <th>parent_metro_region</th>\n",
       "      <th>parent_metro_region_metro_code</th>\n",
       "      <th>last_updated</th>\n",
       "      <th>year</th>\n",
       "      <th>month</th>\n",
       "      <th>MORTGAGE30US</th>\n",
       "    </tr>\n",
       "  </thead>\n",
       "  <tbody>\n",
       "    <tr>\n",
       "      <th>0</th>\n",
       "      <td>0</td>\n",
       "      <td>2012-12-01</td>\n",
       "      <td>2012-12-31</td>\n",
       "      <td>30</td>\n",
       "      <td>place</td>\n",
       "      <td>6</td>\n",
       "      <td>18502</td>\n",
       "      <td>f</td>\n",
       "      <td>Soledad, CA</td>\n",
       "      <td>Soledad</td>\n",
       "      <td>...</td>\n",
       "      <td>0.030488</td>\n",
       "      <td>0.600000</td>\n",
       "      <td>0.300000</td>\n",
       "      <td>0.028571</td>\n",
       "      <td>Salinas, CA</td>\n",
       "      <td>41500</td>\n",
       "      <td>2022-07-10 14:38:00</td>\n",
       "      <td>2012</td>\n",
       "      <td>12</td>\n",
       "      <td>3.345</td>\n",
       "    </tr>\n",
       "    <tr>\n",
       "      <th>1</th>\n",
       "      <td>1</td>\n",
       "      <td>2020-02-01</td>\n",
       "      <td>2020-02-29</td>\n",
       "      <td>30</td>\n",
       "      <td>place</td>\n",
       "      <td>6</td>\n",
       "      <td>22758</td>\n",
       "      <td>f</td>\n",
       "      <td>Freedom, CA</td>\n",
       "      <td>Freedom</td>\n",
       "      <td>...</td>\n",
       "      <td>NaN</td>\n",
       "      <td>1.000000</td>\n",
       "      <td>NaN</td>\n",
       "      <td>1.000000</td>\n",
       "      <td>Santa Cruz, CA</td>\n",
       "      <td>42100</td>\n",
       "      <td>2022-07-10 14:38:00</td>\n",
       "      <td>2020</td>\n",
       "      <td>2</td>\n",
       "      <td>3.465</td>\n",
       "    </tr>\n",
       "    <tr>\n",
       "      <th>2</th>\n",
       "      <td>2</td>\n",
       "      <td>2021-06-01</td>\n",
       "      <td>2021-06-30</td>\n",
       "      <td>30</td>\n",
       "      <td>place</td>\n",
       "      <td>6</td>\n",
       "      <td>36263</td>\n",
       "      <td>f</td>\n",
       "      <td>El Paso de Robles, CA</td>\n",
       "      <td>El Paso de Robles</td>\n",
       "      <td>...</td>\n",
       "      <td>NaN</td>\n",
       "      <td>NaN</td>\n",
       "      <td>NaN</td>\n",
       "      <td>NaN</td>\n",
       "      <td>San Luis Obispo, CA</td>\n",
       "      <td>42020</td>\n",
       "      <td>2022-07-10 14:38:00</td>\n",
       "      <td>2021</td>\n",
       "      <td>6</td>\n",
       "      <td>2.975</td>\n",
       "    </tr>\n",
       "    <tr>\n",
       "      <th>3</th>\n",
       "      <td>3</td>\n",
       "      <td>2013-07-01</td>\n",
       "      <td>2013-07-31</td>\n",
       "      <td>30</td>\n",
       "      <td>place</td>\n",
       "      <td>6</td>\n",
       "      <td>26788</td>\n",
       "      <td>f</td>\n",
       "      <td>Willowbrook, CA</td>\n",
       "      <td>Willowbrook</td>\n",
       "      <td>...</td>\n",
       "      <td>NaN</td>\n",
       "      <td>NaN</td>\n",
       "      <td>NaN</td>\n",
       "      <td>NaN</td>\n",
       "      <td>Los Angeles, CA</td>\n",
       "      <td>31084</td>\n",
       "      <td>2022-07-10 14:38:00</td>\n",
       "      <td>2013</td>\n",
       "      <td>7</td>\n",
       "      <td>4.370</td>\n",
       "    </tr>\n",
       "    <tr>\n",
       "      <th>4</th>\n",
       "      <td>4</td>\n",
       "      <td>2015-12-01</td>\n",
       "      <td>2015-12-31</td>\n",
       "      <td>30</td>\n",
       "      <td>place</td>\n",
       "      <td>6</td>\n",
       "      <td>3843</td>\n",
       "      <td>f</td>\n",
       "      <td>Colton, CA</td>\n",
       "      <td>Colton</td>\n",
       "      <td>...</td>\n",
       "      <td>0.033401</td>\n",
       "      <td>0.333333</td>\n",
       "      <td>-0.166667</td>\n",
       "      <td>-0.118280</td>\n",
       "      <td>Riverside, CA</td>\n",
       "      <td>40140</td>\n",
       "      <td>2022-07-10 14:38:00</td>\n",
       "      <td>2015</td>\n",
       "      <td>12</td>\n",
       "      <td>3.964</td>\n",
       "    </tr>\n",
       "  </tbody>\n",
       "</table>\n",
       "<p>5 rows × 62 columns</p>\n",
       "</div>"
      ],
      "text/plain": [
       "   Unnamed: 0 period_begin  period_end  period_duration region_type  \\\n",
       "0           0   2012-12-01  2012-12-31               30       place   \n",
       "1           1   2020-02-01  2020-02-29               30       place   \n",
       "2           2   2021-06-01  2021-06-30               30       place   \n",
       "3           3   2013-07-01  2013-07-31               30       place   \n",
       "4           4   2015-12-01  2015-12-31               30       place   \n",
       "\n",
       "   region_type_id  table_id is_seasonally_adjusted                 region  \\\n",
       "0               6     18502                      f            Soledad, CA   \n",
       "1               6     22758                      f            Freedom, CA   \n",
       "2               6     36263                      f  El Paso de Robles, CA   \n",
       "3               6     26788                      f        Willowbrook, CA   \n",
       "4               6      3843                      f             Colton, CA   \n",
       "\n",
       "                city  ... price_drops_yoy off_market_in_two_weeks  \\\n",
       "0            Soledad  ...        0.030488                0.600000   \n",
       "1            Freedom  ...             NaN                1.000000   \n",
       "2  El Paso de Robles  ...             NaN                     NaN   \n",
       "3        Willowbrook  ...             NaN                     NaN   \n",
       "4             Colton  ...        0.033401                0.333333   \n",
       "\n",
       "  off_market_in_two_weeks_mom  off_market_in_two_weeks_yoy  \\\n",
       "0                    0.300000                     0.028571   \n",
       "1                         NaN                     1.000000   \n",
       "2                         NaN                          NaN   \n",
       "3                         NaN                          NaN   \n",
       "4                   -0.166667                    -0.118280   \n",
       "\n",
       "   parent_metro_region  parent_metro_region_metro_code         last_updated  \\\n",
       "0          Salinas, CA                           41500  2022-07-10 14:38:00   \n",
       "1       Santa Cruz, CA                           42100  2022-07-10 14:38:00   \n",
       "2  San Luis Obispo, CA                           42020  2022-07-10 14:38:00   \n",
       "3      Los Angeles, CA                           31084  2022-07-10 14:38:00   \n",
       "4        Riverside, CA                           40140  2022-07-10 14:38:00   \n",
       "\n",
       "   year  month  MORTGAGE30US  \n",
       "0  2012     12         3.345  \n",
       "1  2020      2         3.465  \n",
       "2  2021      6         2.975  \n",
       "3  2013      7         4.370  \n",
       "4  2015     12         3.964  \n",
       "\n",
       "[5 rows x 62 columns]"
      ]
     },
     "execution_count": 3,
     "metadata": {},
     "output_type": "execute_result"
    }
   ],
   "source": [
    "df.head()"
   ]
  },
  {
   "cell_type": "code",
   "execution_count": 4,
   "id": "04b0b4f4",
   "metadata": {},
   "outputs": [
    {
     "data": {
      "text/plain": [
       "Index(['Unnamed: 0', 'period_begin', 'period_end', 'period_duration',\n",
       "       'region_type', 'region_type_id', 'table_id', 'is_seasonally_adjusted',\n",
       "       'region', 'city', 'state', 'state_code', 'property_type',\n",
       "       'property_type_id', 'median_sale_price', 'median_sale_price_mom',\n",
       "       'median_sale_price_yoy', 'median_list_price', 'median_list_price_mom',\n",
       "       'median_list_price_yoy', 'median_ppsf', 'median_ppsf_mom',\n",
       "       'median_ppsf_yoy', 'median_list_ppsf', 'median_list_ppsf_mom',\n",
       "       'median_list_ppsf_yoy', 'homes_sold', 'homes_sold_mom',\n",
       "       'homes_sold_yoy', 'pending_sales', 'pending_sales_mom',\n",
       "       'pending_sales_yoy', 'new_listings', 'new_listings_mom',\n",
       "       'new_listings_yoy', 'inventory', 'inventory_mom', 'inventory_yoy',\n",
       "       'months_of_supply', 'months_of_supply_mom', 'months_of_supply_yoy',\n",
       "       'median_dom', 'median_dom_mom', 'median_dom_yoy', 'avg_sale_to_list',\n",
       "       'avg_sale_to_list_mom', 'avg_sale_to_list_yoy', 'sold_above_list',\n",
       "       'sold_above_list_mom', 'sold_above_list_yoy', 'price_drops',\n",
       "       'price_drops_mom', 'price_drops_yoy', 'off_market_in_two_weeks',\n",
       "       'off_market_in_two_weeks_mom', 'off_market_in_two_weeks_yoy',\n",
       "       'parent_metro_region', 'parent_metro_region_metro_code', 'last_updated',\n",
       "       'year', 'month', 'MORTGAGE30US'],\n",
       "      dtype='object')"
      ]
     },
     "execution_count": 4,
     "metadata": {},
     "output_type": "execute_result"
    }
   ],
   "source": [
    "df.columns"
   ]
  },
  {
   "cell_type": "code",
   "execution_count": 5,
   "id": "4e5f32ca",
   "metadata": {},
   "outputs": [
    {
     "data": {
      "text/html": [
       "<div>\n",
       "<style scoped>\n",
       "    .dataframe tbody tr th:only-of-type {\n",
       "        vertical-align: middle;\n",
       "    }\n",
       "\n",
       "    .dataframe tbody tr th {\n",
       "        vertical-align: top;\n",
       "    }\n",
       "\n",
       "    .dataframe thead th {\n",
       "        text-align: right;\n",
       "    }\n",
       "</style>\n",
       "<table border=\"1\" class=\"dataframe\">\n",
       "  <thead>\n",
       "    <tr style=\"text-align: right;\">\n",
       "      <th></th>\n",
       "      <th>city</th>\n",
       "      <th>state</th>\n",
       "      <th>state_code</th>\n",
       "      <th>property_type</th>\n",
       "      <th>median_sale_price</th>\n",
       "      <th>median_list_price</th>\n",
       "      <th>median_ppsf</th>\n",
       "      <th>median_list_ppsf</th>\n",
       "      <th>homes_sold</th>\n",
       "      <th>pending_sales</th>\n",
       "      <th>...</th>\n",
       "      <th>median_dom</th>\n",
       "      <th>avg_sale_to_list</th>\n",
       "      <th>sold_above_list</th>\n",
       "      <th>price_drops</th>\n",
       "      <th>off_market_in_two_weeks</th>\n",
       "      <th>parent_metro_region</th>\n",
       "      <th>parent_metro_region_metro_code</th>\n",
       "      <th>year</th>\n",
       "      <th>month</th>\n",
       "      <th>MORTGAGE30US</th>\n",
       "    </tr>\n",
       "  </thead>\n",
       "  <tbody>\n",
       "    <tr>\n",
       "      <th>0</th>\n",
       "      <td>Soledad</td>\n",
       "      <td>California</td>\n",
       "      <td>CA</td>\n",
       "      <td>All Residential</td>\n",
       "      <td>180000.0</td>\n",
       "      <td>125800.0</td>\n",
       "      <td>102.564103</td>\n",
       "      <td>90.752462</td>\n",
       "      <td>19</td>\n",
       "      <td>10.0</td>\n",
       "      <td>...</td>\n",
       "      <td>25.0</td>\n",
       "      <td>1.003447</td>\n",
       "      <td>0.368421</td>\n",
       "      <td>0.250000</td>\n",
       "      <td>0.600000</td>\n",
       "      <td>Salinas, CA</td>\n",
       "      <td>41500</td>\n",
       "      <td>2012</td>\n",
       "      <td>12</td>\n",
       "      <td>3.3450</td>\n",
       "    </tr>\n",
       "    <tr>\n",
       "      <th>1</th>\n",
       "      <td>Freedom</td>\n",
       "      <td>California</td>\n",
       "      <td>CA</td>\n",
       "      <td>Single Family Residential</td>\n",
       "      <td>477500.0</td>\n",
       "      <td>600000.0</td>\n",
       "      <td>528.221778</td>\n",
       "      <td>524.475525</td>\n",
       "      <td>2</td>\n",
       "      <td>1.0</td>\n",
       "      <td>...</td>\n",
       "      <td>14.0</td>\n",
       "      <td>1.012626</td>\n",
       "      <td>0.500000</td>\n",
       "      <td>NaN</td>\n",
       "      <td>1.000000</td>\n",
       "      <td>Santa Cruz, CA</td>\n",
       "      <td>42100</td>\n",
       "      <td>2020</td>\n",
       "      <td>2</td>\n",
       "      <td>3.4650</td>\n",
       "    </tr>\n",
       "    <tr>\n",
       "      <th>2</th>\n",
       "      <td>El Paso de Robles</td>\n",
       "      <td>California</td>\n",
       "      <td>CA</td>\n",
       "      <td>Townhouse</td>\n",
       "      <td>450000.0</td>\n",
       "      <td>NaN</td>\n",
       "      <td>300.000000</td>\n",
       "      <td>NaN</td>\n",
       "      <td>1</td>\n",
       "      <td>NaN</td>\n",
       "      <td>...</td>\n",
       "      <td>3.0</td>\n",
       "      <td>1.011236</td>\n",
       "      <td>1.000000</td>\n",
       "      <td>NaN</td>\n",
       "      <td>NaN</td>\n",
       "      <td>San Luis Obispo, CA</td>\n",
       "      <td>42020</td>\n",
       "      <td>2021</td>\n",
       "      <td>6</td>\n",
       "      <td>2.9750</td>\n",
       "    </tr>\n",
       "    <tr>\n",
       "      <th>3</th>\n",
       "      <td>Willowbrook</td>\n",
       "      <td>California</td>\n",
       "      <td>CA</td>\n",
       "      <td>Multi-Family (2-4 Unit)</td>\n",
       "      <td>295000.0</td>\n",
       "      <td>250000.0</td>\n",
       "      <td>185.897436</td>\n",
       "      <td>175.606641</td>\n",
       "      <td>3</td>\n",
       "      <td>NaN</td>\n",
       "      <td>...</td>\n",
       "      <td>74.0</td>\n",
       "      <td>1.010053</td>\n",
       "      <td>0.666667</td>\n",
       "      <td>0.333333</td>\n",
       "      <td>NaN</td>\n",
       "      <td>Los Angeles, CA</td>\n",
       "      <td>31084</td>\n",
       "      <td>2013</td>\n",
       "      <td>7</td>\n",
       "      <td>4.3700</td>\n",
       "    </tr>\n",
       "    <tr>\n",
       "      <th>4</th>\n",
       "      <td>Colton</td>\n",
       "      <td>California</td>\n",
       "      <td>CA</td>\n",
       "      <td>Single Family Residential</td>\n",
       "      <td>240000.0</td>\n",
       "      <td>229990.0</td>\n",
       "      <td>192.142857</td>\n",
       "      <td>175.259740</td>\n",
       "      <td>37</td>\n",
       "      <td>33.0</td>\n",
       "      <td>...</td>\n",
       "      <td>41.0</td>\n",
       "      <td>0.988592</td>\n",
       "      <td>0.351351</td>\n",
       "      <td>0.230769</td>\n",
       "      <td>0.333333</td>\n",
       "      <td>Riverside, CA</td>\n",
       "      <td>40140</td>\n",
       "      <td>2015</td>\n",
       "      <td>12</td>\n",
       "      <td>3.9640</td>\n",
       "    </tr>\n",
       "    <tr>\n",
       "      <th>...</th>\n",
       "      <td>...</td>\n",
       "      <td>...</td>\n",
       "      <td>...</td>\n",
       "      <td>...</td>\n",
       "      <td>...</td>\n",
       "      <td>...</td>\n",
       "      <td>...</td>\n",
       "      <td>...</td>\n",
       "      <td>...</td>\n",
       "      <td>...</td>\n",
       "      <td>...</td>\n",
       "      <td>...</td>\n",
       "      <td>...</td>\n",
       "      <td>...</td>\n",
       "      <td>...</td>\n",
       "      <td>...</td>\n",
       "      <td>...</td>\n",
       "      <td>...</td>\n",
       "      <td>...</td>\n",
       "      <td>...</td>\n",
       "      <td>...</td>\n",
       "    </tr>\n",
       "    <tr>\n",
       "      <th>349000</th>\n",
       "      <td>Turlock</td>\n",
       "      <td>California</td>\n",
       "      <td>CA</td>\n",
       "      <td>Condo/Co-op</td>\n",
       "      <td>179000.0</td>\n",
       "      <td>289900.0</td>\n",
       "      <td>153.169014</td>\n",
       "      <td>177.501413</td>\n",
       "      <td>7</td>\n",
       "      <td>3.0</td>\n",
       "      <td>...</td>\n",
       "      <td>57.0</td>\n",
       "      <td>0.994159</td>\n",
       "      <td>0.285714</td>\n",
       "      <td>NaN</td>\n",
       "      <td>1.000000</td>\n",
       "      <td>Modesto, CA</td>\n",
       "      <td>33700</td>\n",
       "      <td>2016</td>\n",
       "      <td>6</td>\n",
       "      <td>3.5680</td>\n",
       "    </tr>\n",
       "    <tr>\n",
       "      <th>349001</th>\n",
       "      <td>Modesto</td>\n",
       "      <td>California</td>\n",
       "      <td>CA</td>\n",
       "      <td>Condo/Co-op</td>\n",
       "      <td>172500.0</td>\n",
       "      <td>299000.0</td>\n",
       "      <td>159.036145</td>\n",
       "      <td>186.060983</td>\n",
       "      <td>13</td>\n",
       "      <td>11.0</td>\n",
       "      <td>...</td>\n",
       "      <td>24.0</td>\n",
       "      <td>0.982519</td>\n",
       "      <td>0.230769</td>\n",
       "      <td>0.066667</td>\n",
       "      <td>0.272727</td>\n",
       "      <td>Modesto, CA</td>\n",
       "      <td>33700</td>\n",
       "      <td>2018</td>\n",
       "      <td>1</td>\n",
       "      <td>4.0325</td>\n",
       "    </tr>\n",
       "    <tr>\n",
       "      <th>349002</th>\n",
       "      <td>Vallejo</td>\n",
       "      <td>California</td>\n",
       "      <td>CA</td>\n",
       "      <td>Single Family Residential</td>\n",
       "      <td>310000.0</td>\n",
       "      <td>290000.0</td>\n",
       "      <td>197.201018</td>\n",
       "      <td>194.285714</td>\n",
       "      <td>113</td>\n",
       "      <td>98.0</td>\n",
       "      <td>...</td>\n",
       "      <td>13.0</td>\n",
       "      <td>1.021574</td>\n",
       "      <td>0.495575</td>\n",
       "      <td>0.179641</td>\n",
       "      <td>0.591837</td>\n",
       "      <td>Vallejo, CA</td>\n",
       "      <td>46700</td>\n",
       "      <td>2015</td>\n",
       "      <td>4</td>\n",
       "      <td>3.6720</td>\n",
       "    </tr>\n",
       "    <tr>\n",
       "      <th>349003</th>\n",
       "      <td>Oceano</td>\n",
       "      <td>California</td>\n",
       "      <td>CA</td>\n",
       "      <td>All Residential</td>\n",
       "      <td>409900.0</td>\n",
       "      <td>269900.0</td>\n",
       "      <td>224.324324</td>\n",
       "      <td>225.872690</td>\n",
       "      <td>7</td>\n",
       "      <td>NaN</td>\n",
       "      <td>...</td>\n",
       "      <td>84.0</td>\n",
       "      <td>0.968060</td>\n",
       "      <td>0.000000</td>\n",
       "      <td>0.160000</td>\n",
       "      <td>NaN</td>\n",
       "      <td>San Luis Obispo, CA</td>\n",
       "      <td>42020</td>\n",
       "      <td>2013</td>\n",
       "      <td>11</td>\n",
       "      <td>4.2550</td>\n",
       "    </tr>\n",
       "    <tr>\n",
       "      <th>349004</th>\n",
       "      <td>Rio Dell</td>\n",
       "      <td>California</td>\n",
       "      <td>CA</td>\n",
       "      <td>All Residential</td>\n",
       "      <td>310000.0</td>\n",
       "      <td>840000.0</td>\n",
       "      <td>230.802688</td>\n",
       "      <td>466.327631</td>\n",
       "      <td>4</td>\n",
       "      <td>2.0</td>\n",
       "      <td>...</td>\n",
       "      <td>88.0</td>\n",
       "      <td>1.031059</td>\n",
       "      <td>0.750000</td>\n",
       "      <td>NaN</td>\n",
       "      <td>0.000000</td>\n",
       "      <td>Eureka, CA</td>\n",
       "      <td>21700</td>\n",
       "      <td>2022</td>\n",
       "      <td>1</td>\n",
       "      <td>3.4450</td>\n",
       "    </tr>\n",
       "  </tbody>\n",
       "</table>\n",
       "<p>349005 rows × 23 columns</p>\n",
       "</div>"
      ],
      "text/plain": [
       "                     city       state state_code              property_type  \\\n",
       "0                 Soledad  California         CA            All Residential   \n",
       "1                 Freedom  California         CA  Single Family Residential   \n",
       "2       El Paso de Robles  California         CA                  Townhouse   \n",
       "3             Willowbrook  California         CA    Multi-Family (2-4 Unit)   \n",
       "4                  Colton  California         CA  Single Family Residential   \n",
       "...                   ...         ...        ...                        ...   \n",
       "349000            Turlock  California         CA                Condo/Co-op   \n",
       "349001            Modesto  California         CA                Condo/Co-op   \n",
       "349002            Vallejo  California         CA  Single Family Residential   \n",
       "349003             Oceano  California         CA            All Residential   \n",
       "349004           Rio Dell  California         CA            All Residential   \n",
       "\n",
       "        median_sale_price  median_list_price  median_ppsf  median_list_ppsf  \\\n",
       "0                180000.0           125800.0   102.564103         90.752462   \n",
       "1                477500.0           600000.0   528.221778        524.475525   \n",
       "2                450000.0                NaN   300.000000               NaN   \n",
       "3                295000.0           250000.0   185.897436        175.606641   \n",
       "4                240000.0           229990.0   192.142857        175.259740   \n",
       "...                   ...                ...          ...               ...   \n",
       "349000           179000.0           289900.0   153.169014        177.501413   \n",
       "349001           172500.0           299000.0   159.036145        186.060983   \n",
       "349002           310000.0           290000.0   197.201018        194.285714   \n",
       "349003           409900.0           269900.0   224.324324        225.872690   \n",
       "349004           310000.0           840000.0   230.802688        466.327631   \n",
       "\n",
       "        homes_sold  pending_sales  ...  median_dom  avg_sale_to_list  \\\n",
       "0               19           10.0  ...        25.0          1.003447   \n",
       "1                2            1.0  ...        14.0          1.012626   \n",
       "2                1            NaN  ...         3.0          1.011236   \n",
       "3                3            NaN  ...        74.0          1.010053   \n",
       "4               37           33.0  ...        41.0          0.988592   \n",
       "...            ...            ...  ...         ...               ...   \n",
       "349000           7            3.0  ...        57.0          0.994159   \n",
       "349001          13           11.0  ...        24.0          0.982519   \n",
       "349002         113           98.0  ...        13.0          1.021574   \n",
       "349003           7            NaN  ...        84.0          0.968060   \n",
       "349004           4            2.0  ...        88.0          1.031059   \n",
       "\n",
       "        sold_above_list  price_drops  off_market_in_two_weeks  \\\n",
       "0              0.368421     0.250000                 0.600000   \n",
       "1              0.500000          NaN                 1.000000   \n",
       "2              1.000000          NaN                      NaN   \n",
       "3              0.666667     0.333333                      NaN   \n",
       "4              0.351351     0.230769                 0.333333   \n",
       "...                 ...          ...                      ...   \n",
       "349000         0.285714          NaN                 1.000000   \n",
       "349001         0.230769     0.066667                 0.272727   \n",
       "349002         0.495575     0.179641                 0.591837   \n",
       "349003         0.000000     0.160000                      NaN   \n",
       "349004         0.750000          NaN                 0.000000   \n",
       "\n",
       "        parent_metro_region  parent_metro_region_metro_code  year month  \\\n",
       "0               Salinas, CA                           41500  2012    12   \n",
       "1            Santa Cruz, CA                           42100  2020     2   \n",
       "2       San Luis Obispo, CA                           42020  2021     6   \n",
       "3           Los Angeles, CA                           31084  2013     7   \n",
       "4             Riverside, CA                           40140  2015    12   \n",
       "...                     ...                             ...   ...   ...   \n",
       "349000          Modesto, CA                           33700  2016     6   \n",
       "349001          Modesto, CA                           33700  2018     1   \n",
       "349002          Vallejo, CA                           46700  2015     4   \n",
       "349003  San Luis Obispo, CA                           42020  2013    11   \n",
       "349004           Eureka, CA                           21700  2022     1   \n",
       "\n",
       "        MORTGAGE30US  \n",
       "0             3.3450  \n",
       "1             3.4650  \n",
       "2             2.9750  \n",
       "3             4.3700  \n",
       "4             3.9640  \n",
       "...              ...  \n",
       "349000        3.5680  \n",
       "349001        4.0325  \n",
       "349002        3.6720  \n",
       "349003        4.2550  \n",
       "349004        3.4450  \n",
       "\n",
       "[349005 rows x 23 columns]"
      ]
     },
     "execution_count": 5,
     "metadata": {},
     "output_type": "execute_result"
    }
   ],
   "source": [
    "columns_of_intrest = ['city', 'state', 'state_code', 'property_type', 'median_sale_price', 'median_list_price', 'median_ppsf',\n",
    "                      'median_list_ppsf', 'homes_sold', 'pending_sales', 'new_listings', 'inventory', 'months_of_supply',\n",
    "                      'median_dom', 'avg_sale_to_list', 'sold_above_list', 'price_drops', 'off_market_in_two_weeks', \n",
    "                      'parent_metro_region', 'parent_metro_region_metro_code', 'year', 'month', 'MORTGAGE30US']\n",
    "df = df[columns_of_intrest]\n",
    "df\n"
   ]
  },
  {
   "cell_type": "code",
   "execution_count": 6,
   "id": "f5c3ab9b",
   "metadata": {},
   "outputs": [
    {
     "data": {
      "text/html": [
       "<div>\n",
       "<style scoped>\n",
       "    .dataframe tbody tr th:only-of-type {\n",
       "        vertical-align: middle;\n",
       "    }\n",
       "\n",
       "    .dataframe tbody tr th {\n",
       "        vertical-align: top;\n",
       "    }\n",
       "\n",
       "    .dataframe thead th {\n",
       "        text-align: right;\n",
       "    }\n",
       "</style>\n",
       "<table border=\"1\" class=\"dataframe\">\n",
       "  <thead>\n",
       "    <tr style=\"text-align: right;\">\n",
       "      <th></th>\n",
       "      <th>median_sale_price</th>\n",
       "      <th>median_list_price</th>\n",
       "      <th>median_ppsf</th>\n",
       "      <th>median_list_ppsf</th>\n",
       "      <th>homes_sold</th>\n",
       "      <th>pending_sales</th>\n",
       "      <th>new_listings</th>\n",
       "      <th>inventory</th>\n",
       "      <th>months_of_supply</th>\n",
       "      <th>median_dom</th>\n",
       "      <th>avg_sale_to_list</th>\n",
       "      <th>sold_above_list</th>\n",
       "      <th>price_drops</th>\n",
       "      <th>off_market_in_two_weeks</th>\n",
       "      <th>parent_metro_region_metro_code</th>\n",
       "      <th>year</th>\n",
       "      <th>month</th>\n",
       "      <th>MORTGAGE30US</th>\n",
       "    </tr>\n",
       "  </thead>\n",
       "  <tbody>\n",
       "    <tr>\n",
       "      <th>count</th>\n",
       "      <td>3.490050e+05</td>\n",
       "      <td>3.088230e+05</td>\n",
       "      <td>3.473240e+05</td>\n",
       "      <td>3.086920e+05</td>\n",
       "      <td>349005.000000</td>\n",
       "      <td>303547.000000</td>\n",
       "      <td>308837.000000</td>\n",
       "      <td>328568.000000</td>\n",
       "      <td>328568.000000</td>\n",
       "      <td>343468.000000</td>\n",
       "      <td>348853.000000</td>\n",
       "      <td>349005.000000</td>\n",
       "      <td>246969.000000</td>\n",
       "      <td>303547.000000</td>\n",
       "      <td>349005.000000</td>\n",
       "      <td>349005.000000</td>\n",
       "      <td>349005.000000</td>\n",
       "      <td>349005.000000</td>\n",
       "    </tr>\n",
       "    <tr>\n",
       "      <th>mean</th>\n",
       "      <td>6.266154e+05</td>\n",
       "      <td>6.948017e+05</td>\n",
       "      <td>4.309700e+02</td>\n",
       "      <td>4.175109e+02</td>\n",
       "      <td>23.430415</td>\n",
       "      <td>24.505938</td>\n",
       "      <td>30.291594</td>\n",
       "      <td>54.660293</td>\n",
       "      <td>2.965808</td>\n",
       "      <td>60.972746</td>\n",
       "      <td>0.996315</td>\n",
       "      <td>0.355539</td>\n",
       "      <td>0.256939</td>\n",
       "      <td>0.380802</td>\n",
       "      <td>34990.377502</td>\n",
       "      <td>2016.868013</td>\n",
       "      <td>6.409948</td>\n",
       "      <td>3.809249</td>\n",
       "    </tr>\n",
       "    <tr>\n",
       "      <th>std</th>\n",
       "      <td>6.658542e+05</td>\n",
       "      <td>1.334131e+06</td>\n",
       "      <td>6.987570e+03</td>\n",
       "      <td>1.420956e+04</td>\n",
       "      <td>76.653873</td>\n",
       "      <td>77.577829</td>\n",
       "      <td>97.274394</td>\n",
       "      <td>186.923882</td>\n",
       "      <td>2.867542</td>\n",
       "      <td>162.284953</td>\n",
       "      <td>0.051322</td>\n",
       "      <td>0.314210</td>\n",
       "      <td>0.172107</td>\n",
       "      <td>0.293707</td>\n",
       "      <td>9586.884913</td>\n",
       "      <td>3.053384</td>\n",
       "      <td>3.417106</td>\n",
       "      <td>0.554724</td>\n",
       "    </tr>\n",
       "    <tr>\n",
       "      <th>min</th>\n",
       "      <td>1.000000e+00</td>\n",
       "      <td>8.500000e+02</td>\n",
       "      <td>6.896550e-04</td>\n",
       "      <td>2.833333e-01</td>\n",
       "      <td>1.000000</td>\n",
       "      <td>1.000000</td>\n",
       "      <td>1.000000</td>\n",
       "      <td>1.000000</td>\n",
       "      <td>0.000000</td>\n",
       "      <td>1.000000</td>\n",
       "      <td>0.500000</td>\n",
       "      <td>0.000000</td>\n",
       "      <td>0.002257</td>\n",
       "      <td>0.000000</td>\n",
       "      <td>11244.000000</td>\n",
       "      <td>2012.000000</td>\n",
       "      <td>1.000000</td>\n",
       "      <td>2.684000</td>\n",
       "    </tr>\n",
       "    <tr>\n",
       "      <th>25%</th>\n",
       "      <td>2.835000e+05</td>\n",
       "      <td>3.369500e+05</td>\n",
       "      <td>1.836594e+02</td>\n",
       "      <td>2.051974e+02</td>\n",
       "      <td>2.000000</td>\n",
       "      <td>2.000000</td>\n",
       "      <td>3.000000</td>\n",
       "      <td>5.000000</td>\n",
       "      <td>1.300000</td>\n",
       "      <td>18.000000</td>\n",
       "      <td>0.977104</td>\n",
       "      <td>0.000000</td>\n",
       "      <td>0.142857</td>\n",
       "      <td>0.142857</td>\n",
       "      <td>31084.000000</td>\n",
       "      <td>2014.000000</td>\n",
       "      <td>3.000000</td>\n",
       "      <td>3.460000</td>\n",
       "    </tr>\n",
       "    <tr>\n",
       "      <th>50%</th>\n",
       "      <td>4.525000e+05</td>\n",
       "      <td>5.190000e+05</td>\n",
       "      <td>2.913304e+02</td>\n",
       "      <td>3.144105e+02</td>\n",
       "      <td>6.000000</td>\n",
       "      <td>7.000000</td>\n",
       "      <td>9.000000</td>\n",
       "      <td>15.000000</td>\n",
       "      <td>2.100000</td>\n",
       "      <td>36.000000</td>\n",
       "      <td>0.994916</td>\n",
       "      <td>0.333333</td>\n",
       "      <td>0.220000</td>\n",
       "      <td>0.363636</td>\n",
       "      <td>40140.000000</td>\n",
       "      <td>2017.000000</td>\n",
       "      <td>6.000000</td>\n",
       "      <td>3.805000</td>\n",
       "    </tr>\n",
       "    <tr>\n",
       "      <th>75%</th>\n",
       "      <td>7.260000e+05</td>\n",
       "      <td>7.825000e+05</td>\n",
       "      <td>4.378262e+02</td>\n",
       "      <td>4.585214e+02</td>\n",
       "      <td>19.000000</td>\n",
       "      <td>21.000000</td>\n",
       "      <td>26.000000</td>\n",
       "      <td>47.000000</td>\n",
       "      <td>3.600000</td>\n",
       "      <td>64.000000</td>\n",
       "      <td>1.011814</td>\n",
       "      <td>0.538462</td>\n",
       "      <td>0.323944</td>\n",
       "      <td>0.555556</td>\n",
       "      <td>41740.000000</td>\n",
       "      <td>2020.000000</td>\n",
       "      <td>9.000000</td>\n",
       "      <td>4.167500</td>\n",
       "    </tr>\n",
       "    <tr>\n",
       "      <th>max</th>\n",
       "      <td>5.980000e+07</td>\n",
       "      <td>4.330125e+08</td>\n",
       "      <td>1.525000e+06</td>\n",
       "      <td>5.500000e+06</td>\n",
       "      <td>2981.000000</td>\n",
       "      <td>2839.000000</td>\n",
       "      <td>3584.000000</td>\n",
       "      <td>9126.000000</td>\n",
       "      <td>87.000000</td>\n",
       "      <td>20506.000000</td>\n",
       "      <td>2.000000</td>\n",
       "      <td>1.000000</td>\n",
       "      <td>1.000000</td>\n",
       "      <td>2.000000</td>\n",
       "      <td>49700.000000</td>\n",
       "      <td>2022.000000</td>\n",
       "      <td>12.000000</td>\n",
       "      <td>5.522000</td>\n",
       "    </tr>\n",
       "  </tbody>\n",
       "</table>\n",
       "</div>"
      ],
      "text/plain": [
       "       median_sale_price  median_list_price   median_ppsf  median_list_ppsf  \\\n",
       "count       3.490050e+05       3.088230e+05  3.473240e+05      3.086920e+05   \n",
       "mean        6.266154e+05       6.948017e+05  4.309700e+02      4.175109e+02   \n",
       "std         6.658542e+05       1.334131e+06  6.987570e+03      1.420956e+04   \n",
       "min         1.000000e+00       8.500000e+02  6.896550e-04      2.833333e-01   \n",
       "25%         2.835000e+05       3.369500e+05  1.836594e+02      2.051974e+02   \n",
       "50%         4.525000e+05       5.190000e+05  2.913304e+02      3.144105e+02   \n",
       "75%         7.260000e+05       7.825000e+05  4.378262e+02      4.585214e+02   \n",
       "max         5.980000e+07       4.330125e+08  1.525000e+06      5.500000e+06   \n",
       "\n",
       "          homes_sold  pending_sales   new_listings      inventory  \\\n",
       "count  349005.000000  303547.000000  308837.000000  328568.000000   \n",
       "mean       23.430415      24.505938      30.291594      54.660293   \n",
       "std        76.653873      77.577829      97.274394     186.923882   \n",
       "min         1.000000       1.000000       1.000000       1.000000   \n",
       "25%         2.000000       2.000000       3.000000       5.000000   \n",
       "50%         6.000000       7.000000       9.000000      15.000000   \n",
       "75%        19.000000      21.000000      26.000000      47.000000   \n",
       "max      2981.000000    2839.000000    3584.000000    9126.000000   \n",
       "\n",
       "       months_of_supply     median_dom  avg_sale_to_list  sold_above_list  \\\n",
       "count     328568.000000  343468.000000     348853.000000    349005.000000   \n",
       "mean           2.965808      60.972746          0.996315         0.355539   \n",
       "std            2.867542     162.284953          0.051322         0.314210   \n",
       "min            0.000000       1.000000          0.500000         0.000000   \n",
       "25%            1.300000      18.000000          0.977104         0.000000   \n",
       "50%            2.100000      36.000000          0.994916         0.333333   \n",
       "75%            3.600000      64.000000          1.011814         0.538462   \n",
       "max           87.000000   20506.000000          2.000000         1.000000   \n",
       "\n",
       "         price_drops  off_market_in_two_weeks  parent_metro_region_metro_code  \\\n",
       "count  246969.000000            303547.000000                   349005.000000   \n",
       "mean        0.256939                 0.380802                    34990.377502   \n",
       "std         0.172107                 0.293707                     9586.884913   \n",
       "min         0.002257                 0.000000                    11244.000000   \n",
       "25%         0.142857                 0.142857                    31084.000000   \n",
       "50%         0.220000                 0.363636                    40140.000000   \n",
       "75%         0.323944                 0.555556                    41740.000000   \n",
       "max         1.000000                 2.000000                    49700.000000   \n",
       "\n",
       "                year          month   MORTGAGE30US  \n",
       "count  349005.000000  349005.000000  349005.000000  \n",
       "mean     2016.868013       6.409948       3.809249  \n",
       "std         3.053384       3.417106       0.554724  \n",
       "min      2012.000000       1.000000       2.684000  \n",
       "25%      2014.000000       3.000000       3.460000  \n",
       "50%      2017.000000       6.000000       3.805000  \n",
       "75%      2020.000000       9.000000       4.167500  \n",
       "max      2022.000000      12.000000       5.522000  "
      ]
     },
     "execution_count": 6,
     "metadata": {},
     "output_type": "execute_result"
    }
   ],
   "source": [
    "df.describe()"
   ]
  },
  {
   "cell_type": "code",
   "execution_count": 7,
   "id": "894038a8",
   "metadata": {},
   "outputs": [
    {
     "data": {
      "text/plain": [
       "361859"
      ]
     },
     "execution_count": 7,
     "metadata": {},
     "output_type": "execute_result"
    }
   ],
   "source": [
    "df.isna().sum().sum()"
   ]
  },
  {
   "cell_type": "code",
   "execution_count": 8,
   "id": "290210be",
   "metadata": {},
   "outputs": [
    {
     "data": {
      "text/plain": [
       "city                               0.000000\n",
       "state                              0.000000\n",
       "state_code                         0.000000\n",
       "property_type                      0.000000\n",
       "median_sale_price                  0.000000\n",
       "median_list_price                 11.513302\n",
       "median_ppsf                        0.481655\n",
       "median_list_ppsf                  11.550837\n",
       "homes_sold                         0.000000\n",
       "pending_sales                     13.025028\n",
       "new_listings                      11.509291\n",
       "inventory                          5.855790\n",
       "months_of_supply                   5.855790\n",
       "median_dom                         1.586510\n",
       "avg_sale_to_list                   0.043552\n",
       "sold_above_list                    0.000000\n",
       "price_drops                       29.236257\n",
       "off_market_in_two_weeks           13.025028\n",
       "parent_metro_region                0.000000\n",
       "parent_metro_region_metro_code     0.000000\n",
       "year                               0.000000\n",
       "month                              0.000000\n",
       "MORTGAGE30US                       0.000000\n",
       "dtype: float64"
      ]
     },
     "execution_count": 8,
     "metadata": {},
     "output_type": "execute_result"
    }
   ],
   "source": [
    "df.isnull().sum()/len(df)*100"
   ]
  },
  {
   "cell_type": "code",
   "execution_count": 9,
   "id": "fbffe655",
   "metadata": {},
   "outputs": [
    {
     "name": "stdout",
     "output_type": "stream",
     "text": [
      "Percentage of Missing Values:\n",
      "median_list_price          11.513302\n",
      "median_ppsf                 0.481655\n",
      "median_list_ppsf           11.550837\n",
      "pending_sales              13.025028\n",
      "new_listings               11.509291\n",
      "inventory                   5.855790\n",
      "months_of_supply            5.855790\n",
      "median_dom                  1.586510\n",
      "avg_sale_to_list            0.043552\n",
      "price_drops                29.236257\n",
      "off_market_in_two_weeks    13.025028\n",
      "dtype: float64\n",
      "\n",
      "median_list_price\n",
      "699000.0     1902\n",
      "599000.0     1755\n",
      "499000.0     1636\n",
      "799000.0     1555\n",
      "399000.0     1504\n",
      "             ... \n",
      "1519500.0       1\n",
      "520444.0        1\n",
      "1318444.0       1\n",
      "6900000.0       1\n",
      "767250.0        1\n",
      "Name: median_list_price, Length: 16845, dtype: int64\n"
     ]
    }
   ],
   "source": [
    "missing_vals = df.isna().sum()/len(df)*100\n",
    "missing_vals = missing_vals[missing_vals > 0]\n",
    "print('Percentage of Missing Values:')\n",
    "print(missing_vals)\n",
    "print()\n",
    "print('median_list_price')\n",
    "print(df['median_list_price'].value_counts())"
   ]
  },
  {
   "cell_type": "markdown",
   "id": "5c8b878e",
   "metadata": {},
   "source": [
    "The maximum number of house that were from city burbank,Mountain View, Spring Valley, El Cerrito and Live Oak(top5)"
   ]
  },
  {
   "cell_type": "markdown",
   "id": "aa78d829",
   "metadata": {},
   "source": [
    "# Property_type feature cleaning"
   ]
  },
  {
   "cell_type": "code",
   "execution_count": 10,
   "id": "366e5ad2",
   "metadata": {},
   "outputs": [
    {
     "data": {
      "text/plain": [
       "All Residential              119509\n",
       "Single Family Residential    117825\n",
       "Condo/Co-op                   48786\n",
       "Multi-Family (2-4 Unit)       32682\n",
       "Townhouse                     30203\n",
       "Name: property_type, dtype: int64"
      ]
     },
     "execution_count": 10,
     "metadata": {},
     "output_type": "execute_result"
    }
   ],
   "source": [
    "df['property_type'].value_counts()"
   ]
  },
  {
   "cell_type": "code",
   "execution_count": 11,
   "id": "19fb75ff",
   "metadata": {},
   "outputs": [
    {
     "data": {
      "text/plain": [
       "array(['All Residential', 'Single Family Residential', 'Townhouse',\n",
       "       'Multi-Family (2-4 Unit)', 'Condo/Co-op'], dtype=object)"
      ]
     },
     "execution_count": 11,
     "metadata": {},
     "output_type": "execute_result"
    }
   ],
   "source": [
    "df['property_type'].unique()"
   ]
  },
  {
   "cell_type": "markdown",
   "id": "5cd1b81c",
   "metadata": {},
   "source": [
    "# This feature is Categorical featire with 5 unique labels, hence we need to change this to numeric feature, for this we are using one hot encoding."
   ]
  },
  {
   "cell_type": "code",
   "execution_count": 12,
   "id": "590fdaad",
   "metadata": {},
   "outputs": [],
   "source": [
    "# performing one hot encoding \n",
    "df['property_type']=df['property_type'].replace(['All Residential'],\"PropertyType_All_Residential\")\n",
    "df['property_type']=df['property_type'].replace(['Single Family Residential'],\"PropertyType_Single_Family_Residential\")\n",
    "df['property_type']=df['property_type'].replace(['Townhouse'],\"PropertyType_Condo/Co-op\")\n",
    "df['property_type']=df['property_type'].replace(['Multi-Family (2-4 Unit)'],\"PropertyType_Multi-Family(2-4 Unit)\")\n",
    "df['property_type']=df['property_type'].replace(['Condo/Co-op'],\"PropertyType_Townhouse \")\n",
    "one_hot_property_type = pd.get_dummies(df['property_type'])\n",
    "df = df.drop('property_type',axis = 1)\n",
    "df = df.join(one_hot_property_type)"
   ]
  },
  {
   "cell_type": "code",
   "execution_count": 13,
   "id": "f19bd24c",
   "metadata": {},
   "outputs": [
    {
     "data": {
      "text/html": [
       "<div>\n",
       "<style scoped>\n",
       "    .dataframe tbody tr th:only-of-type {\n",
       "        vertical-align: middle;\n",
       "    }\n",
       "\n",
       "    .dataframe tbody tr th {\n",
       "        vertical-align: top;\n",
       "    }\n",
       "\n",
       "    .dataframe thead th {\n",
       "        text-align: right;\n",
       "    }\n",
       "</style>\n",
       "<table border=\"1\" class=\"dataframe\">\n",
       "  <thead>\n",
       "    <tr style=\"text-align: right;\">\n",
       "      <th></th>\n",
       "      <th>city</th>\n",
       "      <th>state</th>\n",
       "      <th>state_code</th>\n",
       "      <th>median_sale_price</th>\n",
       "      <th>median_list_price</th>\n",
       "      <th>median_ppsf</th>\n",
       "      <th>median_list_ppsf</th>\n",
       "      <th>homes_sold</th>\n",
       "      <th>pending_sales</th>\n",
       "      <th>new_listings</th>\n",
       "      <th>...</th>\n",
       "      <th>parent_metro_region</th>\n",
       "      <th>parent_metro_region_metro_code</th>\n",
       "      <th>year</th>\n",
       "      <th>month</th>\n",
       "      <th>MORTGAGE30US</th>\n",
       "      <th>PropertyType_All_Residential</th>\n",
       "      <th>PropertyType_Condo/Co-op</th>\n",
       "      <th>PropertyType_Multi-Family(2-4 Unit)</th>\n",
       "      <th>PropertyType_Single_Family_Residential</th>\n",
       "      <th>PropertyType_Townhouse</th>\n",
       "    </tr>\n",
       "  </thead>\n",
       "  <tbody>\n",
       "    <tr>\n",
       "      <th>0</th>\n",
       "      <td>Soledad</td>\n",
       "      <td>California</td>\n",
       "      <td>CA</td>\n",
       "      <td>180000.0</td>\n",
       "      <td>125800.0</td>\n",
       "      <td>102.564103</td>\n",
       "      <td>90.752462</td>\n",
       "      <td>19</td>\n",
       "      <td>10.0</td>\n",
       "      <td>6.0</td>\n",
       "      <td>...</td>\n",
       "      <td>Salinas, CA</td>\n",
       "      <td>41500</td>\n",
       "      <td>2012</td>\n",
       "      <td>12</td>\n",
       "      <td>3.345</td>\n",
       "      <td>1</td>\n",
       "      <td>0</td>\n",
       "      <td>0</td>\n",
       "      <td>0</td>\n",
       "      <td>0</td>\n",
       "    </tr>\n",
       "    <tr>\n",
       "      <th>1</th>\n",
       "      <td>Freedom</td>\n",
       "      <td>California</td>\n",
       "      <td>CA</td>\n",
       "      <td>477500.0</td>\n",
       "      <td>600000.0</td>\n",
       "      <td>528.221778</td>\n",
       "      <td>524.475525</td>\n",
       "      <td>2</td>\n",
       "      <td>1.0</td>\n",
       "      <td>1.0</td>\n",
       "      <td>...</td>\n",
       "      <td>Santa Cruz, CA</td>\n",
       "      <td>42100</td>\n",
       "      <td>2020</td>\n",
       "      <td>2</td>\n",
       "      <td>3.465</td>\n",
       "      <td>0</td>\n",
       "      <td>0</td>\n",
       "      <td>0</td>\n",
       "      <td>1</td>\n",
       "      <td>0</td>\n",
       "    </tr>\n",
       "    <tr>\n",
       "      <th>2</th>\n",
       "      <td>El Paso de Robles</td>\n",
       "      <td>California</td>\n",
       "      <td>CA</td>\n",
       "      <td>450000.0</td>\n",
       "      <td>NaN</td>\n",
       "      <td>300.000000</td>\n",
       "      <td>NaN</td>\n",
       "      <td>1</td>\n",
       "      <td>NaN</td>\n",
       "      <td>NaN</td>\n",
       "      <td>...</td>\n",
       "      <td>San Luis Obispo, CA</td>\n",
       "      <td>42020</td>\n",
       "      <td>2021</td>\n",
       "      <td>6</td>\n",
       "      <td>2.975</td>\n",
       "      <td>0</td>\n",
       "      <td>1</td>\n",
       "      <td>0</td>\n",
       "      <td>0</td>\n",
       "      <td>0</td>\n",
       "    </tr>\n",
       "    <tr>\n",
       "      <th>3</th>\n",
       "      <td>Willowbrook</td>\n",
       "      <td>California</td>\n",
       "      <td>CA</td>\n",
       "      <td>295000.0</td>\n",
       "      <td>250000.0</td>\n",
       "      <td>185.897436</td>\n",
       "      <td>175.606641</td>\n",
       "      <td>3</td>\n",
       "      <td>NaN</td>\n",
       "      <td>1.0</td>\n",
       "      <td>...</td>\n",
       "      <td>Los Angeles, CA</td>\n",
       "      <td>31084</td>\n",
       "      <td>2013</td>\n",
       "      <td>7</td>\n",
       "      <td>4.370</td>\n",
       "      <td>0</td>\n",
       "      <td>0</td>\n",
       "      <td>1</td>\n",
       "      <td>0</td>\n",
       "      <td>0</td>\n",
       "    </tr>\n",
       "    <tr>\n",
       "      <th>4</th>\n",
       "      <td>Colton</td>\n",
       "      <td>California</td>\n",
       "      <td>CA</td>\n",
       "      <td>240000.0</td>\n",
       "      <td>229990.0</td>\n",
       "      <td>192.142857</td>\n",
       "      <td>175.259740</td>\n",
       "      <td>37</td>\n",
       "      <td>33.0</td>\n",
       "      <td>27.0</td>\n",
       "      <td>...</td>\n",
       "      <td>Riverside, CA</td>\n",
       "      <td>40140</td>\n",
       "      <td>2015</td>\n",
       "      <td>12</td>\n",
       "      <td>3.964</td>\n",
       "      <td>0</td>\n",
       "      <td>0</td>\n",
       "      <td>0</td>\n",
       "      <td>1</td>\n",
       "      <td>0</td>\n",
       "    </tr>\n",
       "  </tbody>\n",
       "</table>\n",
       "<p>5 rows × 27 columns</p>\n",
       "</div>"
      ],
      "text/plain": [
       "                city       state state_code  median_sale_price  \\\n",
       "0            Soledad  California         CA           180000.0   \n",
       "1            Freedom  California         CA           477500.0   \n",
       "2  El Paso de Robles  California         CA           450000.0   \n",
       "3        Willowbrook  California         CA           295000.0   \n",
       "4             Colton  California         CA           240000.0   \n",
       "\n",
       "   median_list_price  median_ppsf  median_list_ppsf  homes_sold  \\\n",
       "0           125800.0   102.564103         90.752462          19   \n",
       "1           600000.0   528.221778        524.475525           2   \n",
       "2                NaN   300.000000               NaN           1   \n",
       "3           250000.0   185.897436        175.606641           3   \n",
       "4           229990.0   192.142857        175.259740          37   \n",
       "\n",
       "   pending_sales  new_listings  ...  parent_metro_region  \\\n",
       "0           10.0           6.0  ...          Salinas, CA   \n",
       "1            1.0           1.0  ...       Santa Cruz, CA   \n",
       "2            NaN           NaN  ...  San Luis Obispo, CA   \n",
       "3            NaN           1.0  ...      Los Angeles, CA   \n",
       "4           33.0          27.0  ...        Riverside, CA   \n",
       "\n",
       "   parent_metro_region_metro_code  year  month  MORTGAGE30US  \\\n",
       "0                           41500  2012     12         3.345   \n",
       "1                           42100  2020      2         3.465   \n",
       "2                           42020  2021      6         2.975   \n",
       "3                           31084  2013      7         4.370   \n",
       "4                           40140  2015     12         3.964   \n",
       "\n",
       "   PropertyType_All_Residential  PropertyType_Condo/Co-op  \\\n",
       "0                             1                         0   \n",
       "1                             0                         0   \n",
       "2                             0                         1   \n",
       "3                             0                         0   \n",
       "4                             0                         0   \n",
       "\n",
       "  PropertyType_Multi-Family(2-4 Unit)  PropertyType_Single_Family_Residential  \\\n",
       "0                                   0                                       0   \n",
       "1                                   0                                       1   \n",
       "2                                   0                                       0   \n",
       "3                                   1                                       0   \n",
       "4                                   0                                       1   \n",
       "\n",
       "   PropertyType_Townhouse   \n",
       "0                        0  \n",
       "1                        0  \n",
       "2                        0  \n",
       "3                        0  \n",
       "4                        0  \n",
       "\n",
       "[5 rows x 27 columns]"
      ]
     },
     "execution_count": 13,
     "metadata": {},
     "output_type": "execute_result"
    }
   ],
   "source": [
    "df.head()"
   ]
  },
  {
   "cell_type": "markdown",
   "id": "96a5ba8a",
   "metadata": {},
   "source": [
    "# Median_Sale_Price feature cleaning"
   ]
  },
  {
   "cell_type": "code",
   "execution_count": 14,
   "id": "71524906",
   "metadata": {},
   "outputs": [
    {
     "data": {
      "text/plain": [
       "350000.0     1727\n",
       "450000.0     1708\n",
       "300000.0     1578\n",
       "250000.0     1574\n",
       "400000.0     1552\n",
       "             ... \n",
       "351455.0        1\n",
       "725454.5        1\n",
       "666191.0        1\n",
       "1972750.0       1\n",
       "197045.5        1\n",
       "Name: median_sale_price, Length: 17714, dtype: int64"
      ]
     },
     "execution_count": 14,
     "metadata": {},
     "output_type": "execute_result"
    }
   ],
   "source": [
    "df['median_sale_price'].value_counts()"
   ]
  },
  {
   "cell_type": "code",
   "execution_count": 15,
   "id": "187c4872",
   "metadata": {},
   "outputs": [
    {
     "data": {
      "text/plain": [
       "0         180000.0\n",
       "1         477500.0\n",
       "2         450000.0\n",
       "3         295000.0\n",
       "4         240000.0\n",
       "            ...   \n",
       "349000    179000.0\n",
       "349001    172500.0\n",
       "349002    310000.0\n",
       "349003    409900.0\n",
       "349004    310000.0\n",
       "Name: median_sale_price, Length: 349005, dtype: float64"
      ]
     },
     "execution_count": 15,
     "metadata": {},
     "output_type": "execute_result"
    }
   ],
   "source": [
    "df['median_sale_price']"
   ]
  },
  {
   "cell_type": "code",
   "execution_count": 16,
   "id": "16a1a709",
   "metadata": {},
   "outputs": [
    {
     "data": {
      "text/plain": [
       "0"
      ]
     },
     "execution_count": 16,
     "metadata": {},
     "output_type": "execute_result"
    }
   ],
   "source": [
    "# checking for negative value in feature \"median_sale_price\"\n",
    "(df['median_sale_price'] < 0).sum().sum()\n",
    "    "
   ]
  },
  {
   "cell_type": "code",
   "execution_count": 17,
   "id": "806b2441",
   "metadata": {},
   "outputs": [
    {
     "data": {
      "text/plain": [
       "<AxesSubplot:>"
      ]
     },
     "execution_count": 17,
     "metadata": {},
     "output_type": "execute_result"
    },
    {
     "data": {
      "image/png": "[encoded data removed]",
      "text/plain": [
       "<Figure size 360x360 with 1 Axes>"
      ]
     },
     "metadata": {
      "needs_background": "light"
     },
     "output_type": "display_data"
    }
   ],
   "source": [
    "#box plot before removing outliers\n",
    "fig, axes = plt.subplots(1, 1, figsize=(5,5))\n",
    "fig.suptitle('Detecting Feature Value Outliers')\n",
    "#Visualize the median_sale_price\n",
    "df['median_sale_price'].plot(kind=\"box\")"
   ]
  },
  {
   "cell_type": "code",
   "execution_count": 18,
   "id": "b053d282",
   "metadata": {},
   "outputs": [
    {
     "name": "stdout",
     "output_type": "stream",
     "text": [
      "9223372036854775807\n",
      "1.0\n",
      "59800000.0\n"
     ]
    }
   ],
   "source": [
    "\n",
    "count = 1;\n",
    "min_value = sys.maxsize\n",
    "max_value = -1\n",
    "print(min_value)\n",
    "for key, value in df['median_sale_price'].iteritems():\n",
    "    if value < min_value:\n",
    "      min_value = value\n",
    "\n",
    "    if value > max_value:\n",
    "      max_value = value\n",
    "    \n",
    "print(min_value)\n",
    "print(max_value)"
   ]
  },
  {
   "cell_type": "code",
   "execution_count": 19,
   "id": "0de3bf44",
   "metadata": {},
   "outputs": [
    {
     "name": "stdout",
     "output_type": "stream",
     "text": [
      "26827\n",
      "Percentage of outliers dropped 7.686709359464764\n"
     ]
    }
   ],
   "source": [
    "#checking for how many value outliers dropped\n",
    "median_sale_price_df=df['median_sale_price']\n",
    "value=1389750.0\n",
    "#maximum value after removing outliers\n",
    "count=0\n",
    "for i, number in df['median_sale_price'].iteritems():\n",
    "    if number > value:\n",
    "        count=count+1\n",
    "print(count)\n",
    "#Percentage of outliers dropped\n",
    "print(\"Percentage of outliers dropped\",str((count*100)/df['median_sale_price'].shape[0])) "
   ]
  },
  {
   "cell_type": "markdown",
   "id": "0613fc38",
   "metadata": {},
   "source": [
    "# median_list_price feature cleaning"
   ]
  },
  {
   "cell_type": "code",
   "execution_count": 20,
   "id": "3b8a1adb",
   "metadata": {},
   "outputs": [
    {
     "data": {
      "text/plain": [
       "699000.0     1902\n",
       "599000.0     1755\n",
       "499000.0     1636\n",
       "799000.0     1555\n",
       "399000.0     1504\n",
       "             ... \n",
       "1519500.0       1\n",
       "520444.0        1\n",
       "1318444.0       1\n",
       "6900000.0       1\n",
       "767250.0        1\n",
       "Name: median_list_price, Length: 16845, dtype: int64"
      ]
     },
     "execution_count": 20,
     "metadata": {},
     "output_type": "execute_result"
    }
   ],
   "source": [
    "df['median_list_price'].value_counts()"
   ]
  },
  {
   "cell_type": "code",
   "execution_count": 21,
   "id": "0d3f2343",
   "metadata": {},
   "outputs": [
    {
     "data": {
      "text/plain": [
       "array([125800. , 600000. ,      nan, ..., 292950. , 522388.5, 397800. ])"
      ]
     },
     "execution_count": 21,
     "metadata": {},
     "output_type": "execute_result"
    }
   ],
   "source": [
    "df['median_list_price'].unique()"
   ]
  },
  {
   "cell_type": "code",
   "execution_count": 22,
   "id": "d564febd",
   "metadata": {},
   "outputs": [
    {
     "data": {
      "text/plain": [
       "11.513302101689089"
      ]
     },
     "execution_count": 22,
     "metadata": {},
     "output_type": "execute_result"
    }
   ],
   "source": [
    "#checking for missing value \n",
    "missing_vals2 = df['median_list_price'].isna().sum()/len(df['median_sale_price'])*100\n",
    "missing_vals2"
   ]
  },
  {
   "cell_type": "code",
   "execution_count": 23,
   "id": "a9f00be1",
   "metadata": {},
   "outputs": [
    {
     "data": {
      "text/plain": [
       "0"
      ]
     },
     "execution_count": 23,
     "metadata": {},
     "output_type": "execute_result"
    }
   ],
   "source": [
    "# checking for negative value in feature \"median_sale_price\"\n",
    "(df['median_list_price'] < 0).sum().sum()"
   ]
  },
  {
   "cell_type": "code",
   "execution_count": 24,
   "id": "bda392e7",
   "metadata": {},
   "outputs": [],
   "source": [
    "#pip install missingno"
   ]
  },
  {
   "cell_type": "code",
   "execution_count": 25,
   "id": "b783fead",
   "metadata": {},
   "outputs": [
    {
     "data": {
      "text/plain": [
       "<AxesSubplot:>"
      ]
     },
     "execution_count": 25,
     "metadata": {},
     "output_type": "execute_result"
    },
    {
     "data": {
      "image/png": "[encoded data removed]",
      "text/plain": [
       "<Figure size 1800x720 with 2 Axes>"
      ]
     },
     "metadata": {
      "needs_background": "light"
     },
     "output_type": "display_data"
    }
   ],
   "source": [
    "test=df[['median_list_price']]\n",
    "msno.matrix(test)"
   ]
  },
  {
   "cell_type": "markdown",
   "id": "0ff8bbc7",
   "metadata": {},
   "source": [
    "We can see that data is missing through out the instances ( The NA values are not back to back only at the tail or in the middle of the dataset)"
   ]
  },
  {
   "cell_type": "code",
   "execution_count": 26,
   "id": "05ade1cb",
   "metadata": {},
   "outputs": [],
   "source": [
    "# Imputing median_list_price with its Mean as we can't perform other technique such as KNN as we are considering to keep the outlier for this feature \n",
    "df['median_list_price'].fillna(df['median_list_price'].mean(), inplace = True)"
   ]
  },
  {
   "cell_type": "code",
   "execution_count": 27,
   "id": "0c3d3629",
   "metadata": {},
   "outputs": [
    {
     "data": {
      "text/plain": [
       "0.0"
      ]
     },
     "execution_count": 27,
     "metadata": {},
     "output_type": "execute_result"
    }
   ],
   "source": [
    "missing_vals2 = df['median_list_price'].isna().sum()/len(df['median_sale_price'])*100\n",
    "missing_vals2"
   ]
  },
  {
   "cell_type": "code",
   "execution_count": 28,
   "id": "4b2abc32",
   "metadata": {},
   "outputs": [
    {
     "name": "stdout",
     "output_type": "stream",
     "text": [
      "9223372036854775807\n",
      "Minimum value 850.0\n",
      "Maximum value 433012500.0\n"
     ]
    }
   ],
   "source": [
    "\n",
    "count = 1;\n",
    "min_value = sys.maxsize\n",
    "max_value = -1\n",
    "print(min_value)\n",
    "for key, value in df['median_list_price'].iteritems():\n",
    "    if value < min_value:\n",
    "      min_value = value\n",
    "\n",
    "    if value > max_value:\n",
    "      max_value = value\n",
    "    \n",
    "print(\"Minimum value\", min_value)\n",
    "print(\"Maximum value\", max_value)"
   ]
  },
  {
   "cell_type": "code",
   "execution_count": 29,
   "id": "ebf23325",
   "metadata": {},
   "outputs": [
    {
     "name": "stdout",
     "output_type": "stream",
     "text": [
      "38290\n",
      "Percentage of outliers dropped 10.97118952450538\n"
     ]
    }
   ],
   "source": [
    "#checking for how many value outliers dropped\n",
    "median_list_price_df=df['median_list_price']\n",
    "value=1150000.0\n",
    "#maximum value after removing outliers\n",
    "count=0\n",
    "for i, number in df['median_list_price'].iteritems():\n",
    "    if number > value:\n",
    "        count=count+1\n",
    "print(count)\n",
    "#Percentage of outliers dropped\n",
    "print(\"Percentage of outliers dropped\",str((count*100)/df['median_list_price'].shape[0])) "
   ]
  },
  {
   "cell_type": "code",
   "execution_count": 30,
   "id": "f63ae15c",
   "metadata": {},
   "outputs": [
    {
     "data": {
      "text/plain": [
       "<AxesSubplot:>"
      ]
     },
     "execution_count": 30,
     "metadata": {},
     "output_type": "execute_result"
    },
    {
     "data": {
      "image/png": "[encoded data removed]",
      "text/plain": [
       "<Figure size 360x360 with 1 Axes>"
      ]
     },
     "metadata": {
      "needs_background": "light"
     },
     "output_type": "display_data"
    }
   ],
   "source": [
    "#checking for outliers\n",
    "#box plot before removing outliers\n",
    "fig, axes = plt.subplots(1, 1, figsize=(5,5))\n",
    "fig.suptitle('Detecting Feature Value Outliers')\n",
    "#Visualize the median_list_ppsf\n",
    "df['median_list_price'].plot(kind=\"box\")"
   ]
  },
  {
   "cell_type": "code",
   "execution_count": 31,
   "id": "ecc8e92a",
   "metadata": {},
   "outputs": [
    {
     "name": "stdout",
     "output_type": "stream",
     "text": [
      "9223372036854775807\n",
      "Minimum value 850.0\n",
      "Maximum value 433012500.0\n"
     ]
    }
   ],
   "source": [
    "\n",
    "count = 1;\n",
    "min_value = sys.maxsize\n",
    "max_value = -1\n",
    "print(min_value)\n",
    "for key, value in df['median_list_price'].iteritems():\n",
    "    if value < min_value:\n",
    "      min_value = value\n",
    "\n",
    "    if value > max_value:\n",
    "      max_value = value\n",
    "    \n",
    "print(\"Minimum value\", min_value)\n",
    "print(\"Maximum value\", max_value)"
   ]
  },
  {
   "cell_type": "code",
   "execution_count": null,
   "id": "0604ee80",
   "metadata": {},
   "outputs": [],
   "source": []
  },
  {
   "cell_type": "code",
   "execution_count": 32,
   "id": "cef8e6d0",
   "metadata": {},
   "outputs": [
    {
     "data": {
      "text/plain": [
       "<AxesSubplot:ylabel='Density'>"
      ]
     },
     "execution_count": 32,
     "metadata": {},
     "output_type": "execute_result"
    },
    {
     "data": {
      "image/png": "[encoded data removed]",
      "text/plain": [
       "<Figure size 432x288 with 1 Axes>"
      ]
     },
     "metadata": {
      "needs_background": "light"
     },
     "output_type": "display_data"
    }
   ],
   "source": [
    "df['median_list_price'].plot(kind='kde')"
   ]
  },
  {
   "cell_type": "markdown",
   "id": "5a88135a",
   "metadata": {},
   "source": [
    "# median_ppsf feature cleaning"
   ]
  },
  {
   "cell_type": "code",
   "execution_count": 33,
   "id": "3966984c",
   "metadata": {},
   "outputs": [
    {
     "data": {
      "text/plain": [
       "250.000000    232\n",
       "333.333333    145\n",
       "500.000000    142\n",
       "125.000000    142\n",
       "166.666667    134\n",
       "             ... \n",
       "407.671722      1\n",
       "341.378888      1\n",
       "164.934478      1\n",
       "301.425056      1\n",
       "159.036145      1\n",
       "Name: median_ppsf, Length: 234806, dtype: int64"
      ]
     },
     "execution_count": 33,
     "metadata": {},
     "output_type": "execute_result"
    }
   ],
   "source": [
    "df['median_ppsf'].value_counts()"
   ]
  },
  {
   "cell_type": "code",
   "execution_count": 34,
   "id": "8eb10965",
   "metadata": {},
   "outputs": [
    {
     "data": {
      "text/plain": [
       "array([102.5641026, 528.2217782, 300.       , ..., 591.9953186,\n",
       "       153.1690141, 159.0361446])"
      ]
     },
     "execution_count": 34,
     "metadata": {},
     "output_type": "execute_result"
    }
   ],
   "source": [
    "df['median_ppsf'].unique()"
   ]
  },
  {
   "cell_type": "code",
   "execution_count": 35,
   "id": "47135690",
   "metadata": {},
   "outputs": [
    {
     "data": {
      "text/plain": [
       "0"
      ]
     },
     "execution_count": 35,
     "metadata": {},
     "output_type": "execute_result"
    }
   ],
   "source": [
    "#checking for negative value for this feature\n",
    "(df['median_ppsf']<0).sum().sum()"
   ]
  },
  {
   "cell_type": "code",
   "execution_count": 36,
   "id": "8daa04d3",
   "metadata": {},
   "outputs": [
    {
     "name": "stdout",
     "output_type": "stream",
     "text": [
      "9223372036854775807\n",
      "Minimum value 0.000689655\n",
      "Maximum value 1525000.0\n"
     ]
    }
   ],
   "source": [
    "count = 1;\n",
    "min_value = sys.maxsize\n",
    "max_value = -1\n",
    "print(min_value)\n",
    "for key, value in df['median_ppsf'].iteritems():\n",
    "    if value < min_value:\n",
    "      min_value = value\n",
    "\n",
    "    if value > max_value:\n",
    "      max_value = value\n",
    "    \n",
    "print(\"Minimum value\", min_value)\n",
    "print(\"Maximum value\", max_value)"
   ]
  },
  {
   "cell_type": "code",
   "execution_count": 37,
   "id": "5604eee0",
   "metadata": {},
   "outputs": [
    {
     "data": {
      "text/plain": [
       "<AxesSubplot:>"
      ]
     },
     "execution_count": 37,
     "metadata": {},
     "output_type": "execute_result"
    },
    {
     "data": {
      "image/png": "[encoded data removed]",
      "text/plain": [
       "<Figure size 360x360 with 1 Axes>"
      ]
     },
     "metadata": {
      "needs_background": "light"
     },
     "output_type": "display_data"
    }
   ],
   "source": [
    "#checking for outliers\n",
    "#box plot before removing outliers\n",
    "fig, axes = plt.subplots(1, 1, figsize=(5,5))\n",
    "fig.suptitle('Detecting Feature Value Outliers')\n",
    "#Visualize the median_list_ppsf\n",
    "df['median_ppsf'].plot(kind=\"box\")"
   ]
  },
  {
   "cell_type": "markdown",
   "id": "4a290da5",
   "metadata": {},
   "source": [
    "# median_list_ppsf feature cleaning"
   ]
  },
  {
   "cell_type": "code",
   "execution_count": 38,
   "id": "0565073a",
   "metadata": {},
   "outputs": [
    {
     "data": {
      "text/plain": [
       "250.000000    144\n",
       "312.500000    128\n",
       "500.000000     96\n",
       "166.666667     77\n",
       "333.333333     60\n",
       "             ... \n",
       "308.054577      1\n",
       "493.323442      1\n",
       "220.716515      1\n",
       "774.160448      1\n",
       "496.331536      1\n",
       "Name: median_list_ppsf, Length: 103519, dtype: int64"
      ]
     },
     "execution_count": 38,
     "metadata": {},
     "output_type": "execute_result"
    }
   ],
   "source": [
    "df['median_list_ppsf'].value_counts()"
   ]
  },
  {
   "cell_type": "code",
   "execution_count": 39,
   "id": "fd10b395",
   "metadata": {},
   "outputs": [
    {
     "data": {
      "text/plain": [
       "0"
      ]
     },
     "execution_count": 39,
     "metadata": {},
     "output_type": "execute_result"
    }
   ],
   "source": [
    "#checking for negative value for this feature\n",
    "(df['median_list_ppsf']<0).sum().sum()"
   ]
  },
  {
   "cell_type": "code",
   "execution_count": 40,
   "id": "38698858",
   "metadata": {},
   "outputs": [
    {
     "data": {
      "text/plain": [
       "<AxesSubplot:>"
      ]
     },
     "execution_count": 40,
     "metadata": {},
     "output_type": "execute_result"
    },
    {
     "data": {
      "image/png": "[encoded data removed]",
      "text/plain": [
       "<Figure size 1800x720 with 2 Axes>"
      ]
     },
     "metadata": {
      "needs_background": "light"
     },
     "output_type": "display_data"
    }
   ],
   "source": [
    "\n",
    "test=df[['median_list_ppsf']]\n",
    "msno.matrix(test)"
   ]
  },
  {
   "cell_type": "markdown",
   "id": "271b64d3",
   "metadata": {},
   "source": [
    "Same justification for this as mentioned for abive feature"
   ]
  },
  {
   "cell_type": "code",
   "execution_count": 41,
   "id": "e0033122",
   "metadata": {},
   "outputs": [
    {
     "data": {
      "text/plain": [
       "<AxesSubplot:>"
      ]
     },
     "execution_count": 41,
     "metadata": {},
     "output_type": "execute_result"
    },
    {
     "data": {
      "image/png": "[encoded data removed]",
      "text/plain": [
       "<Figure size 360x360 with 1 Axes>"
      ]
     },
     "metadata": {
      "needs_background": "light"
     },
     "output_type": "display_data"
    }
   ],
   "source": [
    "#checking for outliers\n",
    "#box plot before removing outliers\n",
    "fig, axes = plt.subplots(1, 1, figsize=(5,5))\n",
    "fig.suptitle('Detecting Feature Value Outliers')\n",
    "#Visualize the median_list_ppsf\n",
    "df['median_list_ppsf'].plot(kind=\"box\")"
   ]
  },
  {
   "cell_type": "code",
   "execution_count": 42,
   "id": "fbd4a8fd",
   "metadata": {},
   "outputs": [
    {
     "name": "stdout",
     "output_type": "stream",
     "text": [
      "9223372036854775807\n",
      "Minimum value 0.283333333\n",
      "Maximum value 5500000.0\n"
     ]
    }
   ],
   "source": [
    "count = 1;\n",
    "min_value = sys.maxsize\n",
    "max_value = -1\n",
    "print(min_value)\n",
    "for key, value in df['median_list_ppsf'].iteritems():\n",
    "    if value < min_value:\n",
    "      min_value = value\n",
    "\n",
    "    if value > max_value:\n",
    "      max_value = value\n",
    "    \n",
    "print(\"Minimum value\", min_value)\n",
    "print(\"Maximum value\", max_value)"
   ]
  },
  {
   "cell_type": "markdown",
   "id": "38898c8e",
   "metadata": {},
   "source": [
    "this is certainly an outlier because this is about median per square feet for listed house and max value is 5500000.0"
   ]
  },
  {
   "cell_type": "code",
   "execution_count": 43,
   "id": "3f3fbd02",
   "metadata": {},
   "outputs": [
    {
     "data": {
      "text/plain": [
       "(349005, 27)"
      ]
     },
     "execution_count": 43,
     "metadata": {},
     "output_type": "execute_result"
    }
   ],
   "source": [
    "df.shape"
   ]
  },
  {
   "cell_type": "code",
   "execution_count": 44,
   "id": "9c722ea1",
   "metadata": {},
   "outputs": [],
   "source": [
    "# Fix the index to be in order\n",
    "df.reset_index(inplace=True)\n",
    "df.drop('index', axis= 1, inplace=True)"
   ]
  },
  {
   "cell_type": "code",
   "execution_count": 45,
   "id": "67fd02e1",
   "metadata": {},
   "outputs": [
    {
     "data": {
      "text/html": [
       "<div>\n",
       "<style scoped>\n",
       "    .dataframe tbody tr th:only-of-type {\n",
       "        vertical-align: middle;\n",
       "    }\n",
       "\n",
       "    .dataframe tbody tr th {\n",
       "        vertical-align: top;\n",
       "    }\n",
       "\n",
       "    .dataframe thead th {\n",
       "        text-align: right;\n",
       "    }\n",
       "</style>\n",
       "<table border=\"1\" class=\"dataframe\">\n",
       "  <thead>\n",
       "    <tr style=\"text-align: right;\">\n",
       "      <th></th>\n",
       "      <th>city</th>\n",
       "      <th>state</th>\n",
       "      <th>state_code</th>\n",
       "      <th>median_sale_price</th>\n",
       "      <th>median_list_price</th>\n",
       "      <th>median_ppsf</th>\n",
       "      <th>median_list_ppsf</th>\n",
       "      <th>homes_sold</th>\n",
       "      <th>pending_sales</th>\n",
       "      <th>new_listings</th>\n",
       "      <th>...</th>\n",
       "      <th>parent_metro_region</th>\n",
       "      <th>parent_metro_region_metro_code</th>\n",
       "      <th>year</th>\n",
       "      <th>month</th>\n",
       "      <th>MORTGAGE30US</th>\n",
       "      <th>PropertyType_All_Residential</th>\n",
       "      <th>PropertyType_Condo/Co-op</th>\n",
       "      <th>PropertyType_Multi-Family(2-4 Unit)</th>\n",
       "      <th>PropertyType_Single_Family_Residential</th>\n",
       "      <th>PropertyType_Townhouse</th>\n",
       "    </tr>\n",
       "  </thead>\n",
       "  <tbody>\n",
       "    <tr>\n",
       "      <th>0</th>\n",
       "      <td>Soledad</td>\n",
       "      <td>California</td>\n",
       "      <td>CA</td>\n",
       "      <td>180000.0</td>\n",
       "      <td>125800.00000</td>\n",
       "      <td>102.564103</td>\n",
       "      <td>90.752462</td>\n",
       "      <td>19</td>\n",
       "      <td>10.0</td>\n",
       "      <td>6.0</td>\n",
       "      <td>...</td>\n",
       "      <td>Salinas, CA</td>\n",
       "      <td>41500</td>\n",
       "      <td>2012</td>\n",
       "      <td>12</td>\n",
       "      <td>3.345</td>\n",
       "      <td>1</td>\n",
       "      <td>0</td>\n",
       "      <td>0</td>\n",
       "      <td>0</td>\n",
       "      <td>0</td>\n",
       "    </tr>\n",
       "    <tr>\n",
       "      <th>1</th>\n",
       "      <td>Freedom</td>\n",
       "      <td>California</td>\n",
       "      <td>CA</td>\n",
       "      <td>477500.0</td>\n",
       "      <td>600000.00000</td>\n",
       "      <td>528.221778</td>\n",
       "      <td>524.475525</td>\n",
       "      <td>2</td>\n",
       "      <td>1.0</td>\n",
       "      <td>1.0</td>\n",
       "      <td>...</td>\n",
       "      <td>Santa Cruz, CA</td>\n",
       "      <td>42100</td>\n",
       "      <td>2020</td>\n",
       "      <td>2</td>\n",
       "      <td>3.465</td>\n",
       "      <td>0</td>\n",
       "      <td>0</td>\n",
       "      <td>0</td>\n",
       "      <td>1</td>\n",
       "      <td>0</td>\n",
       "    </tr>\n",
       "    <tr>\n",
       "      <th>2</th>\n",
       "      <td>El Paso de Robles</td>\n",
       "      <td>California</td>\n",
       "      <td>CA</td>\n",
       "      <td>450000.0</td>\n",
       "      <td>694801.66751</td>\n",
       "      <td>300.000000</td>\n",
       "      <td>NaN</td>\n",
       "      <td>1</td>\n",
       "      <td>NaN</td>\n",
       "      <td>NaN</td>\n",
       "      <td>...</td>\n",
       "      <td>San Luis Obispo, CA</td>\n",
       "      <td>42020</td>\n",
       "      <td>2021</td>\n",
       "      <td>6</td>\n",
       "      <td>2.975</td>\n",
       "      <td>0</td>\n",
       "      <td>1</td>\n",
       "      <td>0</td>\n",
       "      <td>0</td>\n",
       "      <td>0</td>\n",
       "    </tr>\n",
       "    <tr>\n",
       "      <th>3</th>\n",
       "      <td>Willowbrook</td>\n",
       "      <td>California</td>\n",
       "      <td>CA</td>\n",
       "      <td>295000.0</td>\n",
       "      <td>250000.00000</td>\n",
       "      <td>185.897436</td>\n",
       "      <td>175.606641</td>\n",
       "      <td>3</td>\n",
       "      <td>NaN</td>\n",
       "      <td>1.0</td>\n",
       "      <td>...</td>\n",
       "      <td>Los Angeles, CA</td>\n",
       "      <td>31084</td>\n",
       "      <td>2013</td>\n",
       "      <td>7</td>\n",
       "      <td>4.370</td>\n",
       "      <td>0</td>\n",
       "      <td>0</td>\n",
       "      <td>1</td>\n",
       "      <td>0</td>\n",
       "      <td>0</td>\n",
       "    </tr>\n",
       "    <tr>\n",
       "      <th>4</th>\n",
       "      <td>Colton</td>\n",
       "      <td>California</td>\n",
       "      <td>CA</td>\n",
       "      <td>240000.0</td>\n",
       "      <td>229990.00000</td>\n",
       "      <td>192.142857</td>\n",
       "      <td>175.259740</td>\n",
       "      <td>37</td>\n",
       "      <td>33.0</td>\n",
       "      <td>27.0</td>\n",
       "      <td>...</td>\n",
       "      <td>Riverside, CA</td>\n",
       "      <td>40140</td>\n",
       "      <td>2015</td>\n",
       "      <td>12</td>\n",
       "      <td>3.964</td>\n",
       "      <td>0</td>\n",
       "      <td>0</td>\n",
       "      <td>0</td>\n",
       "      <td>1</td>\n",
       "      <td>0</td>\n",
       "    </tr>\n",
       "  </tbody>\n",
       "</table>\n",
       "<p>5 rows × 27 columns</p>\n",
       "</div>"
      ],
      "text/plain": [
       "                city       state state_code  median_sale_price  \\\n",
       "0            Soledad  California         CA           180000.0   \n",
       "1            Freedom  California         CA           477500.0   \n",
       "2  El Paso de Robles  California         CA           450000.0   \n",
       "3        Willowbrook  California         CA           295000.0   \n",
       "4             Colton  California         CA           240000.0   \n",
       "\n",
       "   median_list_price  median_ppsf  median_list_ppsf  homes_sold  \\\n",
       "0       125800.00000   102.564103         90.752462          19   \n",
       "1       600000.00000   528.221778        524.475525           2   \n",
       "2       694801.66751   300.000000               NaN           1   \n",
       "3       250000.00000   185.897436        175.606641           3   \n",
       "4       229990.00000   192.142857        175.259740          37   \n",
       "\n",
       "   pending_sales  new_listings  ...  parent_metro_region  \\\n",
       "0           10.0           6.0  ...          Salinas, CA   \n",
       "1            1.0           1.0  ...       Santa Cruz, CA   \n",
       "2            NaN           NaN  ...  San Luis Obispo, CA   \n",
       "3            NaN           1.0  ...      Los Angeles, CA   \n",
       "4           33.0          27.0  ...        Riverside, CA   \n",
       "\n",
       "   parent_metro_region_metro_code  year  month  MORTGAGE30US  \\\n",
       "0                           41500  2012     12         3.345   \n",
       "1                           42100  2020      2         3.465   \n",
       "2                           42020  2021      6         2.975   \n",
       "3                           31084  2013      7         4.370   \n",
       "4                           40140  2015     12         3.964   \n",
       "\n",
       "   PropertyType_All_Residential  PropertyType_Condo/Co-op  \\\n",
       "0                             1                         0   \n",
       "1                             0                         0   \n",
       "2                             0                         1   \n",
       "3                             0                         0   \n",
       "4                             0                         0   \n",
       "\n",
       "  PropertyType_Multi-Family(2-4 Unit)  PropertyType_Single_Family_Residential  \\\n",
       "0                                   0                                       0   \n",
       "1                                   0                                       1   \n",
       "2                                   0                                       0   \n",
       "3                                   1                                       0   \n",
       "4                                   0                                       1   \n",
       "\n",
       "   PropertyType_Townhouse   \n",
       "0                        0  \n",
       "1                        0  \n",
       "2                        0  \n",
       "3                        0  \n",
       "4                        0  \n",
       "\n",
       "[5 rows x 27 columns]"
      ]
     },
     "execution_count": 45,
     "metadata": {},
     "output_type": "execute_result"
    }
   ],
   "source": [
    "df.head()"
   ]
  },
  {
   "cell_type": "code",
   "execution_count": 46,
   "id": "01899f05",
   "metadata": {},
   "outputs": [
    {
     "name": "stdout",
     "output_type": "stream",
     "text": [
      "<class 'pandas.core.frame.DataFrame'>\n",
      "RangeIndex: 349005 entries, 0 to 349004\n",
      "Data columns (total 27 columns):\n",
      " #   Column                                  Non-Null Count   Dtype  \n",
      "---  ------                                  --------------   -----  \n",
      " 0   city                                    349005 non-null  object \n",
      " 1   state                                   349005 non-null  object \n",
      " 2   state_code                              349005 non-null  object \n",
      " 3   median_sale_price                       349005 non-null  float64\n",
      " 4   median_list_price                       349005 non-null  float64\n",
      " 5   median_ppsf                             347324 non-null  float64\n",
      " 6   median_list_ppsf                        308692 non-null  float64\n",
      " 7   homes_sold                              349005 non-null  int64  \n",
      " 8   pending_sales                           303547 non-null  float64\n",
      " 9   new_listings                            308837 non-null  float64\n",
      " 10  inventory                               328568 non-null  float64\n",
      " 11  months_of_supply                        328568 non-null  float64\n",
      " 12  median_dom                              343468 non-null  float64\n",
      " 13  avg_sale_to_list                        348853 non-null  float64\n",
      " 14  sold_above_list                         349005 non-null  float64\n",
      " 15  price_drops                             246969 non-null  float64\n",
      " 16  off_market_in_two_weeks                 303547 non-null  float64\n",
      " 17  parent_metro_region                     349005 non-null  object \n",
      " 18  parent_metro_region_metro_code          349005 non-null  int64  \n",
      " 19  year                                    349005 non-null  int64  \n",
      " 20  month                                   349005 non-null  int64  \n",
      " 21  MORTGAGE30US                            349005 non-null  float64\n",
      " 22  PropertyType_All_Residential            349005 non-null  uint8  \n",
      " 23  PropertyType_Condo/Co-op                349005 non-null  uint8  \n",
      " 24  PropertyType_Multi-Family(2-4 Unit)     349005 non-null  uint8  \n",
      " 25  PropertyType_Single_Family_Residential  349005 non-null  uint8  \n",
      " 26  PropertyType_Townhouse                  349005 non-null  uint8  \n",
      "dtypes: float64(14), int64(4), object(4), uint8(5)\n",
      "memory usage: 60.2+ MB\n"
     ]
    }
   ],
   "source": [
    "df.info()"
   ]
  },
  {
   "cell_type": "markdown",
   "id": "307f5570",
   "metadata": {},
   "source": [
    "# City Feature cleaning"
   ]
  },
  {
   "cell_type": "code",
   "execution_count": 47,
   "id": "355a6aee",
   "metadata": {},
   "outputs": [
    {
     "data": {
      "text/plain": [
       "Burbank          911\n",
       "Mountain View    863\n",
       "Spring Valley    712\n",
       "El Cerrito       700\n",
       "Live Oak         682\n",
       "                ... \n",
       "Edwards AFB        2\n",
       "Essex              2\n",
       "Sugarloaf          2\n",
       "Westside           2\n",
       "Industry           2\n",
       "Name: city, Length: 1335, dtype: int64"
      ]
     },
     "execution_count": 47,
     "metadata": {},
     "output_type": "execute_result"
    }
   ],
   "source": [
    "df['city'].value_counts()"
   ]
  },
  {
   "cell_type": "code",
   "execution_count": 48,
   "id": "5a7e2171",
   "metadata": {},
   "outputs": [
    {
     "data": {
      "text/plain": [
       "1335"
      ]
     },
     "execution_count": 48,
     "metadata": {},
     "output_type": "execute_result"
    }
   ],
   "source": [
    "len(df['city'].str.lower().unique())"
   ]
  },
  {
   "cell_type": "code",
   "execution_count": 49,
   "id": "1d42efba",
   "metadata": {},
   "outputs": [
    {
     "data": {
      "text/plain": [
       "0                   soledad\n",
       "1                   freedom\n",
       "2         el paso de robles\n",
       "3               willowbrook\n",
       "4                    colton\n",
       "                ...        \n",
       "349000              turlock\n",
       "349001              modesto\n",
       "349002              vallejo\n",
       "349003               oceano\n",
       "349004             rio dell\n",
       "Name: city, Length: 349005, dtype: object"
      ]
     },
     "execution_count": 49,
     "metadata": {},
     "output_type": "execute_result"
    }
   ],
   "source": [
    "df['city'].str.lower()"
   ]
  },
  {
   "cell_type": "code",
   "execution_count": 50,
   "id": "a345c824",
   "metadata": {},
   "outputs": [],
   "source": [
    "# performing labelencoding on city column\n",
    "label_city = LabelEncoder()\n",
    "df['city']=label_city.fit_transform(df['city'])\n",
    "# df = df.drop('city',axis = 1)\n",
    "# df = df.join(one_hot_city)"
   ]
  },
  {
   "cell_type": "code",
   "execution_count": 51,
   "id": "bfa8a073",
   "metadata": {},
   "outputs": [
    {
     "name": "stdout",
     "output_type": "stream",
     "text": [
      "[1124  426  360 ... 1145   64  536]\n"
     ]
    }
   ],
   "source": [
    "print(df['city'].unique())"
   ]
  },
  {
   "cell_type": "markdown",
   "id": "26f94c2a",
   "metadata": {},
   "source": [
    "# State,parent_metro_region and state_code cleaning"
   ]
  },
  {
   "cell_type": "code",
   "execution_count": 52,
   "id": "7a8ff020",
   "metadata": {},
   "outputs": [],
   "source": [
    "#performing one hot encoding on state column\n",
    "one_hot_state = pd.get_dummies(df['state'])\n",
    "one_hot_state_code = pd.get_dummies(df['state_code'])\n",
    "df = df.drop('state',axis = 1)\n",
    "df = df.drop('state_code',axis = 1)\n",
    "df = df.join(one_hot_state_code)\n",
    "df = df.join(one_hot_state)\n"
   ]
  },
  {
   "cell_type": "code",
   "execution_count": 53,
   "id": "21cc399a",
   "metadata": {},
   "outputs": [
    {
     "data": {
      "text/plain": [
       "array(['Salinas, CA', 'Santa Cruz, CA', 'San Luis Obispo, CA',\n",
       "       'Los Angeles, CA', 'Riverside, CA', 'Santa Rosa, CA',\n",
       "       'Sacramento, CA', 'Oakland, CA', 'Vallejo, CA', 'Eureka, CA',\n",
       "       'Fresno, CA', 'Anaheim, CA', 'Truckee, CA', 'Oxnard, CA',\n",
       "       'San Francisco, CA', 'San Diego, CA', 'Santa Maria, CA',\n",
       "       'Merced, CA', 'Visalia, CA', 'Madera, CA', 'Yuba City, CA',\n",
       "       'Stockton, CA', 'Chico, CA', 'Napa, CA', 'Clearlake, CA',\n",
       "       'Ukiah, CA', 'Bakersfield, CA', 'San Rafael, CA', 'Modesto, CA',\n",
       "       'San Jose, CA', 'Hanford, CA', 'Redding, CA', 'Red Bluff, CA',\n",
       "       'El Centro, CA', 'Sonora, CA', 'Susanville, CA'], dtype=object)"
      ]
     },
     "execution_count": 53,
     "metadata": {},
     "output_type": "execute_result"
    }
   ],
   "source": [
    "df['parent_metro_region'].unique()\n"
   ]
  },
  {
   "cell_type": "code",
   "execution_count": 54,
   "id": "9086b7a9",
   "metadata": {},
   "outputs": [
    {
     "name": "stderr",
     "output_type": "stream",
     "text": [
      "C:\\Users\\saumy\\AppData\\Local\\Temp\\ipykernel_19668\\3707997030.py:2: FutureWarning: The default value of regex will change from True to False in a future version.\n",
      "  df[\"parent_metro_region\"] = df[\"parent_metro_region\"].str.replace(r',[^,]*$', '')\n"
     ]
    }
   ],
   "source": [
    "# split  Parent metro region into metro region and drop CA\n",
    "df[\"parent_metro_region\"] = df[\"parent_metro_region\"].str.replace(r',[^,]*$', '')"
   ]
  },
  {
   "cell_type": "code",
   "execution_count": 55,
   "id": "8a0a6c0d",
   "metadata": {},
   "outputs": [
    {
     "data": {
      "text/plain": [
       "array(['Salinas', 'Santa Cruz', 'San Luis Obispo', 'Los Angeles',\n",
       "       'Riverside', 'Santa Rosa', 'Sacramento', 'Oakland', 'Vallejo',\n",
       "       'Eureka', 'Fresno', 'Anaheim', 'Truckee', 'Oxnard',\n",
       "       'San Francisco', 'San Diego', 'Santa Maria', 'Merced', 'Visalia',\n",
       "       'Madera', 'Yuba City', 'Stockton', 'Chico', 'Napa', 'Clearlake',\n",
       "       'Ukiah', 'Bakersfield', 'San Rafael', 'Modesto', 'San Jose',\n",
       "       'Hanford', 'Redding', 'Red Bluff', 'El Centro', 'Sonora',\n",
       "       'Susanville'], dtype=object)"
      ]
     },
     "execution_count": 55,
     "metadata": {},
     "output_type": "execute_result"
    }
   ],
   "source": [
    "df['parent_metro_region'].unique()"
   ]
  },
  {
   "cell_type": "code",
   "execution_count": 56,
   "id": "8c7b3212",
   "metadata": {},
   "outputs": [],
   "source": [
    "one_hot_parent_metro_region = pd.get_dummies(df['parent_metro_region'])\n",
    "df = df.drop('parent_metro_region' ,axis=1)\n",
    "df = df.join(one_hot_parent_metro_region)"
   ]
  },
  {
   "cell_type": "code",
   "execution_count": 57,
   "id": "f8b23fe3",
   "metadata": {},
   "outputs": [
    {
     "data": {
      "text/html": [
       "<div>\n",
       "<style scoped>\n",
       "    .dataframe tbody tr th:only-of-type {\n",
       "        vertical-align: middle;\n",
       "    }\n",
       "\n",
       "    .dataframe tbody tr th {\n",
       "        vertical-align: top;\n",
       "    }\n",
       "\n",
       "    .dataframe thead th {\n",
       "        text-align: right;\n",
       "    }\n",
       "</style>\n",
       "<table border=\"1\" class=\"dataframe\">\n",
       "  <thead>\n",
       "    <tr style=\"text-align: right;\">\n",
       "      <th></th>\n",
       "      <th>city</th>\n",
       "      <th>median_sale_price</th>\n",
       "      <th>median_list_price</th>\n",
       "      <th>median_ppsf</th>\n",
       "      <th>median_list_ppsf</th>\n",
       "      <th>homes_sold</th>\n",
       "      <th>pending_sales</th>\n",
       "      <th>new_listings</th>\n",
       "      <th>inventory</th>\n",
       "      <th>months_of_supply</th>\n",
       "      <th>...</th>\n",
       "      <th>Santa Maria</th>\n",
       "      <th>Santa Rosa</th>\n",
       "      <th>Sonora</th>\n",
       "      <th>Stockton</th>\n",
       "      <th>Susanville</th>\n",
       "      <th>Truckee</th>\n",
       "      <th>Ukiah</th>\n",
       "      <th>Vallejo</th>\n",
       "      <th>Visalia</th>\n",
       "      <th>Yuba City</th>\n",
       "    </tr>\n",
       "  </thead>\n",
       "  <tbody>\n",
       "    <tr>\n",
       "      <th>0</th>\n",
       "      <td>1124</td>\n",
       "      <td>180000.0</td>\n",
       "      <td>125800.00000</td>\n",
       "      <td>102.564103</td>\n",
       "      <td>90.752462</td>\n",
       "      <td>19</td>\n",
       "      <td>10.0</td>\n",
       "      <td>6.0</td>\n",
       "      <td>16.0</td>\n",
       "      <td>0.8</td>\n",
       "      <td>...</td>\n",
       "      <td>0</td>\n",
       "      <td>0</td>\n",
       "      <td>0</td>\n",
       "      <td>0</td>\n",
       "      <td>0</td>\n",
       "      <td>0</td>\n",
       "      <td>0</td>\n",
       "      <td>0</td>\n",
       "      <td>0</td>\n",
       "      <td>0</td>\n",
       "    </tr>\n",
       "    <tr>\n",
       "      <th>1</th>\n",
       "      <td>426</td>\n",
       "      <td>477500.0</td>\n",
       "      <td>600000.00000</td>\n",
       "      <td>528.221778</td>\n",
       "      <td>524.475525</td>\n",
       "      <td>2</td>\n",
       "      <td>1.0</td>\n",
       "      <td>1.0</td>\n",
       "      <td>1.0</td>\n",
       "      <td>0.5</td>\n",
       "      <td>...</td>\n",
       "      <td>0</td>\n",
       "      <td>0</td>\n",
       "      <td>0</td>\n",
       "      <td>0</td>\n",
       "      <td>0</td>\n",
       "      <td>0</td>\n",
       "      <td>0</td>\n",
       "      <td>0</td>\n",
       "      <td>0</td>\n",
       "      <td>0</td>\n",
       "    </tr>\n",
       "    <tr>\n",
       "      <th>2</th>\n",
       "      <td>360</td>\n",
       "      <td>450000.0</td>\n",
       "      <td>694801.66751</td>\n",
       "      <td>300.000000</td>\n",
       "      <td>NaN</td>\n",
       "      <td>1</td>\n",
       "      <td>NaN</td>\n",
       "      <td>NaN</td>\n",
       "      <td>NaN</td>\n",
       "      <td>NaN</td>\n",
       "      <td>...</td>\n",
       "      <td>0</td>\n",
       "      <td>0</td>\n",
       "      <td>0</td>\n",
       "      <td>0</td>\n",
       "      <td>0</td>\n",
       "      <td>0</td>\n",
       "      <td>0</td>\n",
       "      <td>0</td>\n",
       "      <td>0</td>\n",
       "      <td>0</td>\n",
       "    </tr>\n",
       "    <tr>\n",
       "      <th>3</th>\n",
       "      <td>1306</td>\n",
       "      <td>295000.0</td>\n",
       "      <td>250000.00000</td>\n",
       "      <td>185.897436</td>\n",
       "      <td>175.606641</td>\n",
       "      <td>3</td>\n",
       "      <td>NaN</td>\n",
       "      <td>1.0</td>\n",
       "      <td>3.0</td>\n",
       "      <td>1.0</td>\n",
       "      <td>...</td>\n",
       "      <td>0</td>\n",
       "      <td>0</td>\n",
       "      <td>0</td>\n",
       "      <td>0</td>\n",
       "      <td>0</td>\n",
       "      <td>0</td>\n",
       "      <td>0</td>\n",
       "      <td>0</td>\n",
       "      <td>0</td>\n",
       "      <td>0</td>\n",
       "    </tr>\n",
       "    <tr>\n",
       "      <th>4</th>\n",
       "      <td>241</td>\n",
       "      <td>240000.0</td>\n",
       "      <td>229990.00000</td>\n",
       "      <td>192.142857</td>\n",
       "      <td>175.259740</td>\n",
       "      <td>37</td>\n",
       "      <td>33.0</td>\n",
       "      <td>27.0</td>\n",
       "      <td>65.0</td>\n",
       "      <td>1.8</td>\n",
       "      <td>...</td>\n",
       "      <td>0</td>\n",
       "      <td>0</td>\n",
       "      <td>0</td>\n",
       "      <td>0</td>\n",
       "      <td>0</td>\n",
       "      <td>0</td>\n",
       "      <td>0</td>\n",
       "      <td>0</td>\n",
       "      <td>0</td>\n",
       "      <td>0</td>\n",
       "    </tr>\n",
       "  </tbody>\n",
       "</table>\n",
       "<p>5 rows × 62 columns</p>\n",
       "</div>"
      ],
      "text/plain": [
       "   city  median_sale_price  median_list_price  median_ppsf  median_list_ppsf  \\\n",
       "0  1124           180000.0       125800.00000   102.564103         90.752462   \n",
       "1   426           477500.0       600000.00000   528.221778        524.475525   \n",
       "2   360           450000.0       694801.66751   300.000000               NaN   \n",
       "3  1306           295000.0       250000.00000   185.897436        175.606641   \n",
       "4   241           240000.0       229990.00000   192.142857        175.259740   \n",
       "\n",
       "   homes_sold  pending_sales  new_listings  inventory  months_of_supply  ...  \\\n",
       "0          19           10.0           6.0       16.0               0.8  ...   \n",
       "1           2            1.0           1.0        1.0               0.5  ...   \n",
       "2           1            NaN           NaN        NaN               NaN  ...   \n",
       "3           3            NaN           1.0        3.0               1.0  ...   \n",
       "4          37           33.0          27.0       65.0               1.8  ...   \n",
       "\n",
       "   Santa Maria  Santa Rosa  Sonora  Stockton  Susanville  Truckee  Ukiah  \\\n",
       "0            0           0       0         0           0        0      0   \n",
       "1            0           0       0         0           0        0      0   \n",
       "2            0           0       0         0           0        0      0   \n",
       "3            0           0       0         0           0        0      0   \n",
       "4            0           0       0         0           0        0      0   \n",
       "\n",
       "   Vallejo  Visalia  Yuba City  \n",
       "0        0        0          0  \n",
       "1        0        0          0  \n",
       "2        0        0          0  \n",
       "3        0        0          0  \n",
       "4        0        0          0  \n",
       "\n",
       "[5 rows x 62 columns]"
      ]
     },
     "execution_count": 57,
     "metadata": {},
     "output_type": "execute_result"
    }
   ],
   "source": [
    "df.head(5)"
   ]
  },
  {
   "cell_type": "markdown",
   "id": "9ab59613",
   "metadata": {},
   "source": [
    "# 'homes_sold', 'pending_sales', 'new_listings', 'inventory', 'months_of_supply',  'avg_sale_to_list', 'sold_above_list', 'price_drops', 'off_market_in_two_weeks features cleaning"
   ]
  },
  {
   "cell_type": "code",
   "execution_count": 58,
   "id": "500e4603",
   "metadata": {},
   "outputs": [
    {
     "data": {
      "text/plain": [
       "1       66564\n",
       "2       38857\n",
       "3       27451\n",
       "4       20749\n",
       "5       16535\n",
       "        ...  \n",
       "1027        1\n",
       "685         1\n",
       "1405        1\n",
       "2064        1\n",
       "597         1\n",
       "Name: homes_sold, Length: 1197, dtype: int64"
      ]
     },
     "execution_count": 58,
     "metadata": {},
     "output_type": "execute_result"
    }
   ],
   "source": [
    "df['homes_sold'].value_counts()"
   ]
  },
  {
   "cell_type": "code",
   "execution_count": 59,
   "id": "5ea61471",
   "metadata": {},
   "outputs": [
    {
     "data": {
      "text/plain": [
       "0"
      ]
     },
     "execution_count": 59,
     "metadata": {},
     "output_type": "execute_result"
    }
   ],
   "source": [
    "#checking for negative value for this feature # checked for each of these features and got zero in results\n",
    "col=['homes_sold','pending_sales','new_listings','inventory','months_of_supply','avg_sale_to_list','sold_above_list','price_drops','off_market_in_two_weeks']\n",
    "(df[col]<0).sum().sum()"
   ]
  },
  {
   "cell_type": "code",
   "execution_count": 60,
   "id": "bb137dd2",
   "metadata": {},
   "outputs": [
    {
     "data": {
      "text/plain": [
       "homes_sold                  0.000000\n",
       "pending_sales              13.025028\n",
       "new_listings               11.509291\n",
       "inventory                   5.855790\n",
       "months_of_supply            5.855790\n",
       "avg_sale_to_list            0.043552\n",
       "sold_above_list             0.000000\n",
       "price_drops                29.236257\n",
       "off_market_in_two_weeks    13.025028\n",
       "dtype: float64"
      ]
     },
     "execution_count": 60,
     "metadata": {},
     "output_type": "execute_result"
    }
   ],
   "source": [
    "col=['homes_sold','pending_sales','new_listings','inventory','months_of_supply','avg_sale_to_list','sold_above_list','price_drops','off_market_in_two_weeks']\n",
    "(df[col]<0).sum().sum()\n",
    "missing_vals2 = df[col].isna().sum()/len(df[col])*100\n",
    "missing_vals2"
   ]
  },
  {
   "cell_type": "code",
   "execution_count": 61,
   "id": "db6c30fd",
   "metadata": {},
   "outputs": [
    {
     "data": {
      "text/plain": [
       "<AxesSubplot:>"
      ]
     },
     "execution_count": 61,
     "metadata": {},
     "output_type": "execute_result"
    },
    {
     "data": {
      "image/png": "[encoded data removed]",
      "text/plain": [
       "<Figure size 1800x720 with 2 Axes>"
      ]
     },
     "metadata": {
      "needs_background": "light"
     },
     "output_type": "display_data"
    }
   ],
   "source": [
    "col=['homes_sold','pending_sales','new_listings','inventory','months_of_supply','avg_sale_to_list','sold_above_list','price_drops','off_market_in_two_weeks']\n",
    "test=df[col]\n",
    "msno.matrix(test)"
   ]
  },
  {
   "cell_type": "code",
   "execution_count": 62,
   "id": "fcac9847",
   "metadata": {},
   "outputs": [
    {
     "data": {
      "text/plain": [
       "<AxesSubplot:>"
      ]
     },
     "execution_count": 62,
     "metadata": {},
     "output_type": "execute_result"
    },
    {
     "data": {
      "image/png": "[encoded data removed]",
      "text/plain": [
       "<Figure size 360x360 with 1 Axes>"
      ]
     },
     "metadata": {
      "needs_background": "light"
     },
     "output_type": "display_data"
    }
   ],
   "source": [
    "#checking for outliers\n",
    "#box plot before removing outliers\n",
    "fig, axes = plt.subplots(1, 1, figsize=(5,5))\n",
    "fig.suptitle('Detecting Feature Value Outliers')\n",
    "#Visualize the median_list_ppsf\n",
    "df['pending_sales'].plot(kind=\"box\")"
   ]
  },
  {
   "cell_type": "code",
   "execution_count": 63,
   "id": "65d049b3",
   "metadata": {},
   "outputs": [],
   "source": [
    "Q1 = df['pending_sales'].quantile(0.25)\n",
    "Q3 = df['pending_sales'].quantile(0.75)\n",
    "IQR = Q3 - Q1\n",
    "\n",
    "df = df[~((df['pending_sales'] < (Q1 - 1.5 * IQR)) |(df['pending_sales'] > (Q3 + 1.5* IQR)))]"
   ]
  },
  {
   "cell_type": "code",
   "execution_count": 64,
   "id": "01dc5911",
   "metadata": {},
   "outputs": [],
   "source": [
    "df['pending_sales'].fillna(df['pending_sales'].mean(), inplace = True)\n"
   ]
  },
  {
   "cell_type": "code",
   "execution_count": 65,
   "id": "f663da4b",
   "metadata": {},
   "outputs": [],
   "source": [
    "df['new_listings'].fillna(df['new_listings'].mean(), inplace = True)\n"
   ]
  },
  {
   "cell_type": "code",
   "execution_count": 66,
   "id": "95fe3f89",
   "metadata": {},
   "outputs": [],
   "source": [
    "df['inventory'].fillna(df['inventory'].mean(), inplace = True)"
   ]
  },
  {
   "cell_type": "code",
   "execution_count": 67,
   "id": "f0e0a7cf",
   "metadata": {},
   "outputs": [],
   "source": [
    "df['months_of_supply'].fillna(df['months_of_supply'].mean(), inplace = True)"
   ]
  },
  {
   "cell_type": "code",
   "execution_count": 68,
   "id": "32fd29de",
   "metadata": {},
   "outputs": [],
   "source": [
    "df['price_drops'].fillna(df['price_drops'].mean(), inplace = True)"
   ]
  },
  {
   "cell_type": "code",
   "execution_count": 69,
   "id": "cb283720",
   "metadata": {},
   "outputs": [],
   "source": [
    "df['off_market_in_two_weeks'].fillna(df['off_market_in_two_weeks'].mean(), inplace = True)"
   ]
  },
  {
   "cell_type": "code",
   "execution_count": 70,
   "id": "d1c22417",
   "metadata": {},
   "outputs": [],
   "source": [
    "df['median_dom'].fillna(df['median_dom'].mean(), inplace = True)"
   ]
  },
  {
   "cell_type": "code",
   "execution_count": 71,
   "id": "a8c16be6",
   "metadata": {},
   "outputs": [],
   "source": [
    "df['median_ppsf'].fillna(df['median_ppsf'].mean(), inplace = True)"
   ]
  },
  {
   "cell_type": "code",
   "execution_count": 72,
   "id": "802c1f76",
   "metadata": {},
   "outputs": [],
   "source": [
    "df['median_list_ppsf'].fillna(df['median_list_ppsf'].mean(), inplace = True)"
   ]
  },
  {
   "cell_type": "code",
   "execution_count": 73,
   "id": "c1d6ce60",
   "metadata": {},
   "outputs": [],
   "source": [
    "df['avg_sale_to_list'].fillna(df['avg_sale_to_list'].mean(), inplace = True)"
   ]
  },
  {
   "cell_type": "code",
   "execution_count": 74,
   "id": "0a8a00f5",
   "metadata": {},
   "outputs": [
    {
     "data": {
      "text/plain": [
       "<AxesSubplot:>"
      ]
     },
     "execution_count": 74,
     "metadata": {},
     "output_type": "execute_result"
    },
    {
     "data": {
      "image/png": "[encoded data removed]",
      "text/plain": [
       "<Figure size 1800x720 with 2 Axes>"
      ]
     },
     "metadata": {
      "needs_background": "light"
     },
     "output_type": "display_data"
    }
   ],
   "source": [
    "msno.matrix(df)"
   ]
  },
  {
   "cell_type": "code",
   "execution_count": 75,
   "id": "03b8be89",
   "metadata": {},
   "outputs": [
    {
     "data": {
      "text/plain": [
       "homes_sold                 0.0\n",
       "pending_sales              0.0\n",
       "new_listings               0.0\n",
       "inventory                  0.0\n",
       "months_of_supply           0.0\n",
       "avg_sale_to_list           0.0\n",
       "sold_above_list            0.0\n",
       "price_drops                0.0\n",
       "off_market_in_two_weeks    0.0\n",
       "dtype: float64"
      ]
     },
     "execution_count": 75,
     "metadata": {},
     "output_type": "execute_result"
    }
   ],
   "source": [
    "missing_vals2 = df[col].isna().sum()/len(df[col])*100\n",
    "missing_vals2"
   ]
  },
  {
   "cell_type": "code",
   "execution_count": 76,
   "id": "dddcb7f9",
   "metadata": {},
   "outputs": [],
   "source": [
    "# # Normalize Distance and Age\n",
    "# from sklearn.preprocessing import MinMaxScaler\n",
    "\n",
    "# scaler = MinMaxScaler()\n",
    "# cols_to_norm = ['median_sale_price', 'median_list_price', 'median_ppsf','median_list_ppsf', 'homes_sold', 'pending_sales', 'new_listings', 'inventory', 'months_of_supply', 'avg_sale_to_list', 'sold_above_list', 'price_drops', 'off_market_in_two_weeks','MORTGAGE30US']\n",
    "# df[cols_to_norm] = scaler.fit_transform(df[cols_to_norm])"
   ]
  },
  {
   "cell_type": "code",
   "execution_count": 77,
   "id": "8a8a8343",
   "metadata": {},
   "outputs": [],
   "source": [
    "cols = ['median_sale_price', 'median_list_price', 'median_ppsf', 'median_list_ppsf', 'homes_sold', 'pending_sales', 'new_listings', 'inventory', 'months_of_supply','avg_sale_to_list', 'sold_above_list', 'price_drops'] # one or more\n",
    "\n",
    "Q1 = df[cols].quantile(0.25)\n",
    "Q3 = df[cols].quantile(0.75)\n",
    "IQR = Q3 - Q1\n",
    "\n",
    "df = df[~((df[cols] < (Q1 - 1.5 * IQR)) |(df[cols] > (Q3 + 1.5 * IQR))).any(axis=1)]"
   ]
  },
  {
   "cell_type": "markdown",
   "id": "7ff07250",
   "metadata": {},
   "source": [
    "# Baseline Model"
   ]
  },
  {
   "cell_type": "code",
   "execution_count": 78,
   "id": "63a1e6bd",
   "metadata": {},
   "outputs": [
    {
     "data": {
      "text/plain": [
       "64.396464      3888\n",
       "14.000000      2878\n",
       "11.000000      2876\n",
       "10.000000      2851\n",
       "12.000000      2836\n",
       "               ... \n",
       "893.000000        1\n",
       "948.000000        1\n",
       "662.000000        1\n",
       "712.000000        1\n",
       "2141.000000       1\n",
       "Name: median_dom, Length: 1108, dtype: int64"
      ]
     },
     "execution_count": 78,
     "metadata": {},
     "output_type": "execute_result"
    }
   ],
   "source": [
    "df['median_dom'].value_counts()"
   ]
  },
  {
   "cell_type": "code",
   "execution_count": 79,
   "id": "8091f28e",
   "metadata": {},
   "outputs": [
    {
     "data": {
      "text/plain": [
       "0"
      ]
     },
     "execution_count": 79,
     "metadata": {},
     "output_type": "execute_result"
    }
   ],
   "source": [
    "#checking for negative value for this feature\n",
    "(df['median_dom']<0).sum().sum()"
   ]
  },
  {
   "cell_type": "code",
   "execution_count": 80,
   "id": "738ea33e",
   "metadata": {},
   "outputs": [
    {
     "data": {
      "text/plain": [
       "<AxesSubplot:>"
      ]
     },
     "execution_count": 80,
     "metadata": {},
     "output_type": "execute_result"
    },
    {
     "data": {
      "image/png": "[encoded data removed]",
      "text/plain": [
       "<Figure size 360x360 with 1 Axes>"
      ]
     },
     "metadata": {
      "needs_background": "light"
     },
     "output_type": "display_data"
    }
   ],
   "source": [
    "#checking for outliers\n",
    "#box plot before removing outliers\n",
    "fig, axes = plt.subplots(1, 1, figsize=(5,5))\n",
    "fig.suptitle('Detecting Feature Value Outliers')\n",
    "#Visualize the median_list_ppsf\n",
    "df['median_dom'].plot(kind=\"box\")"
   ]
  },
  {
   "cell_type": "code",
   "execution_count": 81,
   "id": "4f1185bc",
   "metadata": {},
   "outputs": [],
   "source": [
    "Q1 = df['median_dom'].quantile(0.25)\n",
    "Q3 = df['median_dom'].quantile(0.75)\n",
    "IQR = Q3 - Q1\n",
    "\n",
    "df = df[~((df['median_dom'] < (Q1 - 1.5 * IQR)) |(df['median_dom'] > (Q3 + 1.5* IQR)))]"
   ]
  },
  {
   "cell_type": "code",
   "execution_count": 82,
   "id": "295c00d9",
   "metadata": {},
   "outputs": [
    {
     "data": {
      "text/plain": [
       "<AxesSubplot:>"
      ]
     },
     "execution_count": 82,
     "metadata": {},
     "output_type": "execute_result"
    },
    {
     "data": {
      "image/png": "[encoded data removed]",
      "text/plain": [
       "<Figure size 360x360 with 1 Axes>"
      ]
     },
     "metadata": {
      "needs_background": "light"
     },
     "output_type": "display_data"
    }
   ],
   "source": [
    "#checking for outliers\n",
    "#box plot before removing outliers\n",
    "fig, axes = plt.subplots(1, 1, figsize=(5,5))\n",
    "fig.suptitle('Detecting Feature Value Outliers')\n",
    "#Visualize the median_list_ppsf\n",
    "df['median_dom'].plot(kind=\"box\")"
   ]
  },
  {
   "cell_type": "code",
   "execution_count": 83,
   "id": "10fb1e4e",
   "metadata": {},
   "outputs": [
    {
     "data": {
      "text/plain": [
       "(156524,)"
      ]
     },
     "execution_count": 83,
     "metadata": {},
     "output_type": "execute_result"
    }
   ],
   "source": [
    "df['median_dom'].shape"
   ]
  },
  {
   "cell_type": "code",
   "execution_count": 84,
   "id": "caddd3ff",
   "metadata": {},
   "outputs": [],
   "source": [
    "df['median_dom'].fillna(df['median_dom'].mean(), inplace = True)"
   ]
  },
  {
   "cell_type": "code",
   "execution_count": 85,
   "id": "d8c725a4",
   "metadata": {},
   "outputs": [
    {
     "data": {
      "image/png": "[encoded data removed]",
      "text/plain": [
       "<Figure size 720x360 with 1 Axes>"
      ]
     },
     "metadata": {
      "needs_background": "light"
     },
     "output_type": "display_data"
    }
   ],
   "source": [
    "fig=plt.figure(figsize=(10,5))\n",
    "plt.hist(df['median_dom'], bins=100, density=True, alpha=0.5, color='b')\n",
    "  \n",
    "plt.show()"
   ]
  },
  {
   "cell_type": "code",
   "execution_count": null,
   "id": "9a0947df",
   "metadata": {},
   "outputs": [],
   "source": []
  },
  {
   "cell_type": "code",
   "execution_count": 86,
   "id": "cb3b25a4",
   "metadata": {},
   "outputs": [],
   "source": [
    "df['median_dom'] = np.round(df['median_dom'], decimals = 1)"
   ]
  },
  {
   "cell_type": "code",
   "execution_count": 87,
   "id": "ec6e31e2",
   "metadata": {
    "scrolled": true
   },
   "outputs": [
    {
     "data": {
      "text/plain": [
       "Index(['city', 'median_sale_price', 'median_list_price', 'median_ppsf',\n",
       "       'median_list_ppsf', 'homes_sold', 'pending_sales', 'new_listings',\n",
       "       'inventory', 'months_of_supply', 'median_dom', 'avg_sale_to_list',\n",
       "       'sold_above_list', 'price_drops', 'off_market_in_two_weeks',\n",
       "       'parent_metro_region_metro_code', 'year', 'month', 'MORTGAGE30US',\n",
       "       'PropertyType_All_Residential', 'PropertyType_Condo/Co-op',\n",
       "       'PropertyType_Multi-Family(2-4 Unit)',\n",
       "       'PropertyType_Single_Family_Residential', 'PropertyType_Townhouse ',\n",
       "       'CA', 'California', 'Anaheim', 'Bakersfield', 'Chico', 'Clearlake',\n",
       "       'El Centro', 'Eureka', 'Fresno', 'Hanford', 'Los Angeles', 'Madera',\n",
       "       'Merced', 'Modesto', 'Napa', 'Oakland', 'Oxnard', 'Red Bluff',\n",
       "       'Redding', 'Riverside', 'Sacramento', 'Salinas', 'San Diego',\n",
       "       'San Francisco', 'San Jose', 'San Luis Obispo', 'San Rafael',\n",
       "       'Santa Cruz', 'Santa Maria', 'Santa Rosa', 'Sonora', 'Stockton',\n",
       "       'Susanville', 'Truckee', 'Ukiah', 'Vallejo', 'Visalia', 'Yuba City'],\n",
       "      dtype='object')"
      ]
     },
     "execution_count": 87,
     "metadata": {},
     "output_type": "execute_result"
    }
   ],
   "source": [
    "df.columns"
   ]
  },
  {
   "cell_type": "code",
   "execution_count": 88,
   "id": "153f75af",
   "metadata": {},
   "outputs": [
    {
     "data": {
      "text/plain": [
       "count    156524.000000\n",
       "mean         43.240278\n",
       "std          30.098821\n",
       "min           1.000000\n",
       "25%          19.000000\n",
       "50%          37.000000\n",
       "75%          62.000000\n",
       "max         137.000000\n",
       "Name: median_dom, dtype: float64"
      ]
     },
     "execution_count": 88,
     "metadata": {},
     "output_type": "execute_result"
    }
   ],
   "source": [
    "df['median_dom'].describe()"
   ]
  },
  {
   "cell_type": "markdown",
   "id": "8acc93ad",
   "metadata": {},
   "source": [
    "We have used apply() on the entire row of the dataframe and among all, we have taken onyl median_dom"
   ]
  },
  {
   "cell_type": "code",
   "execution_count": 89,
   "id": "d51ba3d3",
   "metadata": {},
   "outputs": [],
   "source": [
    "def assign_quality(row):\n",
    "    if row['median_dom'] <= 21: #3 weeks...\n",
    "        return 0\n",
    "    elif row['median_dom'] > 21 and row['median_dom'] <= 45: #3 weeks to 1.5 months...\n",
    "        return 1\n",
    "    else: # greater than 1.5 months...\n",
    "        return 2"
   ]
  },
  {
   "cell_type": "code",
   "execution_count": 90,
   "id": "848902d9",
   "metadata": {},
   "outputs": [],
   "source": [
    "df['quality'] = df.apply(assign_quality, axis=1)"
   ]
  },
  {
   "cell_type": "code",
   "execution_count": 91,
   "id": "1b9209cf",
   "metadata": {},
   "outputs": [],
   "source": [
    "df1 = df[['median_dom', 'quality']]"
   ]
  },
  {
   "cell_type": "code",
   "execution_count": 92,
   "id": "c1bd3b6c",
   "metadata": {},
   "outputs": [
    {
     "data": {
      "text/plain": [
       "array([1, 0, 2], dtype=int64)"
      ]
     },
     "execution_count": 92,
     "metadata": {},
     "output_type": "execute_result"
    }
   ],
   "source": [
    "df1['quality'].unique()"
   ]
  },
  {
   "cell_type": "code",
   "execution_count": 93,
   "id": "edb1c9c7",
   "metadata": {},
   "outputs": [
    {
     "data": {
      "text/plain": [
       "2    61816\n",
       "1    49530\n",
       "0    45178\n",
       "Name: quality, dtype: int64"
      ]
     },
     "execution_count": 93,
     "metadata": {},
     "output_type": "execute_result"
    }
   ],
   "source": [
    "df1['quality'].value_counts()"
   ]
  },
  {
   "cell_type": "code",
   "execution_count": 94,
   "id": "aa1d484a",
   "metadata": {},
   "outputs": [],
   "source": [
    "df.reset_index(inplace=True)\n",
    "df.drop('index', axis= 1, inplace=True)"
   ]
  },
  {
   "cell_type": "code",
   "execution_count": 95,
   "id": "bdba595f",
   "metadata": {},
   "outputs": [],
   "source": [
    "# df['quality_Ranking'] = 0\n",
    "# for i in range(len(df)):\n",
    "#     if df['quality'][i] == 'HIGH':\n",
    "#         df['quality_Ranking'][i] = 1\n",
    "#     elif df['quality'][i] == 'MEDIUM':\n",
    "#         df['quality_Ranking'][i] = 2\n",
    "#     else :\n",
    "#         df['quality_Ranking'][i]=3\n"
   ]
  },
  {
   "cell_type": "code",
   "execution_count": 96,
   "id": "18ef81c5",
   "metadata": {},
   "outputs": [
    {
     "data": {
      "text/html": [
       "<div>\n",
       "<style scoped>\n",
       "    .dataframe tbody tr th:only-of-type {\n",
       "        vertical-align: middle;\n",
       "    }\n",
       "\n",
       "    .dataframe tbody tr th {\n",
       "        vertical-align: top;\n",
       "    }\n",
       "\n",
       "    .dataframe thead th {\n",
       "        text-align: right;\n",
       "    }\n",
       "</style>\n",
       "<table border=\"1\" class=\"dataframe\">\n",
       "  <thead>\n",
       "    <tr style=\"text-align: right;\">\n",
       "      <th></th>\n",
       "      <th>city</th>\n",
       "      <th>median_sale_price</th>\n",
       "      <th>median_list_price</th>\n",
       "      <th>median_ppsf</th>\n",
       "      <th>median_list_ppsf</th>\n",
       "      <th>homes_sold</th>\n",
       "      <th>pending_sales</th>\n",
       "      <th>new_listings</th>\n",
       "      <th>inventory</th>\n",
       "      <th>months_of_supply</th>\n",
       "      <th>...</th>\n",
       "      <th>Santa Rosa</th>\n",
       "      <th>Sonora</th>\n",
       "      <th>Stockton</th>\n",
       "      <th>Susanville</th>\n",
       "      <th>Truckee</th>\n",
       "      <th>Ukiah</th>\n",
       "      <th>Vallejo</th>\n",
       "      <th>Visalia</th>\n",
       "      <th>Yuba City</th>\n",
       "      <th>quality</th>\n",
       "    </tr>\n",
       "  </thead>\n",
       "  <tbody>\n",
       "    <tr>\n",
       "      <th>0</th>\n",
       "      <td>1124</td>\n",
       "      <td>180000.0</td>\n",
       "      <td>125800.00000</td>\n",
       "      <td>102.564103</td>\n",
       "      <td>90.752462</td>\n",
       "      <td>19</td>\n",
       "      <td>10.000000</td>\n",
       "      <td>6.000000</td>\n",
       "      <td>16.000000</td>\n",
       "      <td>0.800000</td>\n",
       "      <td>...</td>\n",
       "      <td>0</td>\n",
       "      <td>0</td>\n",
       "      <td>0</td>\n",
       "      <td>0</td>\n",
       "      <td>0</td>\n",
       "      <td>0</td>\n",
       "      <td>0</td>\n",
       "      <td>0</td>\n",
       "      <td>0</td>\n",
       "      <td>1</td>\n",
       "    </tr>\n",
       "    <tr>\n",
       "      <th>1</th>\n",
       "      <td>426</td>\n",
       "      <td>477500.0</td>\n",
       "      <td>600000.00000</td>\n",
       "      <td>528.221778</td>\n",
       "      <td>524.475525</td>\n",
       "      <td>2</td>\n",
       "      <td>1.000000</td>\n",
       "      <td>1.000000</td>\n",
       "      <td>1.000000</td>\n",
       "      <td>0.500000</td>\n",
       "      <td>...</td>\n",
       "      <td>0</td>\n",
       "      <td>0</td>\n",
       "      <td>0</td>\n",
       "      <td>0</td>\n",
       "      <td>0</td>\n",
       "      <td>0</td>\n",
       "      <td>0</td>\n",
       "      <td>0</td>\n",
       "      <td>0</td>\n",
       "      <td>0</td>\n",
       "    </tr>\n",
       "    <tr>\n",
       "      <th>2</th>\n",
       "      <td>360</td>\n",
       "      <td>450000.0</td>\n",
       "      <td>694801.66751</td>\n",
       "      <td>300.000000</td>\n",
       "      <td>428.895978</td>\n",
       "      <td>1</td>\n",
       "      <td>10.026163</td>\n",
       "      <td>12.991399</td>\n",
       "      <td>26.321098</td>\n",
       "      <td>3.077924</td>\n",
       "      <td>...</td>\n",
       "      <td>0</td>\n",
       "      <td>0</td>\n",
       "      <td>0</td>\n",
       "      <td>0</td>\n",
       "      <td>0</td>\n",
       "      <td>0</td>\n",
       "      <td>0</td>\n",
       "      <td>0</td>\n",
       "      <td>0</td>\n",
       "      <td>0</td>\n",
       "    </tr>\n",
       "    <tr>\n",
       "      <th>3</th>\n",
       "      <td>1306</td>\n",
       "      <td>295000.0</td>\n",
       "      <td>250000.00000</td>\n",
       "      <td>185.897436</td>\n",
       "      <td>175.606641</td>\n",
       "      <td>3</td>\n",
       "      <td>10.026163</td>\n",
       "      <td>1.000000</td>\n",
       "      <td>3.000000</td>\n",
       "      <td>1.000000</td>\n",
       "      <td>...</td>\n",
       "      <td>0</td>\n",
       "      <td>0</td>\n",
       "      <td>0</td>\n",
       "      <td>0</td>\n",
       "      <td>0</td>\n",
       "      <td>0</td>\n",
       "      <td>0</td>\n",
       "      <td>0</td>\n",
       "      <td>0</td>\n",
       "      <td>2</td>\n",
       "    </tr>\n",
       "    <tr>\n",
       "      <th>4</th>\n",
       "      <td>487</td>\n",
       "      <td>895000.0</td>\n",
       "      <td>579900.00000</td>\n",
       "      <td>382.910117</td>\n",
       "      <td>285.946746</td>\n",
       "      <td>3</td>\n",
       "      <td>3.000000</td>\n",
       "      <td>1.000000</td>\n",
       "      <td>1.000000</td>\n",
       "      <td>0.300000</td>\n",
       "      <td>...</td>\n",
       "      <td>0</td>\n",
       "      <td>0</td>\n",
       "      <td>0</td>\n",
       "      <td>0</td>\n",
       "      <td>0</td>\n",
       "      <td>0</td>\n",
       "      <td>1</td>\n",
       "      <td>0</td>\n",
       "      <td>0</td>\n",
       "      <td>1</td>\n",
       "    </tr>\n",
       "  </tbody>\n",
       "</table>\n",
       "<p>5 rows × 63 columns</p>\n",
       "</div>"
      ],
      "text/plain": [
       "   city  median_sale_price  median_list_price  median_ppsf  median_list_ppsf  \\\n",
       "0  1124           180000.0       125800.00000   102.564103         90.752462   \n",
       "1   426           477500.0       600000.00000   528.221778        524.475525   \n",
       "2   360           450000.0       694801.66751   300.000000        428.895978   \n",
       "3  1306           295000.0       250000.00000   185.897436        175.606641   \n",
       "4   487           895000.0       579900.00000   382.910117        285.946746   \n",
       "\n",
       "   homes_sold  pending_sales  new_listings  inventory  months_of_supply  ...  \\\n",
       "0          19      10.000000      6.000000  16.000000          0.800000  ...   \n",
       "1           2       1.000000      1.000000   1.000000          0.500000  ...   \n",
       "2           1      10.026163     12.991399  26.321098          3.077924  ...   \n",
       "3           3      10.026163      1.000000   3.000000          1.000000  ...   \n",
       "4           3       3.000000      1.000000   1.000000          0.300000  ...   \n",
       "\n",
       "   Santa Rosa  Sonora  Stockton  Susanville  Truckee  Ukiah  Vallejo  Visalia  \\\n",
       "0           0       0         0           0        0      0        0        0   \n",
       "1           0       0         0           0        0      0        0        0   \n",
       "2           0       0         0           0        0      0        0        0   \n",
       "3           0       0         0           0        0      0        0        0   \n",
       "4           0       0         0           0        0      0        1        0   \n",
       "\n",
       "   Yuba City  quality  \n",
       "0          0        1  \n",
       "1          0        0  \n",
       "2          0        0  \n",
       "3          0        2  \n",
       "4          0        1  \n",
       "\n",
       "[5 rows x 63 columns]"
      ]
     },
     "execution_count": 96,
     "metadata": {},
     "output_type": "execute_result"
    }
   ],
   "source": [
    "df.head()"
   ]
  },
  {
   "cell_type": "code",
   "execution_count": 97,
   "id": "86215d05",
   "metadata": {},
   "outputs": [
    {
     "data": {
      "text/plain": [
       "0         1\n",
       "1         0\n",
       "2         0\n",
       "3         2\n",
       "4         1\n",
       "         ..\n",
       "156519    0\n",
       "156520    2\n",
       "156521    1\n",
       "156522    2\n",
       "156523    2\n",
       "Name: quality, Length: 156524, dtype: int64"
      ]
     },
     "execution_count": 97,
     "metadata": {},
     "output_type": "execute_result"
    }
   ],
   "source": [
    "df['quality']"
   ]
  },
  {
   "cell_type": "code",
   "execution_count": 98,
   "id": "752d057e",
   "metadata": {},
   "outputs": [
    {
     "data": {
      "text/html": [
       "<div>\n",
       "<style scoped>\n",
       "    .dataframe tbody tr th:only-of-type {\n",
       "        vertical-align: middle;\n",
       "    }\n",
       "\n",
       "    .dataframe tbody tr th {\n",
       "        vertical-align: top;\n",
       "    }\n",
       "\n",
       "    .dataframe thead th {\n",
       "        text-align: right;\n",
       "    }\n",
       "</style>\n",
       "<table border=\"1\" class=\"dataframe\">\n",
       "  <thead>\n",
       "    <tr style=\"text-align: right;\">\n",
       "      <th></th>\n",
       "      <th>city</th>\n",
       "      <th>median_sale_price</th>\n",
       "      <th>median_list_price</th>\n",
       "      <th>median_ppsf</th>\n",
       "      <th>median_list_ppsf</th>\n",
       "      <th>homes_sold</th>\n",
       "      <th>pending_sales</th>\n",
       "      <th>new_listings</th>\n",
       "      <th>inventory</th>\n",
       "      <th>months_of_supply</th>\n",
       "      <th>...</th>\n",
       "      <th>Santa Rosa</th>\n",
       "      <th>Sonora</th>\n",
       "      <th>Stockton</th>\n",
       "      <th>Susanville</th>\n",
       "      <th>Truckee</th>\n",
       "      <th>Ukiah</th>\n",
       "      <th>Vallejo</th>\n",
       "      <th>Visalia</th>\n",
       "      <th>Yuba City</th>\n",
       "      <th>quality</th>\n",
       "    </tr>\n",
       "  </thead>\n",
       "  <tbody>\n",
       "    <tr>\n",
       "      <th>count</th>\n",
       "      <td>156524.000000</td>\n",
       "      <td>1.565240e+05</td>\n",
       "      <td>1.565240e+05</td>\n",
       "      <td>156524.000000</td>\n",
       "      <td>156524.000000</td>\n",
       "      <td>156524.000000</td>\n",
       "      <td>156524.000000</td>\n",
       "      <td>156524.000000</td>\n",
       "      <td>156524.000000</td>\n",
       "      <td>156524.000000</td>\n",
       "      <td>...</td>\n",
       "      <td>156524.000000</td>\n",
       "      <td>156524.000000</td>\n",
       "      <td>156524.000000</td>\n",
       "      <td>156524.000000</td>\n",
       "      <td>156524.000000</td>\n",
       "      <td>156524.000000</td>\n",
       "      <td>156524.000000</td>\n",
       "      <td>156524.000000</td>\n",
       "      <td>156524.000000</td>\n",
       "      <td>156524.000000</td>\n",
       "    </tr>\n",
       "    <tr>\n",
       "      <th>mean</th>\n",
       "      <td>660.952525</td>\n",
       "      <td>4.509800e+05</td>\n",
       "      <td>5.368205e+05</td>\n",
       "      <td>289.700471</td>\n",
       "      <td>326.949167</td>\n",
       "      <td>6.522399</td>\n",
       "      <td>6.843201</td>\n",
       "      <td>8.776842</td>\n",
       "      <td>16.238133</td>\n",
       "      <td>2.513943</td>\n",
       "      <td>...</td>\n",
       "      <td>0.032545</td>\n",
       "      <td>0.000645</td>\n",
       "      <td>0.023760</td>\n",
       "      <td>0.000460</td>\n",
       "      <td>0.009915</td>\n",
       "      <td>0.000882</td>\n",
       "      <td>0.010427</td>\n",
       "      <td>0.009673</td>\n",
       "      <td>0.011628</td>\n",
       "      <td>1.106297</td>\n",
       "    </tr>\n",
       "    <tr>\n",
       "      <th>std</th>\n",
       "      <td>382.638095</td>\n",
       "      <td>2.597280e+05</td>\n",
       "      <td>2.466166e+05</td>\n",
       "      <td>147.153848</td>\n",
       "      <td>139.045113</td>\n",
       "      <td>5.927019</td>\n",
       "      <td>5.122658</td>\n",
       "      <td>6.604462</td>\n",
       "      <td>14.073726</td>\n",
       "      <td>1.505890</td>\n",
       "      <td>...</td>\n",
       "      <td>0.177442</td>\n",
       "      <td>0.025394</td>\n",
       "      <td>0.152301</td>\n",
       "      <td>0.021443</td>\n",
       "      <td>0.099082</td>\n",
       "      <td>0.029680</td>\n",
       "      <td>0.101577</td>\n",
       "      <td>0.097873</td>\n",
       "      <td>0.107203</td>\n",
       "      <td>0.819920</td>\n",
       "    </tr>\n",
       "    <tr>\n",
       "      <th>min</th>\n",
       "      <td>0.000000</td>\n",
       "      <td>1.000000e+00</td>\n",
       "      <td>1.500000e+03</td>\n",
       "      <td>0.000690</td>\n",
       "      <td>0.771605</td>\n",
       "      <td>1.000000</td>\n",
       "      <td>1.000000</td>\n",
       "      <td>1.000000</td>\n",
       "      <td>1.000000</td>\n",
       "      <td>0.000000</td>\n",
       "      <td>...</td>\n",
       "      <td>0.000000</td>\n",
       "      <td>0.000000</td>\n",
       "      <td>0.000000</td>\n",
       "      <td>0.000000</td>\n",
       "      <td>0.000000</td>\n",
       "      <td>0.000000</td>\n",
       "      <td>0.000000</td>\n",
       "      <td>0.000000</td>\n",
       "      <td>0.000000</td>\n",
       "      <td>0.000000</td>\n",
       "    </tr>\n",
       "    <tr>\n",
       "      <th>25%</th>\n",
       "      <td>338.000000</td>\n",
       "      <td>2.600000e+05</td>\n",
       "      <td>3.450000e+05</td>\n",
       "      <td>175.507020</td>\n",
       "      <td>213.939230</td>\n",
       "      <td>2.000000</td>\n",
       "      <td>2.000000</td>\n",
       "      <td>3.000000</td>\n",
       "      <td>5.000000</td>\n",
       "      <td>1.300000</td>\n",
       "      <td>...</td>\n",
       "      <td>0.000000</td>\n",
       "      <td>0.000000</td>\n",
       "      <td>0.000000</td>\n",
       "      <td>0.000000</td>\n",
       "      <td>0.000000</td>\n",
       "      <td>0.000000</td>\n",
       "      <td>0.000000</td>\n",
       "      <td>0.000000</td>\n",
       "      <td>0.000000</td>\n",
       "      <td>0.000000</td>\n",
       "    </tr>\n",
       "    <tr>\n",
       "      <th>50%</th>\n",
       "      <td>654.000000</td>\n",
       "      <td>4.010000e+05</td>\n",
       "      <td>5.300000e+05</td>\n",
       "      <td>269.406849</td>\n",
       "      <td>329.274404</td>\n",
       "      <td>4.000000</td>\n",
       "      <td>6.000000</td>\n",
       "      <td>7.000000</td>\n",
       "      <td>12.000000</td>\n",
       "      <td>2.300000</td>\n",
       "      <td>...</td>\n",
       "      <td>0.000000</td>\n",
       "      <td>0.000000</td>\n",
       "      <td>0.000000</td>\n",
       "      <td>0.000000</td>\n",
       "      <td>0.000000</td>\n",
       "      <td>0.000000</td>\n",
       "      <td>0.000000</td>\n",
       "      <td>0.000000</td>\n",
       "      <td>0.000000</td>\n",
       "      <td>1.000000</td>\n",
       "    </tr>\n",
       "    <tr>\n",
       "      <th>75%</th>\n",
       "      <td>999.000000</td>\n",
       "      <td>5.900000e+05</td>\n",
       "      <td>6.948017e+05</td>\n",
       "      <td>382.375857</td>\n",
       "      <td>428.895978</td>\n",
       "      <td>9.000000</td>\n",
       "      <td>10.026163</td>\n",
       "      <td>12.991399</td>\n",
       "      <td>26.321098</td>\n",
       "      <td>3.077924</td>\n",
       "      <td>...</td>\n",
       "      <td>0.000000</td>\n",
       "      <td>0.000000</td>\n",
       "      <td>0.000000</td>\n",
       "      <td>0.000000</td>\n",
       "      <td>0.000000</td>\n",
       "      <td>0.000000</td>\n",
       "      <td>0.000000</td>\n",
       "      <td>0.000000</td>\n",
       "      <td>0.000000</td>\n",
       "      <td>2.000000</td>\n",
       "    </tr>\n",
       "    <tr>\n",
       "      <th>max</th>\n",
       "      <td>1334.000000</td>\n",
       "      <td>1.418000e+06</td>\n",
       "      <td>1.320500e+06</td>\n",
       "      <td>832.376579</td>\n",
       "      <td>760.512622</td>\n",
       "      <td>29.000000</td>\n",
       "      <td>23.000000</td>\n",
       "      <td>33.000000</td>\n",
       "      <td>65.000000</td>\n",
       "      <td>7.300000</td>\n",
       "      <td>...</td>\n",
       "      <td>1.000000</td>\n",
       "      <td>1.000000</td>\n",
       "      <td>1.000000</td>\n",
       "      <td>1.000000</td>\n",
       "      <td>1.000000</td>\n",
       "      <td>1.000000</td>\n",
       "      <td>1.000000</td>\n",
       "      <td>1.000000</td>\n",
       "      <td>1.000000</td>\n",
       "      <td>2.000000</td>\n",
       "    </tr>\n",
       "  </tbody>\n",
       "</table>\n",
       "<p>8 rows × 63 columns</p>\n",
       "</div>"
      ],
      "text/plain": [
       "                city  median_sale_price  median_list_price    median_ppsf  \\\n",
       "count  156524.000000       1.565240e+05       1.565240e+05  156524.000000   \n",
       "mean      660.952525       4.509800e+05       5.368205e+05     289.700471   \n",
       "std       382.638095       2.597280e+05       2.466166e+05     147.153848   \n",
       "min         0.000000       1.000000e+00       1.500000e+03       0.000690   \n",
       "25%       338.000000       2.600000e+05       3.450000e+05     175.507020   \n",
       "50%       654.000000       4.010000e+05       5.300000e+05     269.406849   \n",
       "75%       999.000000       5.900000e+05       6.948017e+05     382.375857   \n",
       "max      1334.000000       1.418000e+06       1.320500e+06     832.376579   \n",
       "\n",
       "       median_list_ppsf     homes_sold  pending_sales   new_listings  \\\n",
       "count     156524.000000  156524.000000  156524.000000  156524.000000   \n",
       "mean         326.949167       6.522399       6.843201       8.776842   \n",
       "std          139.045113       5.927019       5.122658       6.604462   \n",
       "min            0.771605       1.000000       1.000000       1.000000   \n",
       "25%          213.939230       2.000000       2.000000       3.000000   \n",
       "50%          329.274404       4.000000       6.000000       7.000000   \n",
       "75%          428.895978       9.000000      10.026163      12.991399   \n",
       "max          760.512622      29.000000      23.000000      33.000000   \n",
       "\n",
       "           inventory  months_of_supply  ...     Santa Rosa         Sonora  \\\n",
       "count  156524.000000     156524.000000  ...  156524.000000  156524.000000   \n",
       "mean       16.238133          2.513943  ...       0.032545       0.000645   \n",
       "std        14.073726          1.505890  ...       0.177442       0.025394   \n",
       "min         1.000000          0.000000  ...       0.000000       0.000000   \n",
       "25%         5.000000          1.300000  ...       0.000000       0.000000   \n",
       "50%        12.000000          2.300000  ...       0.000000       0.000000   \n",
       "75%        26.321098          3.077924  ...       0.000000       0.000000   \n",
       "max        65.000000          7.300000  ...       1.000000       1.000000   \n",
       "\n",
       "            Stockton     Susanville        Truckee          Ukiah  \\\n",
       "count  156524.000000  156524.000000  156524.000000  156524.000000   \n",
       "mean        0.023760       0.000460       0.009915       0.000882   \n",
       "std         0.152301       0.021443       0.099082       0.029680   \n",
       "min         0.000000       0.000000       0.000000       0.000000   \n",
       "25%         0.000000       0.000000       0.000000       0.000000   \n",
       "50%         0.000000       0.000000       0.000000       0.000000   \n",
       "75%         0.000000       0.000000       0.000000       0.000000   \n",
       "max         1.000000       1.000000       1.000000       1.000000   \n",
       "\n",
       "             Vallejo        Visalia      Yuba City        quality  \n",
       "count  156524.000000  156524.000000  156524.000000  156524.000000  \n",
       "mean        0.010427       0.009673       0.011628       1.106297  \n",
       "std         0.101577       0.097873       0.107203       0.819920  \n",
       "min         0.000000       0.000000       0.000000       0.000000  \n",
       "25%         0.000000       0.000000       0.000000       0.000000  \n",
       "50%         0.000000       0.000000       0.000000       1.000000  \n",
       "75%         0.000000       0.000000       0.000000       2.000000  \n",
       "max         1.000000       1.000000       1.000000       2.000000  \n",
       "\n",
       "[8 rows x 63 columns]"
      ]
     },
     "execution_count": 98,
     "metadata": {},
     "output_type": "execute_result"
    }
   ],
   "source": [
    "df.describe()"
   ]
  },
  {
   "cell_type": "code",
   "execution_count": 99,
   "id": "26921c44",
   "metadata": {},
   "outputs": [],
   "source": [
    "#Perform normalization on non one hot encoding columns\n",
    "from sklearn.preprocessing import MinMaxScaler\n",
    "\n",
    "scaler = MinMaxScaler()\n",
    "col=['median_sale_price', 'median_list_price', 'median_ppsf',\n",
    "       'median_list_ppsf', 'homes_sold', 'pending_sales', 'new_listings',\n",
    "       'inventory', 'months_of_supply', 'median_dom', 'avg_sale_to_list',\n",
    "       'sold_above_list', 'price_drops', 'off_market_in_two_weeks']\n",
    "\n",
    "\n",
    "\n",
    "df[col] = scaler.fit_transform(df[col])"
   ]
  },
  {
   "cell_type": "code",
   "execution_count": 100,
   "id": "7d9ab2e0",
   "metadata": {},
   "outputs": [],
   "source": [
    "one_hot_parent_metro_region_metro_code = pd.get_dummies(df['parent_metro_region_metro_code'])\n",
    "df = df.drop('parent_metro_region_metro_code' ,axis=1)\n",
    "df = df.join(one_hot_parent_metro_region_metro_code)"
   ]
  },
  {
   "cell_type": "code",
   "execution_count": 101,
   "id": "953dd559",
   "metadata": {},
   "outputs": [
    {
     "data": {
      "text/html": [
       "<div>\n",
       "<style scoped>\n",
       "    .dataframe tbody tr th:only-of-type {\n",
       "        vertical-align: middle;\n",
       "    }\n",
       "\n",
       "    .dataframe tbody tr th {\n",
       "        vertical-align: top;\n",
       "    }\n",
       "\n",
       "    .dataframe thead th {\n",
       "        text-align: right;\n",
       "    }\n",
       "</style>\n",
       "<table border=\"1\" class=\"dataframe\">\n",
       "  <thead>\n",
       "    <tr style=\"text-align: right;\">\n",
       "      <th></th>\n",
       "      <th>city</th>\n",
       "      <th>median_sale_price</th>\n",
       "      <th>median_list_price</th>\n",
       "      <th>median_ppsf</th>\n",
       "      <th>median_list_ppsf</th>\n",
       "      <th>homes_sold</th>\n",
       "      <th>pending_sales</th>\n",
       "      <th>new_listings</th>\n",
       "      <th>inventory</th>\n",
       "      <th>months_of_supply</th>\n",
       "      <th>...</th>\n",
       "      <th>42200</th>\n",
       "      <th>42220</th>\n",
       "      <th>43760</th>\n",
       "      <th>44700</th>\n",
       "      <th>45000</th>\n",
       "      <th>46020</th>\n",
       "      <th>46380</th>\n",
       "      <th>46700</th>\n",
       "      <th>47300</th>\n",
       "      <th>49700</th>\n",
       "    </tr>\n",
       "  </thead>\n",
       "  <tbody>\n",
       "    <tr>\n",
       "      <th>count</th>\n",
       "      <td>156524.000000</td>\n",
       "      <td>156524.000000</td>\n",
       "      <td>156524.000000</td>\n",
       "      <td>156524.000000</td>\n",
       "      <td>156524.000000</td>\n",
       "      <td>156524.000000</td>\n",
       "      <td>156524.000000</td>\n",
       "      <td>156524.000000</td>\n",
       "      <td>156524.000000</td>\n",
       "      <td>156524.000000</td>\n",
       "      <td>...</td>\n",
       "      <td>156524.000000</td>\n",
       "      <td>156524.000000</td>\n",
       "      <td>156524.000000</td>\n",
       "      <td>156524.000000</td>\n",
       "      <td>156524.000000</td>\n",
       "      <td>156524.000000</td>\n",
       "      <td>156524.000000</td>\n",
       "      <td>156524.000000</td>\n",
       "      <td>156524.000000</td>\n",
       "      <td>156524.000000</td>\n",
       "    </tr>\n",
       "    <tr>\n",
       "      <th>mean</th>\n",
       "      <td>660.952525</td>\n",
       "      <td>0.318039</td>\n",
       "      <td>0.405853</td>\n",
       "      <td>0.348040</td>\n",
       "      <td>0.429327</td>\n",
       "      <td>0.197229</td>\n",
       "      <td>0.265600</td>\n",
       "      <td>0.243026</td>\n",
       "      <td>0.238096</td>\n",
       "      <td>0.344376</td>\n",
       "      <td>...</td>\n",
       "      <td>0.016279</td>\n",
       "      <td>0.032545</td>\n",
       "      <td>0.000645</td>\n",
       "      <td>0.023760</td>\n",
       "      <td>0.000460</td>\n",
       "      <td>0.009915</td>\n",
       "      <td>0.000882</td>\n",
       "      <td>0.010427</td>\n",
       "      <td>0.009673</td>\n",
       "      <td>0.011628</td>\n",
       "    </tr>\n",
       "    <tr>\n",
       "      <th>std</th>\n",
       "      <td>382.638095</td>\n",
       "      <td>0.183165</td>\n",
       "      <td>0.186972</td>\n",
       "      <td>0.176788</td>\n",
       "      <td>0.183016</td>\n",
       "      <td>0.211679</td>\n",
       "      <td>0.232848</td>\n",
       "      <td>0.206389</td>\n",
       "      <td>0.219902</td>\n",
       "      <td>0.206286</td>\n",
       "      <td>...</td>\n",
       "      <td>0.126545</td>\n",
       "      <td>0.177442</td>\n",
       "      <td>0.025394</td>\n",
       "      <td>0.152301</td>\n",
       "      <td>0.021443</td>\n",
       "      <td>0.099082</td>\n",
       "      <td>0.029680</td>\n",
       "      <td>0.101577</td>\n",
       "      <td>0.097873</td>\n",
       "      <td>0.107203</td>\n",
       "    </tr>\n",
       "    <tr>\n",
       "      <th>min</th>\n",
       "      <td>0.000000</td>\n",
       "      <td>0.000000</td>\n",
       "      <td>0.000000</td>\n",
       "      <td>0.000000</td>\n",
       "      <td>0.000000</td>\n",
       "      <td>0.000000</td>\n",
       "      <td>0.000000</td>\n",
       "      <td>0.000000</td>\n",
       "      <td>0.000000</td>\n",
       "      <td>0.000000</td>\n",
       "      <td>...</td>\n",
       "      <td>0.000000</td>\n",
       "      <td>0.000000</td>\n",
       "      <td>0.000000</td>\n",
       "      <td>0.000000</td>\n",
       "      <td>0.000000</td>\n",
       "      <td>0.000000</td>\n",
       "      <td>0.000000</td>\n",
       "      <td>0.000000</td>\n",
       "      <td>0.000000</td>\n",
       "      <td>0.000000</td>\n",
       "    </tr>\n",
       "    <tr>\n",
       "      <th>25%</th>\n",
       "      <td>338.000000</td>\n",
       "      <td>0.183356</td>\n",
       "      <td>0.260425</td>\n",
       "      <td>0.210850</td>\n",
       "      <td>0.280579</td>\n",
       "      <td>0.035714</td>\n",
       "      <td>0.045455</td>\n",
       "      <td>0.062500</td>\n",
       "      <td>0.062500</td>\n",
       "      <td>0.178082</td>\n",
       "      <td>...</td>\n",
       "      <td>0.000000</td>\n",
       "      <td>0.000000</td>\n",
       "      <td>0.000000</td>\n",
       "      <td>0.000000</td>\n",
       "      <td>0.000000</td>\n",
       "      <td>0.000000</td>\n",
       "      <td>0.000000</td>\n",
       "      <td>0.000000</td>\n",
       "      <td>0.000000</td>\n",
       "      <td>0.000000</td>\n",
       "    </tr>\n",
       "    <tr>\n",
       "      <th>50%</th>\n",
       "      <td>654.000000</td>\n",
       "      <td>0.282792</td>\n",
       "      <td>0.400682</td>\n",
       "      <td>0.323659</td>\n",
       "      <td>0.432388</td>\n",
       "      <td>0.107143</td>\n",
       "      <td>0.227273</td>\n",
       "      <td>0.187500</td>\n",
       "      <td>0.171875</td>\n",
       "      <td>0.315068</td>\n",
       "      <td>...</td>\n",
       "      <td>0.000000</td>\n",
       "      <td>0.000000</td>\n",
       "      <td>0.000000</td>\n",
       "      <td>0.000000</td>\n",
       "      <td>0.000000</td>\n",
       "      <td>0.000000</td>\n",
       "      <td>0.000000</td>\n",
       "      <td>0.000000</td>\n",
       "      <td>0.000000</td>\n",
       "      <td>0.000000</td>\n",
       "    </tr>\n",
       "    <tr>\n",
       "      <th>75%</th>\n",
       "      <td>999.000000</td>\n",
       "      <td>0.416079</td>\n",
       "      <td>0.525627</td>\n",
       "      <td>0.459378</td>\n",
       "      <td>0.563514</td>\n",
       "      <td>0.285714</td>\n",
       "      <td>0.410280</td>\n",
       "      <td>0.374731</td>\n",
       "      <td>0.395642</td>\n",
       "      <td>0.421633</td>\n",
       "      <td>...</td>\n",
       "      <td>0.000000</td>\n",
       "      <td>0.000000</td>\n",
       "      <td>0.000000</td>\n",
       "      <td>0.000000</td>\n",
       "      <td>0.000000</td>\n",
       "      <td>0.000000</td>\n",
       "      <td>0.000000</td>\n",
       "      <td>0.000000</td>\n",
       "      <td>0.000000</td>\n",
       "      <td>0.000000</td>\n",
       "    </tr>\n",
       "    <tr>\n",
       "      <th>max</th>\n",
       "      <td>1334.000000</td>\n",
       "      <td>1.000000</td>\n",
       "      <td>1.000000</td>\n",
       "      <td>1.000000</td>\n",
       "      <td>1.000000</td>\n",
       "      <td>1.000000</td>\n",
       "      <td>1.000000</td>\n",
       "      <td>1.000000</td>\n",
       "      <td>1.000000</td>\n",
       "      <td>1.000000</td>\n",
       "      <td>...</td>\n",
       "      <td>1.000000</td>\n",
       "      <td>1.000000</td>\n",
       "      <td>1.000000</td>\n",
       "      <td>1.000000</td>\n",
       "      <td>1.000000</td>\n",
       "      <td>1.000000</td>\n",
       "      <td>1.000000</td>\n",
       "      <td>1.000000</td>\n",
       "      <td>1.000000</td>\n",
       "      <td>1.000000</td>\n",
       "    </tr>\n",
       "  </tbody>\n",
       "</table>\n",
       "<p>8 rows × 98 columns</p>\n",
       "</div>"
      ],
      "text/plain": [
       "                city  median_sale_price  median_list_price    median_ppsf  \\\n",
       "count  156524.000000      156524.000000      156524.000000  156524.000000   \n",
       "mean      660.952525           0.318039           0.405853       0.348040   \n",
       "std       382.638095           0.183165           0.186972       0.176788   \n",
       "min         0.000000           0.000000           0.000000       0.000000   \n",
       "25%       338.000000           0.183356           0.260425       0.210850   \n",
       "50%       654.000000           0.282792           0.400682       0.323659   \n",
       "75%       999.000000           0.416079           0.525627       0.459378   \n",
       "max      1334.000000           1.000000           1.000000       1.000000   \n",
       "\n",
       "       median_list_ppsf     homes_sold  pending_sales   new_listings  \\\n",
       "count     156524.000000  156524.000000  156524.000000  156524.000000   \n",
       "mean           0.429327       0.197229       0.265600       0.243026   \n",
       "std            0.183016       0.211679       0.232848       0.206389   \n",
       "min            0.000000       0.000000       0.000000       0.000000   \n",
       "25%            0.280579       0.035714       0.045455       0.062500   \n",
       "50%            0.432388       0.107143       0.227273       0.187500   \n",
       "75%            0.563514       0.285714       0.410280       0.374731   \n",
       "max            1.000000       1.000000       1.000000       1.000000   \n",
       "\n",
       "           inventory  months_of_supply  ...          42200          42220  \\\n",
       "count  156524.000000     156524.000000  ...  156524.000000  156524.000000   \n",
       "mean        0.238096          0.344376  ...       0.016279       0.032545   \n",
       "std         0.219902          0.206286  ...       0.126545       0.177442   \n",
       "min         0.000000          0.000000  ...       0.000000       0.000000   \n",
       "25%         0.062500          0.178082  ...       0.000000       0.000000   \n",
       "50%         0.171875          0.315068  ...       0.000000       0.000000   \n",
       "75%         0.395642          0.421633  ...       0.000000       0.000000   \n",
       "max         1.000000          1.000000  ...       1.000000       1.000000   \n",
       "\n",
       "               43760          44700          45000          46020  \\\n",
       "count  156524.000000  156524.000000  156524.000000  156524.000000   \n",
       "mean        0.000645       0.023760       0.000460       0.009915   \n",
       "std         0.025394       0.152301       0.021443       0.099082   \n",
       "min         0.000000       0.000000       0.000000       0.000000   \n",
       "25%         0.000000       0.000000       0.000000       0.000000   \n",
       "50%         0.000000       0.000000       0.000000       0.000000   \n",
       "75%         0.000000       0.000000       0.000000       0.000000   \n",
       "max         1.000000       1.000000       1.000000       1.000000   \n",
       "\n",
       "               46380          46700          47300          49700  \n",
       "count  156524.000000  156524.000000  156524.000000  156524.000000  \n",
       "mean        0.000882       0.010427       0.009673       0.011628  \n",
       "std         0.029680       0.101577       0.097873       0.107203  \n",
       "min         0.000000       0.000000       0.000000       0.000000  \n",
       "25%         0.000000       0.000000       0.000000       0.000000  \n",
       "50%         0.000000       0.000000       0.000000       0.000000  \n",
       "75%         0.000000       0.000000       0.000000       0.000000  \n",
       "max         1.000000       1.000000       1.000000       1.000000  \n",
       "\n",
       "[8 rows x 98 columns]"
      ]
     },
     "execution_count": 101,
     "metadata": {},
     "output_type": "execute_result"
    }
   ],
   "source": [
    "df.describe()"
   ]
  },
  {
   "cell_type": "code",
   "execution_count": 102,
   "id": "6662e35b",
   "metadata": {},
   "outputs": [],
   "source": [
    "from sklearn.model_selection import train_test_split\n",
    "from sklearn.linear_model import LogisticRegression\n"
   ]
  },
  {
   "cell_type": "code",
   "execution_count": 103,
   "id": "313f1fc9",
   "metadata": {},
   "outputs": [],
   "source": [
    "y = df['quality']\n",
    "X = df.drop('quality',axis=1)\n",
    "#, x_test, y_train, y_test = train_test_split(X, y, test_size=0.70, random_state=42)\n",
    "X_train, X_test, y_train, y_test = train_test_split(X, y, test_size=0.1, random_state=1)\n",
    "\n",
    "X_train, X_val, y_train, y_val = train_test_split(X_train, y_train, test_size=0.1, random_state=1) # 0.25 x 0.8 = 0.2"
   ]
  },
  {
   "cell_type": "code",
   "execution_count": 104,
   "id": "d9a87aa0",
   "metadata": {},
   "outputs": [
    {
     "name": "stdout",
     "output_type": "stream",
     "text": [
      "126783\n",
      "15653\n",
      "126783\n",
      "15653\n",
      "14088\n",
      "14088\n"
     ]
    }
   ],
   "source": [
    "print(len(X_train))\n",
    "print(len(X_test))\n",
    "print(len(y_train))\n",
    "print(len(y_test))\n",
    "print(len(y_val))\n",
    "print(len(X_val))"
   ]
  },
  {
   "cell_type": "markdown",
   "id": "cc3d2d08",
   "metadata": {},
   "source": [
    "logistic regression predicts if something is true or false,curve goes from 0 to1 and it tells the probability and is usally used for classification problem"
   ]
  },
  {
   "cell_type": "code",
   "execution_count": 105,
   "id": "52cbe82d",
   "metadata": {},
   "outputs": [],
   "source": [
    "model = LogisticRegression()"
   ]
  },
  {
   "cell_type": "code",
   "execution_count": 106,
   "id": "083c7e19",
   "metadata": {},
   "outputs": [
    {
     "name": "stderr",
     "output_type": "stream",
     "text": [
      "C:\\Users\\saumy\\anaconda3\\lib\\site-packages\\sklearn\\utils\\validation.py:1688: FutureWarning: Feature names only support names that are all strings. Got feature names with dtypes: ['int', 'str']. An error will be raised in 1.2.\n",
      "  warnings.warn(\n",
      "C:\\Users\\saumy\\anaconda3\\lib\\site-packages\\sklearn\\linear_model\\_logistic.py:814: ConvergenceWarning: lbfgs failed to converge (status=1):\n",
      "STOP: TOTAL NO. of ITERATIONS REACHED LIMIT.\n",
      "\n",
      "Increase the number of iterations (max_iter) or scale the data as shown in:\n",
      "    https://scikit-learn.org/stable/modules/preprocessing.html\n",
      "Please also refer to the documentation for alternative solver options:\n",
      "    https://scikit-learn.org/stable/modules/linear_model.html#logistic-regression\n",
      "  n_iter_i = _check_optimize_result(\n",
      "C:\\Users\\saumy\\anaconda3\\lib\\site-packages\\sklearn\\utils\\validation.py:1688: FutureWarning: Feature names only support names that are all strings. Got feature names with dtypes: ['int', 'str']. An error will be raised in 1.2.\n",
      "  warnings.warn(\n"
     ]
    }
   ],
   "source": [
    "model.fit(X_train,y_train)\n",
    "y_pred = model.predict(X_test)\n"
   ]
  },
  {
   "cell_type": "code",
   "execution_count": 107,
   "id": "37fb4702",
   "metadata": {},
   "outputs": [],
   "source": [
    "from sklearn.metrics import classification_report"
   ]
  },
  {
   "cell_type": "code",
   "execution_count": 108,
   "id": "806adf07",
   "metadata": {},
   "outputs": [],
   "source": [
    "#print(classification_report(y_test,y_pred))"
   ]
  },
  {
   "cell_type": "code",
   "execution_count": 109,
   "id": "f3d2c3fc",
   "metadata": {},
   "outputs": [
    {
     "name": "stdout",
     "output_type": "stream",
     "text": [
      "              precision    recall  f1-score   support\n",
      "\n",
      "           0       0.63      0.62      0.62      4486\n",
      "           1       0.51      0.45      0.48      4997\n",
      "           2       0.71      0.79      0.74      6170\n",
      "\n",
      "    accuracy                           0.63     15653\n",
      "   macro avg       0.62      0.62      0.62     15653\n",
      "weighted avg       0.62      0.63      0.63     15653\n",
      "\n"
     ]
    }
   ],
   "source": [
    "print(classification_report(y_test, y_pred))"
   ]
  },
  {
   "cell_type": "code",
   "execution_count": 110,
   "id": "25498578",
   "metadata": {},
   "outputs": [
    {
     "name": "stderr",
     "output_type": "stream",
     "text": [
      "C:\\Users\\saumy\\anaconda3\\lib\\site-packages\\sklearn\\utils\\validation.py:1688: FutureWarning: Feature names only support names that are all strings. Got feature names with dtypes: ['int', 'str']. An error will be raised in 1.2.\n",
      "  warnings.warn(\n",
      "C:\\Users\\saumy\\anaconda3\\lib\\site-packages\\sklearn\\linear_model\\_logistic.py:814: ConvergenceWarning: lbfgs failed to converge (status=1):\n",
      "STOP: TOTAL NO. of ITERATIONS REACHED LIMIT.\n",
      "\n",
      "Increase the number of iterations (max_iter) or scale the data as shown in:\n",
      "    https://scikit-learn.org/stable/modules/preprocessing.html\n",
      "Please also refer to the documentation for alternative solver options:\n",
      "    https://scikit-learn.org/stable/modules/linear_model.html#logistic-regression\n",
      "  n_iter_i = _check_optimize_result(\n",
      "C:\\Users\\saumy\\anaconda3\\lib\\site-packages\\sklearn\\utils\\validation.py:1688: FutureWarning: Feature names only support names that are all strings. Got feature names with dtypes: ['int', 'str']. An error will be raised in 1.2.\n",
      "  warnings.warn(\n"
     ]
    }
   ],
   "source": [
    "model.fit(X_train,y_train)\n",
    "y_pred = model.predict(X_val)\n"
   ]
  },
  {
   "cell_type": "code",
   "execution_count": 111,
   "id": "a27df2f2",
   "metadata": {},
   "outputs": [
    {
     "name": "stdout",
     "output_type": "stream",
     "text": [
      "              precision    recall  f1-score   support\n",
      "\n",
      "           0       0.63      0.61      0.62      4029\n",
      "           1       0.50      0.46      0.48      4446\n",
      "           2       0.73      0.79      0.75      5613\n",
      "\n",
      "    accuracy                           0.63     14088\n",
      "   macro avg       0.62      0.62      0.62     14088\n",
      "weighted avg       0.63      0.63      0.63     14088\n",
      "\n"
     ]
    }
   ],
   "source": [
    "print(classification_report(y_val, y_pred))"
   ]
  },
  {
   "cell_type": "markdown",
   "id": "ae520fc7",
   "metadata": {},
   "source": [
    "\n",
    "# Performing feature reduction using PCA"
   ]
  },
  {
   "cell_type": "code",
   "execution_count": 112,
   "id": "a6785ea1",
   "metadata": {},
   "outputs": [],
   "source": [
    "from sklearn.decomposition import PCA"
   ]
  },
  {
   "cell_type": "code",
   "execution_count": 114,
   "id": "032100e1",
   "metadata": {},
   "outputs": [
    {
     "name": "stderr",
     "output_type": "stream",
     "text": [
      "C:\\Users\\saumy\\anaconda3\\lib\\site-packages\\sklearn\\utils\\validation.py:1688: FutureWarning: Feature names only support names that are all strings. Got feature names with dtypes: ['int', 'str']. An error will be raised in 1.2.\n",
      "  warnings.warn(\n"
     ]
    }
   ],
   "source": [
    "pca = PCA(n_components = 18)\n",
    "pca.fit(X_train)\n",
    "variance = pca.explained_variance_ratio_"
   ]
  },
  {
   "cell_type": "code",
   "execution_count": 115,
   "id": "ab55da9a",
   "metadata": {},
   "outputs": [
    {
     "name": "stderr",
     "output_type": "stream",
     "text": [
      "C:\\Users\\saumy\\anaconda3\\lib\\site-packages\\sklearn\\utils\\validation.py:1688: FutureWarning: Feature names only support names that are all strings. Got feature names with dtypes: ['int', 'str']. An error will be raised in 1.2.\n",
      "  warnings.warn(\n",
      "C:\\Users\\saumy\\anaconda3\\lib\\site-packages\\sklearn\\utils\\validation.py:1688: FutureWarning: Feature names only support names that are all strings. Got feature names with dtypes: ['int', 'str']. An error will be raised in 1.2.\n",
      "  warnings.warn(\n"
     ]
    }
   ],
   "source": [
    "X_train_reduced = pca.fit_transform(X_train)\n",
    "X_test_reduced = pca.transform(X_test)\n",
    "explained_variance = pca.explained_variance_ratio_"
   ]
  },
  {
   "cell_type": "code",
   "execution_count": 116,
   "id": "014afce9",
   "metadata": {},
   "outputs": [
    {
     "name": "stdout",
     "output_type": "stream",
     "text": [
      "126783\n",
      "15653\n",
      "126783\n",
      "15653\n",
      "14088\n",
      "14088\n"
     ]
    }
   ],
   "source": [
    "print(len(X_train_reduced))\n",
    "print(len(X_test_reduced))\n",
    "print(len(y_train))\n",
    "print(len(y_test))\n",
    "print(len(y_val))\n",
    "print(len(X_val))"
   ]
  },
  {
   "cell_type": "code",
   "execution_count": 117,
   "id": "c847d4a7",
   "metadata": {},
   "outputs": [
    {
     "data": {
      "text/plain": [
       "0.9999935370813446"
      ]
     },
     "execution_count": 117,
     "metadata": {},
     "output_type": "execute_result"
    }
   ],
   "source": [
    "pca.explained_variance_ratio_.sum()"
   ]
  },
  {
   "cell_type": "code",
   "execution_count": 118,
   "id": "fccc3bf5",
   "metadata": {},
   "outputs": [
    {
     "name": "stderr",
     "output_type": "stream",
     "text": [
      "C:\\Users\\saumy\\anaconda3\\lib\\site-packages\\sklearn\\linear_model\\_logistic.py:814: ConvergenceWarning: lbfgs failed to converge (status=1):\n",
      "STOP: TOTAL NO. of ITERATIONS REACHED LIMIT.\n",
      "\n",
      "Increase the number of iterations (max_iter) or scale the data as shown in:\n",
      "    https://scikit-learn.org/stable/modules/preprocessing.html\n",
      "Please also refer to the documentation for alternative solver options:\n",
      "    https://scikit-learn.org/stable/modules/linear_model.html#logistic-regression\n",
      "  n_iter_i = _check_optimize_result(\n"
     ]
    }
   ],
   "source": [
    "#Fitting Logistic Regression to the Training set\n",
    "model.fit(X_train_reduced, y_train)\n",
    "#Predicting the Test set results\n",
    "y_pred = model.predict(X_test_reduced)"
   ]
  },
  {
   "cell_type": "code",
   "execution_count": 119,
   "id": "90c7298f",
   "metadata": {},
   "outputs": [
    {
     "name": "stdout",
     "output_type": "stream",
     "text": [
      "              precision    recall  f1-score   support\n",
      "\n",
      "           0       0.56      0.52      0.54      4486\n",
      "           1       0.50      0.35      0.41      4997\n",
      "           2       0.58      0.74      0.65      6170\n",
      "\n",
      "    accuracy                           0.55     15653\n",
      "   macro avg       0.54      0.54      0.53     15653\n",
      "weighted avg       0.55      0.55      0.54     15653\n",
      "\n"
     ]
    }
   ],
   "source": [
    "print(classification_report(y_test, y_pred))"
   ]
  },
  {
   "cell_type": "code",
   "execution_count": 120,
   "id": "283b9822",
   "metadata": {},
   "outputs": [],
   "source": [
    "from sklearn.linear_model import Ridge\n",
    "from sklearn.linear_model import Lasso"
   ]
  },
  {
   "cell_type": "code",
   "execution_count": 121,
   "id": "aaa8affe",
   "metadata": {},
   "outputs": [],
   "source": [
    "\n",
    "lasso = Lasso(alpha=1.0)"
   ]
  },
  {
   "cell_type": "code",
   "execution_count": 122,
   "id": "f156f3d1",
   "metadata": {},
   "outputs": [
    {
     "name": "stderr",
     "output_type": "stream",
     "text": [
      "C:\\Users\\saumy\\anaconda3\\lib\\site-packages\\sklearn\\utils\\validation.py:1688: FutureWarning: Feature names only support names that are all strings. Got feature names with dtypes: ['int', 'str']. An error will be raised in 1.2.\n",
      "  warnings.warn(\n"
     ]
    },
    {
     "data": {
      "text/plain": [
       "Lasso()"
      ]
     },
     "execution_count": 122,
     "metadata": {},
     "output_type": "execute_result"
    }
   ],
   "source": [
    "lasso.fit(X_train, y_train)"
   ]
  },
  {
   "cell_type": "code",
   "execution_count": 123,
   "id": "f526049e",
   "metadata": {},
   "outputs": [
    {
     "name": "stdout",
     "output_type": "stream",
     "text": [
      "9.528942473946422e-05\n",
      "0.00010191904363421322\n"
     ]
    },
    {
     "name": "stderr",
     "output_type": "stream",
     "text": [
      "C:\\Users\\saumy\\anaconda3\\lib\\site-packages\\sklearn\\utils\\validation.py:1688: FutureWarning: Feature names only support names that are all strings. Got feature names with dtypes: ['int', 'str']. An error will be raised in 1.2.\n",
      "  warnings.warn(\n",
      "C:\\Users\\saumy\\anaconda3\\lib\\site-packages\\sklearn\\utils\\validation.py:1688: FutureWarning: Feature names only support names that are all strings. Got feature names with dtypes: ['int', 'str']. An error will be raised in 1.2.\n",
      "  warnings.warn(\n",
      "C:\\Users\\saumy\\anaconda3\\lib\\site-packages\\sklearn\\utils\\validation.py:1688: FutureWarning: Feature names only support names that are all strings. Got feature names with dtypes: ['int', 'str']. An error will be raised in 1.2.\n",
      "  warnings.warn(\n"
     ]
    }
   ],
   "source": [
    "lasso.score(X_test, y_test)\n",
    "print(lasso.score(X_test, y_test))\n",
    "print(lasso.score(X_train, y_train))\n"
   ]
  },
  {
   "cell_type": "code",
   "execution_count": 124,
   "id": "c2f221b4",
   "metadata": {},
   "outputs": [],
   "source": [
    "Ridge=Ridge(alpha=1.0)"
   ]
  },
  {
   "cell_type": "raw",
   "id": "3c7750aa",
   "metadata": {},
   "source": []
  },
  {
   "cell_type": "code",
   "execution_count": null,
   "id": "24cf47a3",
   "metadata": {},
   "outputs": [],
   "source": []
  }
 ],
 "metadata": {
  "kernelspec": {
   "display_name": "Python 3 (ipykernel)",
   "language": "python",
   "name": "python3"
  },
  "language_info": {
   "codemirror_mode": {
    "name": "ipython",
    "version": 3
   },
   "file_extension": ".py",
   "mimetype": "text/x-python",
   "name": "python",
   "nbconvert_exporter": "python",
   "pygments_lexer": "ipython3",
   "version": "3.9.12"
  }
 },
 "nbformat": 4,
 "nbformat_minor": 5
}
